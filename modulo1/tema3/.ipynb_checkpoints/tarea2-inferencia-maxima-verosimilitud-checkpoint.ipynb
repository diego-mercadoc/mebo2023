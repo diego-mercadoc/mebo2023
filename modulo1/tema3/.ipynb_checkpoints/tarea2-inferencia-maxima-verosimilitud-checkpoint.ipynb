{
 "cells": [
  {
   "cell_type": "markdown",
   "metadata": {},
   "source": [
    "# Tarea 2. Inferencia básica y máxima verosimilitud\n",
    "\n",
    "<img style=\"float: right; margin: 0px 0px 15px 15px;\" src=\"https://storage.needpix.com/rsynced_images/bayesian-2889576_1280.png\" width=\"200px\" height=\"180px\" />\n",
    "\n",
    "En esta segunda tarea, repasarás algunos ejercicios de inferencia en modelos probabilísticos básicos. Además, tendrás la oportunidad de mostrar como estimar los parámetros de una distribución normal. Finalmente explorarás cómo es el producto de dos densidades normales.\n",
    "\n",
    "Por favor, intenta ser lo más explícit@ posible, y en lo posible, apóyate de la escritura matemática con $\\LaTeX$.\n",
    "\n",
    "Recuerda además que ante cualquier duda, me puedes contactar al correo esjimenezro@iteso.mx.\n",
    "\n",
    "<p style=\"text-align:right;\"> Imagen recuperada de: https://storage.needpix.com/rsynced_images/bayesian-2889576_1280.png.</p>\n",
    "\n",
    "___"
   ]
  },
  {
   "cell_type": "markdown",
   "metadata": {},
   "source": [
    "## 1. \n",
    "\n",
    "Estudiar los ejemplos 1.3, 1.4, 1.8, 1.9, y 1.10 de la sección **1.2 Probabilistic Reasoning** del libro Bayesian Reasoning and Machine Learning by David Barber. Cap. 1."
   ]
  },
  {
   "cell_type": "markdown",
   "metadata": {},
   "source": []
  },
  {
   "cell_type": "markdown",
   "metadata": {},
   "source": []
  },
  {
   "cell_type": "markdown",
   "metadata": {},
   "source": []
  },
  {
   "cell_type": "markdown",
   "metadata": {},
   "source": [
    "## 2.\n",
    "\n",
    "Consideramos un conjunto de datos \n",
    "\n",
    "$$\n",
    "\\mathcal{D} = \\{x_1, \\dots, x_N\\}\n",
    "$$\n",
    "\n",
    "independientes e idénticamente distribuidos, los cuales suponemos que provienen de una distribución normal $\\mathcal{N}(\\mu, \\sigma^2)$.\n",
    "\n",
    "Muestre que los estimadores de máxima verosimilitud para los parámetros $\\mu$ y $\\sigma^2$ son:\n",
    "\n",
    "$$\\hat{\\mu}_{MLE} = \\frac{1}{N} \\sum_{j=1}^{N}x_j \\qquad \\text{y} \\qquad \\hat{\\sigma}_{MLE}^2 = \\frac{1}{N}\\sum_{j=1}^{N}(x_j-\\hat{\\mu}_{MLE})^2.$$"
   ]
  },
  {
   "cell_type": "markdown",
   "metadata": {},
   "source": []
  },
  {
   "cell_type": "markdown",
   "metadata": {},
   "source": []
  },
  {
   "cell_type": "markdown",
   "metadata": {},
   "source": []
  },
  {
   "cell_type": "markdown",
   "metadata": {},
   "source": [
    "## 3.\n",
    "\n",
    "Sean $f(x) = \\mathcal{N}(x | \\mu_1, \\sigma_1^2) = \\frac{1}{\\sqrt{2 \\pi \\sigma_1^2}} \\exp\\left\\{-\\frac{(x - \\mu_1)^2}{2\\sigma_1^2}\\right\\}$, y $g(x) = \\mathcal{N}(x | \\mu_2, \\sigma_2^2) = \\frac{1}{\\sqrt{2 \\pi \\sigma_2^2}} \\exp\\left\\{-\\frac{(x - \\mu_2)^2}{2\\sigma_2^2}\\right\\}$ dos densidades de VA normales.\n",
    "\n",
    "Demostrar que $f(x)g(x) = \\mathcal{N}(x | \\mu_1, \\sigma_1^2)\\mathcal{N}(x | \\mu_2, \\sigma_2^2) \\propto \\mathcal{N}(x | \\mu_3, \\sigma_3^2)$ es proporcional una densidad de una VA normal, donde\n",
    "\n",
    "$$\n",
    "\\mu_3 = \\frac{\\mu_1 \\sigma_2^2 + \\mu_2 \\sigma_1^2}{\\sigma_1^2+ \\sigma_2^2}, \\qquad \\sigma_3^2 = \\frac{\\sigma_1^2\\sigma_2^2}{\\sigma_1^2+ \\sigma_2^2}\n",
    "$$"
   ]
  },
  {
   "cell_type": "markdown",
   "metadata": {},
   "source": []
  },
  {
   "cell_type": "markdown",
   "metadata": {},
   "source": []
  },
  {
   "cell_type": "markdown",
   "metadata": {},
   "source": []
  },
  {
   "cell_type": "markdown",
   "metadata": {},
   "source": [
    "<script>\n",
    "  $(document).ready(function(){\n",
    "    $('div.prompt').hide();\n",
    "    $('div.back-to-top').hide();\n",
    "    $('nav#menubar').hide();\n",
    "    $('.breadcrumb').hide();\n",
    "    $('.hidden-print').hide();\n",
    "  });\n",
    "</script>\n",
    "\n",
    "<footer id=\"attribution\" style=\"float:right; color:#808080; background:#fff;\">\n",
    "Created with Jupyter by Esteban Jiménez Rodríguez.\n",
    "</footer>"
   ]
  }
 ],
 "metadata": {
  "kernelspec": {
   "display_name": "Python 3",
   "language": "python",
   "name": "python3"
  },
  "language_info": {
   "codemirror_mode": {
    "name": "ipython",
    "version": 3
   },
   "file_extension": ".py",
   "mimetype": "text/x-python",
   "name": "python",
   "nbconvert_exporter": "python",
   "pygments_lexer": "ipython3",
   "version": "3.7.6"
  }
 },
 "nbformat": 4,
 "nbformat_minor": 4
}
