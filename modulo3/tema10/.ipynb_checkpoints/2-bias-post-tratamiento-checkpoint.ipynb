{
 "cells": [
  {
   "cell_type": "markdown",
   "id": "27914566-1838-48ff-91e0-00f65938eee8",
   "metadata": {},
   "source": [
    "# Bias de post-tratamiento\n",
    "\n",
    "> Bias: a systematic distortion of a statistical result due to a factor not allowed for in its derivation.\n",
    "\n",
    "Es común preocuparse por inferencias erróneas producidas por omitir los predictores suficientes. Este tipo de errores se les llama **bias de omisión de variables**, y lo que vimos en el tema anterior nos da una muestra de lo que puede suceder.\n",
    "\n",
    "Sin embargo, no es común preocuparse por inferencias erróneas por incluir predictores. Sin embargo, el **bias de inclusión de variables** es real. Meter todas las variables en nuestro modelo no es una buena idea.\n",
    "\n",
    "Este tipo de bias se puede presentar en varias formas. La primera que veremos es el **bias de post-tratamiento**.\n",
    "\n",
    "> **Objetivos:**\n",
    "> - Entender el problema de bias de post-tratamiento.\n",
    "\n",
    "\n",
    "> **Referencias:**\n",
    "> \n",
    "> - Statistical Rethinking: A Bayesian Course with Examples in R and Stan (2nd edition) - Richard McElreath."
   ]
  },
  {
   "cell_type": "markdown",
   "id": "47ecce4f-ea0f-4db2-b2a0-b4992b6fdfee",
   "metadata": {},
   "source": [
    "## 1. Bias de post-tratamiento\n",
    "\n",
    "La palabra post-tratamiento proviene de la idea de diseño de experimentos.\n",
    "\n",
    "Supongamos que cultivamos plantas en un invernadero, y queremos saber la diferencia entre cultivarlas bajo los efectos de diferentes fungicidas, dado que los hongos en las plantas suelen reducir su crecimiento.\n",
    "\n",
    "Inicialmente las plantas son sembradas, y luego brotan, momento en el cual sus tamaños son medidos. Los diferentes tratamientos son llevados a cabo. Después, se miden sus tamaños finales así como la presencia de hongos.\n",
    "\n",
    "Nuestras variables son entonces:\n",
    "\n",
    "* Altura inicial\n",
    "* Altura final -> Resultado\n",
    "* Tratamiento\n",
    "* Presencia de hongos\n",
    "\n",
    "¿Cuáles de estas variables deberíamos incluir en un modelo para predecir la altura final de las plantas? Sucede que si queremos razonar de manera causal, no deberíamos incluir la variable de presencia de hongos, dado que es un efecto post-tratamiento.\n",
    "\n",
    "Veamos esto con datos simulados:"
   ]
  },
  {
   "cell_type": "code",
   "execution_count": 2,
   "id": "f801d7d0-8a9a-41ef-838b-ca8283a200c7",
   "metadata": {},
   "outputs": [],
   "source": [
    "# Importar scipy.stats norm, binom\n",
    "from scipy.stats import norm, binom\n",
    "# Importar numpy\n",
    "import numpy as np\n",
    "# Importar pandas\n",
    "import pandas as pd"
   ]
  },
  {
   "cell_type": "code",
   "execution_count": 3,
   "id": "275152c0-4286-4624-bd1f-4a15aa6bccc3",
   "metadata": {
    "scrolled": true
   },
   "outputs": [
    {
     "data": {
      "text/plain": [
       "\u001b[0;31mSignature:\u001b[0m       \u001b[0mbinom\u001b[0m\u001b[0;34m(\u001b[0m\u001b[0;34m*\u001b[0m\u001b[0margs\u001b[0m\u001b[0;34m,\u001b[0m \u001b[0;34m**\u001b[0m\u001b[0mkwds\u001b[0m\u001b[0;34m)\u001b[0m\u001b[0;34m\u001b[0m\u001b[0;34m\u001b[0m\u001b[0m\n",
       "\u001b[0;31mType:\u001b[0m            binom_gen\n",
       "\u001b[0;31mString form:\u001b[0m     <scipy.stats._discrete_distns.binom_gen object at 0x7f6e3e28c8e0>\n",
       "\u001b[0;31mFile:\u001b[0m            ~/anaconda3/envs/stat-rethink2-pymc_v4/lib/python3.10/site-packages/scipy/stats/_discrete_distns.py\n",
       "\u001b[0;31mDocstring:\u001b[0m      \n",
       "A binomial discrete random variable.\n",
       "\n",
       "As an instance of the `rv_discrete` class, `binom` object inherits from it\n",
       "a collection of generic methods (see below for the full list),\n",
       "and completes them with details specific for this particular distribution.\n",
       "\n",
       "Methods\n",
       "-------\n",
       "rvs(n, p, loc=0, size=1, random_state=None)\n",
       "    Random variates.\n",
       "pmf(k, n, p, loc=0)\n",
       "    Probability mass function.\n",
       "logpmf(k, n, p, loc=0)\n",
       "    Log of the probability mass function.\n",
       "cdf(k, n, p, loc=0)\n",
       "    Cumulative distribution function.\n",
       "logcdf(k, n, p, loc=0)\n",
       "    Log of the cumulative distribution function.\n",
       "sf(k, n, p, loc=0)\n",
       "    Survival function  (also defined as ``1 - cdf``, but `sf` is sometimes more accurate).\n",
       "logsf(k, n, p, loc=0)\n",
       "    Log of the survival function.\n",
       "ppf(q, n, p, loc=0)\n",
       "    Percent point function (inverse of ``cdf`` --- percentiles).\n",
       "isf(q, n, p, loc=0)\n",
       "    Inverse survival function (inverse of ``sf``).\n",
       "stats(n, p, loc=0, moments='mv')\n",
       "    Mean('m'), variance('v'), skew('s'), and/or kurtosis('k').\n",
       "entropy(n, p, loc=0)\n",
       "    (Differential) entropy of the RV.\n",
       "expect(func, args=(n, p), loc=0, lb=None, ub=None, conditional=False)\n",
       "    Expected value of a function (of one argument) with respect to the distribution.\n",
       "median(n, p, loc=0)\n",
       "    Median of the distribution.\n",
       "mean(n, p, loc=0)\n",
       "    Mean of the distribution.\n",
       "var(n, p, loc=0)\n",
       "    Variance of the distribution.\n",
       "std(n, p, loc=0)\n",
       "    Standard deviation of the distribution.\n",
       "interval(alpha, n, p, loc=0)\n",
       "    Endpoints of the range that contains fraction alpha [0, 1] of the\n",
       "    distribution\n",
       "\n",
       "Notes\n",
       "-----\n",
       "The probability mass function for `binom` is:\n",
       "\n",
       ".. math::\n",
       "\n",
       "   f(k) = \\binom{n}{k} p^k (1-p)^{n-k}\n",
       "\n",
       "for :math:`k \\in \\{0, 1, \\dots, n\\}`, :math:`0 \\leq p \\leq 1`\n",
       "\n",
       "`binom` takes :math:`n` and :math:`p` as shape parameters,\n",
       "where :math:`p` is the probability of a single success\n",
       "and :math:`1-p` is the probability of a single failure.\n",
       "\n",
       "The probability mass function above is defined in the \"standardized\" form.\n",
       "To shift distribution use the ``loc`` parameter.\n",
       "Specifically, ``binom.pmf(k, n, p, loc)`` is identically\n",
       "equivalent to ``binom.pmf(k - loc, n, p)``.\n",
       "\n",
       "Examples\n",
       "--------\n",
       ">>> from scipy.stats import binom\n",
       ">>> import matplotlib.pyplot as plt\n",
       ">>> fig, ax = plt.subplots(1, 1)\n",
       "\n",
       "Calculate the first four moments:\n",
       "\n",
       ">>> n, p = 5, 0.4\n",
       ">>> mean, var, skew, kurt = binom.stats(n, p, moments='mvsk')\n",
       "\n",
       "Display the probability mass function (``pmf``):\n",
       "\n",
       ">>> x = np.arange(binom.ppf(0.01, n, p),\n",
       "...               binom.ppf(0.99, n, p))\n",
       ">>> ax.plot(x, binom.pmf(x, n, p), 'bo', ms=8, label='binom pmf')\n",
       ">>> ax.vlines(x, 0, binom.pmf(x, n, p), colors='b', lw=5, alpha=0.5)\n",
       "\n",
       "Alternatively, the distribution object can be called (as a function)\n",
       "to fix the shape and location. This returns a \"frozen\" RV object holding\n",
       "the given parameters fixed.\n",
       "\n",
       "Freeze the distribution and display the frozen ``pmf``:\n",
       "\n",
       ">>> rv = binom(n, p)\n",
       ">>> ax.vlines(x, 0, rv.pmf(x), colors='k', linestyles='-', lw=1,\n",
       "...         label='frozen pmf')\n",
       ">>> ax.legend(loc='best', frameon=False)\n",
       ">>> plt.show()\n",
       "\n",
       "Check accuracy of ``cdf`` and ``ppf``:\n",
       "\n",
       ">>> prob = binom.cdf(x, n, p)\n",
       ">>> np.allclose(x, binom.ppf(prob, n, p))\n",
       "True\n",
       "\n",
       "Generate random numbers:\n",
       "\n",
       ">>> r = binom.rvs(n, p, size=1000)\n",
       "\n",
       "See Also\n",
       "--------\n",
       "hypergeom, nbinom, nhypergeom\n",
       "\u001b[0;31mClass docstring:\u001b[0m\n",
       "A binomial discrete random variable.\n",
       "\n",
       "%(before_notes)s\n",
       "\n",
       "Notes\n",
       "-----\n",
       "The probability mass function for `binom` is:\n",
       "\n",
       ".. math::\n",
       "\n",
       "   f(k) = \\binom{n}{k} p^k (1-p)^{n-k}\n",
       "\n",
       "for :math:`k \\in \\{0, 1, \\dots, n\\}`, :math:`0 \\leq p \\leq 1`\n",
       "\n",
       "`binom` takes :math:`n` and :math:`p` as shape parameters,\n",
       "where :math:`p` is the probability of a single success\n",
       "and :math:`1-p` is the probability of a single failure.\n",
       "\n",
       "%(after_notes)s\n",
       "\n",
       "%(example)s\n",
       "\n",
       "See Also\n",
       "--------\n",
       "hypergeom, nbinom, nhypergeom\n",
       "\u001b[0;31mCall docstring:\u001b[0m \n",
       "Freeze the distribution for the given arguments.\n",
       "\n",
       "Parameters\n",
       "----------\n",
       "arg1, arg2, arg3,... : array_like\n",
       "    The shape parameter(s) for the distribution.  Should include all\n",
       "    the non-optional arguments, may include ``loc`` and ``scale``.\n",
       "\n",
       "Returns\n",
       "-------\n",
       "rv_frozen : rv_frozen instance\n",
       "    The frozen distribution."
      ]
     },
     "metadata": {},
     "output_type": "display_data"
    }
   ],
   "source": [
    "binom?"
   ]
  },
  {
   "cell_type": "code",
   "execution_count": 4,
   "id": "9656e2ab-5ed7-424f-9e72-a8813a57e845",
   "metadata": {},
   "outputs": [],
   "source": [
    "# Número de plantas\n",
    "n_plants = 100\n",
    "# Alturas iniciales\n",
    "h_start = norm.rvs(size=n_plants, loc=10, scale=2)\n",
    "# Simulamos tratamiento para la mitad de las plantas\n",
    "treatment = np.concatenate((\n",
    "    np.zeros(n_plants // 2),  # No tratamos la mitad de las plantas\n",
    "    np.ones(n_plants // 2)  # Tratamos la mitad de las plantas\n",
    "))\n",
    "# Simulamos presencia de hongos\n",
    "fungus = binom.rvs(n=1, p=0.5 - treatment * 0.4, size=n_plants)\n",
    "# Simulamos altura final\n",
    "h_end = h_start + norm.rvs(size=n_plants, loc=5 - 3 * fungus)\n",
    "# Dataframe\n",
    "plants_data = pd.DataFrame({\n",
    "    \"h_start\": h_start,\n",
    "    \"treatment\": treatment,\n",
    "    \"fungus\": fungus,\n",
    "    \"h_end\": h_end\n",
    "})"
   ]
  },
  {
   "cell_type": "code",
   "execution_count": 5,
   "id": "d13ef70f-1587-4e32-b288-18ec99279d0d",
   "metadata": {},
   "outputs": [
    {
     "data": {
      "text/html": [
       "<div>\n",
       "<style scoped>\n",
       "    .dataframe tbody tr th:only-of-type {\n",
       "        vertical-align: middle;\n",
       "    }\n",
       "\n",
       "    .dataframe tbody tr th {\n",
       "        vertical-align: top;\n",
       "    }\n",
       "\n",
       "    .dataframe thead th {\n",
       "        text-align: right;\n",
       "    }\n",
       "</style>\n",
       "<table border=\"1\" class=\"dataframe\">\n",
       "  <thead>\n",
       "    <tr style=\"text-align: right;\">\n",
       "      <th></th>\n",
       "      <th>h_start</th>\n",
       "      <th>treatment</th>\n",
       "      <th>fungus</th>\n",
       "      <th>h_end</th>\n",
       "    </tr>\n",
       "  </thead>\n",
       "  <tbody>\n",
       "    <tr>\n",
       "      <th>0</th>\n",
       "      <td>12.478084</td>\n",
       "      <td>0.0</td>\n",
       "      <td>1</td>\n",
       "      <td>11.951203</td>\n",
       "    </tr>\n",
       "    <tr>\n",
       "      <th>1</th>\n",
       "      <td>9.610992</td>\n",
       "      <td>0.0</td>\n",
       "      <td>1</td>\n",
       "      <td>11.122592</td>\n",
       "    </tr>\n",
       "    <tr>\n",
       "      <th>2</th>\n",
       "      <td>10.152015</td>\n",
       "      <td>0.0</td>\n",
       "      <td>0</td>\n",
       "      <td>14.203312</td>\n",
       "    </tr>\n",
       "    <tr>\n",
       "      <th>3</th>\n",
       "      <td>12.782609</td>\n",
       "      <td>0.0</td>\n",
       "      <td>1</td>\n",
       "      <td>14.742187</td>\n",
       "    </tr>\n",
       "    <tr>\n",
       "      <th>4</th>\n",
       "      <td>9.729578</td>\n",
       "      <td>0.0</td>\n",
       "      <td>0</td>\n",
       "      <td>15.360294</td>\n",
       "    </tr>\n",
       "  </tbody>\n",
       "</table>\n",
       "</div>"
      ],
      "text/plain": [
       "     h_start  treatment  fungus      h_end\n",
       "0  12.478084        0.0       1  11.951203\n",
       "1   9.610992        0.0       1  11.122592\n",
       "2  10.152015        0.0       0  14.203312\n",
       "3  12.782609        0.0       1  14.742187\n",
       "4   9.729578        0.0       0  15.360294"
      ]
     },
     "execution_count": 5,
     "metadata": {},
     "output_type": "execute_result"
    }
   ],
   "source": [
    "# método head\n",
    "plants_data.head()"
   ]
  },
  {
   "cell_type": "code",
   "execution_count": 6,
   "id": "955abb84-a462-49e0-a9d0-b3e8ac3a1153",
   "metadata": {},
   "outputs": [
    {
     "data": {
      "text/html": [
       "<div>\n",
       "<style scoped>\n",
       "    .dataframe tbody tr th:only-of-type {\n",
       "        vertical-align: middle;\n",
       "    }\n",
       "\n",
       "    .dataframe tbody tr th {\n",
       "        vertical-align: top;\n",
       "    }\n",
       "\n",
       "    .dataframe thead th {\n",
       "        text-align: right;\n",
       "    }\n",
       "</style>\n",
       "<table border=\"1\" class=\"dataframe\">\n",
       "  <thead>\n",
       "    <tr style=\"text-align: right;\">\n",
       "      <th></th>\n",
       "      <th>h_start</th>\n",
       "      <th>treatment</th>\n",
       "      <th>fungus</th>\n",
       "      <th>h_end</th>\n",
       "    </tr>\n",
       "  </thead>\n",
       "  <tbody>\n",
       "    <tr>\n",
       "      <th>count</th>\n",
       "      <td>100.000000</td>\n",
       "      <td>100.000000</td>\n",
       "      <td>100.000000</td>\n",
       "      <td>100.000000</td>\n",
       "    </tr>\n",
       "    <tr>\n",
       "      <th>mean</th>\n",
       "      <td>9.995952</td>\n",
       "      <td>0.500000</td>\n",
       "      <td>0.230000</td>\n",
       "      <td>14.293995</td>\n",
       "    </tr>\n",
       "    <tr>\n",
       "      <th>std</th>\n",
       "      <td>1.806028</td>\n",
       "      <td>0.502519</td>\n",
       "      <td>0.422953</td>\n",
       "      <td>2.424309</td>\n",
       "    </tr>\n",
       "    <tr>\n",
       "      <th>min</th>\n",
       "      <td>4.462073</td>\n",
       "      <td>0.000000</td>\n",
       "      <td>0.000000</td>\n",
       "      <td>8.207842</td>\n",
       "    </tr>\n",
       "    <tr>\n",
       "      <th>25%</th>\n",
       "      <td>8.875713</td>\n",
       "      <td>0.000000</td>\n",
       "      <td>0.000000</td>\n",
       "      <td>12.633204</td>\n",
       "    </tr>\n",
       "    <tr>\n",
       "      <th>50%</th>\n",
       "      <td>10.004098</td>\n",
       "      <td>0.500000</td>\n",
       "      <td>0.000000</td>\n",
       "      <td>14.595364</td>\n",
       "    </tr>\n",
       "    <tr>\n",
       "      <th>75%</th>\n",
       "      <td>11.192790</td>\n",
       "      <td>1.000000</td>\n",
       "      <td>0.000000</td>\n",
       "      <td>15.902851</td>\n",
       "    </tr>\n",
       "    <tr>\n",
       "      <th>max</th>\n",
       "      <td>13.925358</td>\n",
       "      <td>1.000000</td>\n",
       "      <td>1.000000</td>\n",
       "      <td>19.583307</td>\n",
       "    </tr>\n",
       "  </tbody>\n",
       "</table>\n",
       "</div>"
      ],
      "text/plain": [
       "          h_start   treatment      fungus       h_end\n",
       "count  100.000000  100.000000  100.000000  100.000000\n",
       "mean     9.995952    0.500000    0.230000   14.293995\n",
       "std      1.806028    0.502519    0.422953    2.424309\n",
       "min      4.462073    0.000000    0.000000    8.207842\n",
       "25%      8.875713    0.000000    0.000000   12.633204\n",
       "50%     10.004098    0.500000    0.000000   14.595364\n",
       "75%     11.192790    1.000000    0.000000   15.902851\n",
       "max     13.925358    1.000000    1.000000   19.583307"
      ]
     },
     "execution_count": 6,
     "metadata": {},
     "output_type": "execute_result"
    }
   ],
   "source": [
    "plants_data.describe()"
   ]
  },
  {
   "cell_type": "markdown",
   "id": "5d6e295c-a87b-4136-879d-c3c97ee3faec",
   "metadata": {},
   "source": [
    "Al diseñar el modelo, debemos hacer de cuenta que no conocemos el proceso que genera los datos. En una situación real no conoceremos dicho proceso, más tendremos información científica que nos apoyará en la construcción del modelo.\n",
    "\n",
    "En este caso, sabemos que las plantas al final serán más altas que al inicio. De esta manera, si modelamos los parámetros de forma proporcional al tamaño de las plantas al inicio, será más fácil razonar acerca de las previas. Enfocándonos en las variables de tamaño:\n",
    "\n",
    "$$\n",
    "\\begin{array}{ccc}\n",
    "h_{end, i} & \\sim & \\text{Normal}(\\mu_i, \\sigma) \\\\\n",
    "\\mu_i & = & h_{start, i} \\times p\n",
    "\\end{array}\n",
    "$$"
   ]
  },
  {
   "cell_type": "markdown",
   "id": "6f1163a8-b666-47b0-ac29-9ec33b2eb116",
   "metadata": {},
   "source": [
    "En este caso, $p$ es la proporción promedio del tamaño final respecto al tamaño inicial:\n",
    "\n",
    "- Si $p=1$, quiere decir que la planta no creció.\n",
    "- Si $p=2$, quiere decir que la planta duplicó su tamaño.\n",
    "\n",
    "De forma que debemos centrar nuestra previa de $p$ en 1, e incluso dejar que $p$ pueda ser menor a 1 (recordemos que no sabemos como se generaron los datos). Sin embargo, debemos asegurar que $p$ sea positiva. Una buena elección es:\n",
    "\n",
    "$$\n",
    "p \\sim \\text{Log-Normal}(0, 0.25)\n",
    "$$"
   ]
  },
  {
   "cell_type": "code",
   "execution_count": 7,
   "id": "e5866a79-5e9e-41a1-8647-d3ba40a5fdfe",
   "metadata": {},
   "outputs": [],
   "source": [
    "# Importar scipy.stats lognorm\n",
    "from scipy.stats import lognorm\n",
    "# Importar pyplot\n",
    "from matplotlib import pyplot as plt"
   ]
  },
  {
   "cell_type": "code",
   "execution_count": 9,
   "id": "9d862e5f-9f75-416f-ad2b-b2f6c4bce01c",
   "metadata": {
    "scrolled": true
   },
   "outputs": [
    {
     "data": {
      "text/plain": [
       "\u001b[0;31mSignature:\u001b[0m       \u001b[0mlognorm\u001b[0m\u001b[0;34m(\u001b[0m\u001b[0;34m*\u001b[0m\u001b[0margs\u001b[0m\u001b[0;34m,\u001b[0m \u001b[0;34m**\u001b[0m\u001b[0mkwds\u001b[0m\u001b[0;34m)\u001b[0m\u001b[0;34m\u001b[0m\u001b[0;34m\u001b[0m\u001b[0m\n",
       "\u001b[0;31mType:\u001b[0m            lognorm_gen\n",
       "\u001b[0;31mString form:\u001b[0m     <scipy.stats._continuous_distns.lognorm_gen object at 0x7f6e3e2657e0>\n",
       "\u001b[0;31mFile:\u001b[0m            ~/anaconda3/envs/stat-rethink2-pymc_v4/lib/python3.10/site-packages/scipy/stats/_continuous_distns.py\n",
       "\u001b[0;31mDocstring:\u001b[0m      \n",
       "A lognormal continuous random variable.\n",
       "\n",
       "As an instance of the `rv_continuous` class, `lognorm` object inherits from it\n",
       "a collection of generic methods (see below for the full list),\n",
       "and completes them with details specific for this particular distribution.\n",
       "\n",
       "Methods\n",
       "-------\n",
       "rvs(s, loc=0, scale=1, size=1, random_state=None)\n",
       "    Random variates.\n",
       "pdf(x, s, loc=0, scale=1)\n",
       "    Probability density function.\n",
       "logpdf(x, s, loc=0, scale=1)\n",
       "    Log of the probability density function.\n",
       "cdf(x, s, loc=0, scale=1)\n",
       "    Cumulative distribution function.\n",
       "logcdf(x, s, loc=0, scale=1)\n",
       "    Log of the cumulative distribution function.\n",
       "sf(x, s, loc=0, scale=1)\n",
       "    Survival function  (also defined as ``1 - cdf``, but `sf` is sometimes more accurate).\n",
       "logsf(x, s, loc=0, scale=1)\n",
       "    Log of the survival function.\n",
       "ppf(q, s, loc=0, scale=1)\n",
       "    Percent point function (inverse of ``cdf`` --- percentiles).\n",
       "isf(q, s, loc=0, scale=1)\n",
       "    Inverse survival function (inverse of ``sf``).\n",
       "moment(n, s, loc=0, scale=1)\n",
       "    Non-central moment of order n\n",
       "stats(s, loc=0, scale=1, moments='mv')\n",
       "    Mean('m'), variance('v'), skew('s'), and/or kurtosis('k').\n",
       "entropy(s, loc=0, scale=1)\n",
       "    (Differential) entropy of the RV.\n",
       "fit(data)\n",
       "    Parameter estimates for generic data.\n",
       "    See `scipy.stats.rv_continuous.fit <https://docs.scipy.org/doc/scipy/reference/generated/scipy.stats.rv_continuous.fit.html#scipy.stats.rv_continuous.fit>`__ for detailed documentation of the\n",
       "    keyword arguments.\n",
       "expect(func, args=(s,), loc=0, scale=1, lb=None, ub=None, conditional=False, **kwds)\n",
       "    Expected value of a function (of one argument) with respect to the distribution.\n",
       "median(s, loc=0, scale=1)\n",
       "    Median of the distribution.\n",
       "mean(s, loc=0, scale=1)\n",
       "    Mean of the distribution.\n",
       "var(s, loc=0, scale=1)\n",
       "    Variance of the distribution.\n",
       "std(s, loc=0, scale=1)\n",
       "    Standard deviation of the distribution.\n",
       "interval(alpha, s, loc=0, scale=1)\n",
       "    Endpoints of the range that contains fraction alpha [0, 1] of the\n",
       "    distribution\n",
       "\n",
       "Notes\n",
       "-----\n",
       "The probability density function for `lognorm` is:\n",
       "\n",
       ".. math::\n",
       "\n",
       "    f(x, s) = \\frac{1}{s x \\sqrt{2\\pi}}\n",
       "              \\exp\\left(-\\frac{\\log^2(x)}{2s^2}\\right)\n",
       "\n",
       "for :math:`x > 0`, :math:`s > 0`.\n",
       "\n",
       "`lognorm` takes ``s`` as a shape parameter for :math:`s`.\n",
       "\n",
       "The probability density above is defined in the \"standardized\" form. To shift\n",
       "and/or scale the distribution use the ``loc`` and ``scale`` parameters.\n",
       "Specifically, ``lognorm.pdf(x, s, loc, scale)`` is identically\n",
       "equivalent to ``lognorm.pdf(y, s) / scale`` with\n",
       "``y = (x - loc) / scale``. Note that shifting the location of a distribution\n",
       "does not make it a \"noncentral\" distribution; noncentral generalizations of\n",
       "some distributions are available in separate classes.\n",
       "\n",
       "A common parametrization for a lognormal random variable ``Y`` is in\n",
       "terms of the mean, ``mu``, and standard deviation, ``sigma``, of the\n",
       "unique normally distributed random variable ``X`` such that exp(X) = Y.\n",
       "This parametrization corresponds to setting ``s = sigma`` and ``scale =\n",
       "exp(mu)``.\n",
       "\n",
       "Examples\n",
       "--------\n",
       ">>> from scipy.stats import lognorm\n",
       ">>> import matplotlib.pyplot as plt\n",
       ">>> fig, ax = plt.subplots(1, 1)\n",
       "\n",
       "Calculate the first four moments:\n",
       "\n",
       ">>> s = 0.954\n",
       ">>> mean, var, skew, kurt = lognorm.stats(s, moments='mvsk')\n",
       "\n",
       "Display the probability density function (``pdf``):\n",
       "\n",
       ">>> x = np.linspace(lognorm.ppf(0.01, s),\n",
       "...                 lognorm.ppf(0.99, s), 100)\n",
       ">>> ax.plot(x, lognorm.pdf(x, s),\n",
       "...        'r-', lw=5, alpha=0.6, label='lognorm pdf')\n",
       "\n",
       "Alternatively, the distribution object can be called (as a function)\n",
       "to fix the shape, location and scale parameters. This returns a \"frozen\"\n",
       "RV object holding the given parameters fixed.\n",
       "\n",
       "Freeze the distribution and display the frozen ``pdf``:\n",
       "\n",
       ">>> rv = lognorm(s)\n",
       ">>> ax.plot(x, rv.pdf(x), 'k-', lw=2, label='frozen pdf')\n",
       "\n",
       "Check accuracy of ``cdf`` and ``ppf``:\n",
       "\n",
       ">>> vals = lognorm.ppf([0.001, 0.5, 0.999], s)\n",
       ">>> np.allclose([0.001, 0.5, 0.999], lognorm.cdf(vals, s))\n",
       "True\n",
       "\n",
       "Generate random numbers:\n",
       "\n",
       ">>> r = lognorm.rvs(s, size=1000)\n",
       "\n",
       "And compare the histogram:\n",
       "\n",
       ">>> ax.hist(r, density=True, histtype='stepfilled', alpha=0.2)\n",
       ">>> ax.legend(loc='best', frameon=False)\n",
       ">>> plt.show()\n",
       "\u001b[0;31mClass docstring:\u001b[0m\n",
       "A lognormal continuous random variable.\n",
       "\n",
       "%(before_notes)s\n",
       "\n",
       "Notes\n",
       "-----\n",
       "The probability density function for `lognorm` is:\n",
       "\n",
       ".. math::\n",
       "\n",
       "    f(x, s) = \\frac{1}{s x \\sqrt{2\\pi}}\n",
       "              \\exp\\left(-\\frac{\\log^2(x)}{2s^2}\\right)\n",
       "\n",
       "for :math:`x > 0`, :math:`s > 0`.\n",
       "\n",
       "`lognorm` takes ``s`` as a shape parameter for :math:`s`.\n",
       "\n",
       "%(after_notes)s\n",
       "\n",
       "A common parametrization for a lognormal random variable ``Y`` is in\n",
       "terms of the mean, ``mu``, and standard deviation, ``sigma``, of the\n",
       "unique normally distributed random variable ``X`` such that exp(X) = Y.\n",
       "This parametrization corresponds to setting ``s = sigma`` and ``scale =\n",
       "exp(mu)``.\n",
       "\n",
       "%(example)s\n",
       "\u001b[0;31mCall docstring:\u001b[0m \n",
       "Freeze the distribution for the given arguments.\n",
       "\n",
       "Parameters\n",
       "----------\n",
       "arg1, arg2, arg3,... : array_like\n",
       "    The shape parameter(s) for the distribution.  Should include all\n",
       "    the non-optional arguments, may include ``loc`` and ``scale``.\n",
       "\n",
       "Returns\n",
       "-------\n",
       "rv_frozen : rv_frozen instance\n",
       "    The frozen distribution."
      ]
     },
     "metadata": {},
     "output_type": "display_data"
    }
   ],
   "source": [
    "lognorm?"
   ]
  },
  {
   "cell_type": "code",
   "execution_count": 11,
   "id": "dd293649-64fc-4a73-a4c1-bbd5ce1ccd9a",
   "metadata": {},
   "outputs": [
    {
     "data": {
      "text/plain": [
       "[<matplotlib.lines.Line2D at 0x7f6e374162f0>]"
      ]
     },
     "execution_count": 11,
     "metadata": {},
     "output_type": "execute_result"
    },
    {
     "data": {
      "image/png": "[encoded data removed]",
      "text/plain": [
       "<Figure size 640x480 with 1 Axes>"
      ]
     },
     "metadata": {},
     "output_type": "display_data"
    }
   ],
   "source": [
    "# Densidad log-normal\n",
    "x = np.linspace(0, 3, 1000)\n",
    "plt.plot(x, lognorm.pdf(x, loc=0, s=0.25))"
   ]
  },
  {
   "cell_type": "markdown",
   "id": "08258605-8af1-4d99-8d7f-530793937825",
   "metadata": {},
   "source": [
    "Por lo que esta elección espera una reducción desde el 40% hasta un aumente del 50%.\n",
    "\n",
    "Ajustemos este modelo inicial:"
   ]
  },
  {
   "cell_type": "code",
   "execution_count": 12,
   "id": "b9f9cf35-f89d-4ce7-aa8f-5197ae9fd76b",
   "metadata": {},
   "outputs": [
    {
     "name": "stderr",
     "output_type": "stream",
     "text": [
      "<frozen importlib._bootstrap>:241: RuntimeWarning: numpy.ndarray size changed, may indicate binary incompatibility. Expected 16 from C header, got 96 from PyObject\n"
     ]
    }
   ],
   "source": [
    "# Importar pymc\n",
    "import pymc as pm\n",
    "# Importar arviz\n",
    "import arviz as az"
   ]
  },
  {
   "cell_type": "code",
   "execution_count": 18,
   "id": "faad075b-7822-4755-8c9d-d421a6d2725a",
   "metadata": {},
   "outputs": [
    {
     "name": "stderr",
     "output_type": "stream",
     "text": [
      "Auto-assigning NUTS sampler...\n",
      "Initializing NUTS using jitter+adapt_diag...\n",
      "Multiprocess sampling (4 chains in 4 jobs)\n",
      "NUTS: [sigma, p]\n"
     ]
    },
    {
     "data": {
      "text/html": [
       "\n",
       "<style>\n",
       "    /* Turns off some styling */\n",
       "    progress {\n",
       "        /* gets rid of default border in Firefox and Opera. */\n",
       "        border: none;\n",
       "        /* Needs to be in here for Safari polyfill so background images work as expected. */\n",
       "        background-size: auto;\n",
       "    }\n",
       "    progress:not([value]), progress:not([value])::-webkit-progress-bar {\n",
       "        background: repeating-linear-gradient(45deg, #7e7e7e, #7e7e7e 10px, #5c5c5c 10px, #5c5c5c 20px);\n",
       "    }\n",
       "    .progress-bar-interrupted, .progress-bar-interrupted::-webkit-progress-bar {\n",
       "        background: #F44336;\n",
       "    }\n",
       "</style>\n"
      ],
      "text/plain": [
       "<IPython.core.display.HTML object>"
      ]
     },
     "metadata": {},
     "output_type": "display_data"
    },
    {
     "data": {
      "text/html": [
       "\n",
       "    <div>\n",
       "      <progress value='8000' class='' max='8000' style='width:300px; height:20px; vertical-align: middle;'></progress>\n",
       "      100.00% [8000/8000 00:01&lt;00:00 Sampling 4 chains, 0 divergences]\n",
       "    </div>\n",
       "    "
      ],
      "text/plain": [
       "<IPython.core.display.HTML object>"
      ]
     },
     "metadata": {},
     "output_type": "display_data"
    },
    {
     "name": "stderr",
     "output_type": "stream",
     "text": [
      "Sampling 4 chains for 1_000 tune and 1_000 draw iterations (4_000 + 4_000 draws total) took 1 seconds.\n"
     ]
    }
   ],
   "source": [
    "# Modelo de altura de plantas\n",
    "with pm.Model() as plant_model:\n",
    "    sigma = pm.Exponential(\"sigma\", 1)\n",
    "    p = pm.LogNormal(\"p\", 0, 0.25)\n",
    "    mu = plants_data[\"h_start\"].values * p\n",
    "    h_end = pm.Normal(\"h_end\", mu, sigma, observed=plants_data[\"h_end\"])\n",
    "\n",
    "    idata_plant = pm.sample()"
   ]
  },
  {
   "cell_type": "code",
   "execution_count": 19,
   "id": "ed7d9722-d1e4-4634-bcc0-6731bb11d01e",
   "metadata": {},
   "outputs": [
    {
     "data": {
      "text/html": [
       "<div>\n",
       "<style scoped>\n",
       "    .dataframe tbody tr th:only-of-type {\n",
       "        vertical-align: middle;\n",
       "    }\n",
       "\n",
       "    .dataframe tbody tr th {\n",
       "        vertical-align: top;\n",
       "    }\n",
       "\n",
       "    .dataframe thead th {\n",
       "        text-align: right;\n",
       "    }\n",
       "</style>\n",
       "<table border=\"1\" class=\"dataframe\">\n",
       "  <thead>\n",
       "    <tr style=\"text-align: right;\">\n",
       "      <th></th>\n",
       "      <th>mean</th>\n",
       "      <th>sd</th>\n",
       "      <th>hdi_5.5%</th>\n",
       "      <th>hdi_94.5%</th>\n",
       "    </tr>\n",
       "  </thead>\n",
       "  <tbody>\n",
       "    <tr>\n",
       "      <th>sigma</th>\n",
       "      <td>1.991</td>\n",
       "      <td>0.141</td>\n",
       "      <td>1.775</td>\n",
       "      <td>2.218</td>\n",
       "    </tr>\n",
       "    <tr>\n",
       "      <th>p</th>\n",
       "      <td>1.412</td>\n",
       "      <td>0.020</td>\n",
       "      <td>1.381</td>\n",
       "      <td>1.444</td>\n",
       "    </tr>\n",
       "  </tbody>\n",
       "</table>\n",
       "</div>"
      ],
      "text/plain": [
       "        mean     sd  hdi_5.5%  hdi_94.5%\n",
       "sigma  1.991  0.141     1.775      2.218\n",
       "p      1.412  0.020     1.381      1.444"
      ]
     },
     "execution_count": 19,
     "metadata": {},
     "output_type": "execute_result"
    }
   ],
   "source": [
    "# Summary\n",
    "az.summary(\n",
    "    idata_plant,\n",
    "    kind=\"stats\",\n",
    "    hdi_prob=0.89\n",
    ")"
   ]
  },
  {
   "cell_type": "markdown",
   "id": "4ebf5173-c68c-4867-a462-ef7dbd8334b3",
   "metadata": {},
   "source": [
    "Se espera un crecimiento promedio del 40%.\n",
    "\n",
    "Ahora, incluyamos las variables de tratamiento y hongos. Recordemos que los parámetros estarán en la escala de la proporción:\n",
    "\n",
    "$$\n",
    "\\begin{array}{ccc}\n",
    "h_{end, i} & \\sim & \\text{Normal}(\\mu_i, \\sigma) \\\\\n",
    "\\mu_i & = & h_{ini, i} \\times p \\\\\n",
    "p & = & \\alpha + \\beta_T t_i + \\beta_F f_i \\\\\n",
    "\\alpha & \\sim & \\text{Log-Normal}(0, 0.25) \\\\\n",
    "\\beta_T & \\sim & \\text{Normal}(0, 0.5) \\\\\n",
    "\\beta_F & \\sim & \\text{Normal}(0, 0.5) \\\\\n",
    "\\sigma  & \\sim & \\text{Exponential}(1) \\\\\n",
    "\\end{array}\n",
    "$$\n",
    "\n",
    "con esta elección, esperamos con 95% de certeza que que la proporción se reducirá -1 (-100%) o se incrementará +1 (+100%):"
   ]
  },
  {
   "cell_type": "code",
   "execution_count": 20,
   "id": "c1dcea1f-d22e-415c-bdbe-c7cf1bde6864",
   "metadata": {},
   "outputs": [
    {
     "name": "stderr",
     "output_type": "stream",
     "text": [
      "Auto-assigning NUTS sampler...\n",
      "Initializing NUTS using jitter+adapt_diag...\n",
      "Multiprocess sampling (4 chains in 4 jobs)\n",
      "NUTS: [sigma, bf, bt, alpha]\n"
     ]
    },
    {
     "data": {
      "text/html": [
       "\n",
       "<style>\n",
       "    /* Turns off some styling */\n",
       "    progress {\n",
       "        /* gets rid of default border in Firefox and Opera. */\n",
       "        border: none;\n",
       "        /* Needs to be in here for Safari polyfill so background images work as expected. */\n",
       "        background-size: auto;\n",
       "    }\n",
       "    progress:not([value]), progress:not([value])::-webkit-progress-bar {\n",
       "        background: repeating-linear-gradient(45deg, #7e7e7e, #7e7e7e 10px, #5c5c5c 10px, #5c5c5c 20px);\n",
       "    }\n",
       "    .progress-bar-interrupted, .progress-bar-interrupted::-webkit-progress-bar {\n",
       "        background: #F44336;\n",
       "    }\n",
       "</style>\n"
      ],
      "text/plain": [
       "<IPython.core.display.HTML object>"
      ]
     },
     "metadata": {},
     "output_type": "display_data"
    },
    {
     "data": {
      "text/html": [
       "\n",
       "    <div>\n",
       "      <progress value='8000' class='' max='8000' style='width:300px; height:20px; vertical-align: middle;'></progress>\n",
       "      100.00% [8000/8000 00:02&lt;00:00 Sampling 4 chains, 0 divergences]\n",
       "    </div>\n",
       "    "
      ],
      "text/plain": [
       "<IPython.core.display.HTML object>"
      ]
     },
     "metadata": {},
     "output_type": "display_data"
    },
    {
     "name": "stderr",
     "output_type": "stream",
     "text": [
      "Sampling 4 chains for 1_000 tune and 1_000 draw iterations (4_000 + 4_000 draws total) took 3 seconds.\n"
     ]
    }
   ],
   "source": [
    "# Modelo predictivo\n",
    "with pm.Model() as predictive_plant_model:\n",
    "    sigma = pm.Exponential(\"sigma\", 1)\n",
    "    bf = pm.Normal(\"bf\", 0, 0.5)\n",
    "    bt = pm.Normal(\"bt\", 0, 0.5)\n",
    "    a = pm.LogNormal(\"alpha\", 0, 0.25)\n",
    "    p = (\n",
    "        a\n",
    "        + bt * plants_data[\"treatment\"].values\n",
    "        + bf * plants_data[\"fungus\"].values\n",
    "    )\n",
    "    mu = plants_data[\"h_start\"].values * p\n",
    "    h_end = pm.Normal(\"h_end\", mu, sigma, observed=plants_data[\"h_end\"])\n",
    "\n",
    "    idata_predictive = pm.sample()"
   ]
  },
  {
   "cell_type": "code",
   "execution_count": 21,
   "id": "78c34531-6c1c-4d62-a5f4-84e900279ba4",
   "metadata": {},
   "outputs": [
    {
     "data": {
      "text/html": [
       "<div>\n",
       "<style scoped>\n",
       "    .dataframe tbody tr th:only-of-type {\n",
       "        vertical-align: middle;\n",
       "    }\n",
       "\n",
       "    .dataframe tbody tr th {\n",
       "        vertical-align: top;\n",
       "    }\n",
       "\n",
       "    .dataframe thead th {\n",
       "        text-align: right;\n",
       "    }\n",
       "</style>\n",
       "<table border=\"1\" class=\"dataframe\">\n",
       "  <thead>\n",
       "    <tr style=\"text-align: right;\">\n",
       "      <th></th>\n",
       "      <th>mean</th>\n",
       "      <th>sd</th>\n",
       "      <th>hdi_5.5%</th>\n",
       "      <th>hdi_94.5%</th>\n",
       "    </tr>\n",
       "  </thead>\n",
       "  <tbody>\n",
       "    <tr>\n",
       "      <th>bf</th>\n",
       "      <td>-0.362</td>\n",
       "      <td>0.034</td>\n",
       "      <td>-0.418</td>\n",
       "      <td>-0.309</td>\n",
       "    </tr>\n",
       "    <tr>\n",
       "      <th>bt</th>\n",
       "      <td>-0.038</td>\n",
       "      <td>0.030</td>\n",
       "      <td>-0.085</td>\n",
       "      <td>0.008</td>\n",
       "    </tr>\n",
       "    <tr>\n",
       "      <th>sigma</th>\n",
       "      <td>1.309</td>\n",
       "      <td>0.094</td>\n",
       "      <td>1.160</td>\n",
       "      <td>1.456</td>\n",
       "    </tr>\n",
       "    <tr>\n",
       "      <th>alpha</th>\n",
       "      <td>1.520</td>\n",
       "      <td>0.024</td>\n",
       "      <td>1.481</td>\n",
       "      <td>1.556</td>\n",
       "    </tr>\n",
       "  </tbody>\n",
       "</table>\n",
       "</div>"
      ],
      "text/plain": [
       "        mean     sd  hdi_5.5%  hdi_94.5%\n",
       "bf    -0.362  0.034    -0.418     -0.309\n",
       "bt    -0.038  0.030    -0.085      0.008\n",
       "sigma  1.309  0.094     1.160      1.456\n",
       "alpha  1.520  0.024     1.481      1.556"
      ]
     },
     "execution_count": 21,
     "metadata": {},
     "output_type": "execute_result"
    }
   ],
   "source": [
    "# Summary\n",
    "az.summary(\n",
    "    idata_predictive,\n",
    "    kind=\"stats\",\n",
    "    hdi_prob=0.89\n",
    ")"
   ]
  },
  {
   "cell_type": "markdown",
   "id": "21f743e6-0d16-429a-92ee-6ec0f544228b",
   "metadata": {},
   "source": [
    "El parámetro $\\alpha$ es idéntico al que estimamos antes para $p$. La posterior para $b_T$, que representa el efecto del tratamiento es prácticamente cero, lo que nos dice que el tratamiento no está asociado con el creciemiento, lo cual sabemos no es cierto (nosotros construimos los datos). **¿Qué pasó?**"
   ]
  },
  {
   "cell_type": "markdown",
   "id": "d7fb89af-228d-458e-869c-29aa0c452075",
   "metadata": {},
   "source": [
    "El problema es que la variables indicadora de hongos es una consecuencia directa del tratamiento. Es decir, es una **variable post-tratamiento**. De forma que cuando controlamos (incluimos la variable en el modelo) para los hongos, el modelo está respondiendo la pregunta:\n",
    "\n",
    "> Una vez sabemos que la planta desarrolló o no hongos, ¿Tiene algún efecto el tratamiento en el crecimiento?\n",
    "\n",
    "La respuesta es un rotundo **no**, pues el tratamiento impacta el crecimiento a través de reducir los hongos. ¿Qué debemos hacer?\n",
    "\n",
    "$$\n",
    "\\begin{array}{ccc}\n",
    "h_{end, i} & \\sim & \\text{Normal}(\\mu_i, \\sigma) \\\\\n",
    "\\mu_i & = & h_{ini, i} \\times p \\\\\n",
    "p & = & \\alpha + \\beta_T t_i \\\\\n",
    "\\alpha & \\sim & \\text{Log-Normal}(0, 0.25) \\\\\n",
    "\\beta_T & \\sim & \\text{Normal}(0, 0.5) \\\\\n",
    "\\sigma  & \\sim & \\text{Exponential}(1) \\\\\n",
    "\\end{array}\n",
    "$$"
   ]
  },
  {
   "cell_type": "code",
   "execution_count": 22,
   "id": "7d58ebeb-4849-4d22-bd75-d6e3b53fe101",
   "metadata": {},
   "outputs": [
    {
     "name": "stderr",
     "output_type": "stream",
     "text": [
      "Auto-assigning NUTS sampler...\n",
      "Initializing NUTS using jitter+adapt_diag...\n",
      "Multiprocess sampling (4 chains in 4 jobs)\n",
      "NUTS: [sigma, bt, alpha]\n"
     ]
    },
    {
     "data": {
      "text/html": [
       "\n",
       "<style>\n",
       "    /* Turns off some styling */\n",
       "    progress {\n",
       "        /* gets rid of default border in Firefox and Opera. */\n",
       "        border: none;\n",
       "        /* Needs to be in here for Safari polyfill so background images work as expected. */\n",
       "        background-size: auto;\n",
       "    }\n",
       "    progress:not([value]), progress:not([value])::-webkit-progress-bar {\n",
       "        background: repeating-linear-gradient(45deg, #7e7e7e, #7e7e7e 10px, #5c5c5c 10px, #5c5c5c 20px);\n",
       "    }\n",
       "    .progress-bar-interrupted, .progress-bar-interrupted::-webkit-progress-bar {\n",
       "        background: #F44336;\n",
       "    }\n",
       "</style>\n"
      ],
      "text/plain": [
       "<IPython.core.display.HTML object>"
      ]
     },
     "metadata": {},
     "output_type": "display_data"
    },
    {
     "data": {
      "text/html": [
       "\n",
       "    <div>\n",
       "      <progress value='8000' class='' max='8000' style='width:300px; height:20px; vertical-align: middle;'></progress>\n",
       "      100.00% [8000/8000 00:01&lt;00:00 Sampling 4 chains, 0 divergences]\n",
       "    </div>\n",
       "    "
      ],
      "text/plain": [
       "<IPython.core.display.HTML object>"
      ]
     },
     "metadata": {},
     "output_type": "display_data"
    },
    {
     "name": "stderr",
     "output_type": "stream",
     "text": [
      "Sampling 4 chains for 1_000 tune and 1_000 draw iterations (4_000 + 4_000 draws total) took 2 seconds.\n"
     ]
    }
   ],
   "source": [
    "# Modelo de solo el tratamiento\n",
    "with pm.Model() as predictive_plant_model_2:\n",
    "    sigma = pm.Exponential(\"sigma\", 1)\n",
    "    bt = pm.Normal(\"bt\", 0, 0.5)\n",
    "    a = pm.LogNormal(\"alpha\", 0, 0.25)\n",
    "    p = (\n",
    "        a\n",
    "        + bt * plants_data[\"treatment\"].values\n",
    "    )\n",
    "    mu = plants_data[\"h_start\"].values * p\n",
    "    h_end = pm.Normal(\"h_end\", mu, sigma, observed=plants_data[\"h_end\"])\n",
    "\n",
    "    idata_predictive_2 = pm.sample()"
   ]
  },
  {
   "cell_type": "code",
   "execution_count": 23,
   "id": "4e789f01-4796-44e6-a1c4-c2b4e771a034",
   "metadata": {},
   "outputs": [
    {
     "data": {
      "text/html": [
       "<div>\n",
       "<style scoped>\n",
       "    .dataframe tbody tr th:only-of-type {\n",
       "        vertical-align: middle;\n",
       "    }\n",
       "\n",
       "    .dataframe tbody tr th {\n",
       "        vertical-align: top;\n",
       "    }\n",
       "\n",
       "    .dataframe thead th {\n",
       "        text-align: right;\n",
       "    }\n",
       "</style>\n",
       "<table border=\"1\" class=\"dataframe\">\n",
       "  <thead>\n",
       "    <tr style=\"text-align: right;\">\n",
       "      <th></th>\n",
       "      <th>mean</th>\n",
       "      <th>sd</th>\n",
       "      <th>hdi_5.5%</th>\n",
       "      <th>hdi_94.5%</th>\n",
       "    </tr>\n",
       "  </thead>\n",
       "  <tbody>\n",
       "    <tr>\n",
       "      <th>bt</th>\n",
       "      <td>0.102</td>\n",
       "      <td>0.038</td>\n",
       "      <td>0.043</td>\n",
       "      <td>0.164</td>\n",
       "    </tr>\n",
       "    <tr>\n",
       "      <th>sigma</th>\n",
       "      <td>1.936</td>\n",
       "      <td>0.139</td>\n",
       "      <td>1.709</td>\n",
       "      <td>2.152</td>\n",
       "    </tr>\n",
       "    <tr>\n",
       "      <th>alpha</th>\n",
       "      <td>1.361</td>\n",
       "      <td>0.027</td>\n",
       "      <td>1.321</td>\n",
       "      <td>1.406</td>\n",
       "    </tr>\n",
       "  </tbody>\n",
       "</table>\n",
       "</div>"
      ],
      "text/plain": [
       "        mean     sd  hdi_5.5%  hdi_94.5%\n",
       "bt     0.102  0.038     0.043      0.164\n",
       "sigma  1.936  0.139     1.709      2.152\n",
       "alpha  1.361  0.027     1.321      1.406"
      ]
     },
     "execution_count": 23,
     "metadata": {},
     "output_type": "execute_result"
    }
   ],
   "source": [
    "# Summary\n",
    "az.summary(\n",
    "    idata_predictive_2,\n",
    "    kind=\"stats\",\n",
    "    hdi_prob=0.89\n",
    ")"
   ]
  },
  {
   "cell_type": "markdown",
   "id": "ba4017b8-7255-44c8-8153-a99ca963a372",
   "metadata": {},
   "source": [
    "Ahora podemos observar el efecto positivo del tratamiento en el crecimiento de las plantas, como debe de ser. Hace sentido controlar las variables *pre-tratamiento*, como el tamaño inicial, sin embargo, las variables post-tratamiento enmascaran el efecto del tratamiento en sí.\n",
    "\n",
    "La pregunta es entonces, ¿porqué sucede esto?\n",
    "\n",
    "Para esto, veamos cuál es el flujo de influencia probabilística a través de un modelo gráfico:"
   ]
  },
  {
   "cell_type": "code",
   "execution_count": 24,
   "id": "d25813b8-bbd8-46ec-be3a-da3ffd64de4f",
   "metadata": {},
   "outputs": [],
   "source": [
    "# Importar daft\n",
    "import daft\n",
    "# Importar causalgraphicalmodels\n",
    "from causalgraphicalmodels import CausalGraphicalModel"
   ]
  },
  {
   "cell_type": "code",
   "execution_count": 25,
   "id": "f21af4af-5a11-4da1-b832-586ccb3d8648",
   "metadata": {},
   "outputs": [],
   "source": [
    "# Función para dibujar modelos gráficos\n",
    "def draw_dag(dag, coordinates):\n",
    "    pgm = daft.PGM()\n",
    "    for node in dag.dag.nodes:\n",
    "        pgm.add_node(node, node, *coordinates[node])\n",
    "    for edge in dag.dag.edges:\n",
    "        pgm.add_edge(*edge)\n",
    "    pgm.render()\n",
    "    plt.gca().invert_yaxis()"
   ]
  },
  {
   "cell_type": "code",
   "execution_count": 28,
   "id": "41cb5972-9203-4254-b3cb-30d82e9c16d0",
   "metadata": {},
   "outputs": [
    {
     "data": {
      "image/png": "[encoded data removed]",
      "text/plain": [
       "<Figure size 370.079x55.1181 with 1 Axes>"
      ]
     },
     "metadata": {},
     "output_type": "display_data"
    }
   ],
   "source": [
    "plant_dag = CausalGraphicalModel(\n",
    "    nodes=[\"Hstart\", \"Hend\", \"F\", \"T\"],\n",
    "    edges=[(\"Hstart\", \"Hend\"), (\"F\", \"Hend\"), (\"T\", \"F\")]\n",
    ")\n",
    "coordinates = {\"Hstart\": (0, 0), \"T\": (4, 0), \"F\": (3, 0), \"Hend\": (2, 0)}\n",
    "\n",
    "draw_dag(plant_dag, coordinates)"
   ]
  },
  {
   "cell_type": "markdown",
   "id": "e324e527-1218-4ecf-9d4a-028b88f4652e",
   "metadata": {},
   "source": [
    "El tratamiento $T$ influencia la presencia de hongos $F$, la cual a su vez influencia el tamaño final de la planta $H_{end}$. El tamaño final de la planta también es influenciado por el tamaño inicial de laplanta $H_{ini}$.\n",
    "\n",
    "Lo que sucede cuando incluimos la variable de hongos en el modelo es que **bloqueamos** el flujo de influencia probabilística de $T$ hacia $H_{end}$."
   ]
  },
  {
   "cell_type": "code",
   "execution_count": 29,
   "id": "2003227e-fbb6-4c68-be08-a1f2d7932f56",
   "metadata": {},
   "outputs": [
    {
     "data": {
      "text/plain": [
       "[('Hend', 'T', {'F'}),\n",
       " ('Hend', 'T', {'F', 'Hstart'}),\n",
       " ('T', 'Hstart', set()),\n",
       " ('T', 'Hstart', {'F'}),\n",
       " ('T', 'Hstart', {'F', 'Hend'}),\n",
       " ('Hstart', 'F', set()),\n",
       " ('Hstart', 'F', {'T'})]"
      ]
     },
     "execution_count": 29,
     "metadata": {},
     "output_type": "execute_result"
    }
   ],
   "source": [
    "plant_dag.get_all_independence_relationships()"
   ]
  }
 ],
 "metadata": {
  "kernelspec": {
   "display_name": "Python 3 (ipykernel)",
   "language": "python",
   "name": "python3"
  },
  "language_info": {
   "codemirror_mode": {
    "name": "ipython",
    "version": 3
   },
   "file_extension": ".py",
   "mimetype": "text/x-python",
   "name": "python",
   "nbconvert_exporter": "python",
   "pygments_lexer": "ipython3",
   "version": "3.10.12"
  }
 },
 "nbformat": 4,
 "nbformat_minor": 5
}
