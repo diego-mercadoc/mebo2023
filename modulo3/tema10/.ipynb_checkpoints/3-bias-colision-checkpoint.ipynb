{
 "cells": [
  {
   "cell_type": "markdown",
   "id": "31d29388-732d-4f24-8806-5f52faf9a930",
   "metadata": {},
   "source": [
    "# Bias de colisión\n",
    "\n",
    "> Bias: a systematic distortion of a statistical result due to a factor not allowed for in its derivation.\n",
    "\n",
    "Pareciera que los estudios científicos más sonados son los menos confiables. Mientras más aburrido el tema, más rigurosos los resultados. ¿Cómo es que esta asociación negativa existe?\n",
    "\n",
    "Se pueden pensar en muchas posibilidades, sin embargo, lo único necesario para que se de esta correlación negativa es que los pares revisores tomen en consideración tanto la *pantalla* que tenga el área de estudio, como la confiabilidad del estudio. En este escenario, el acto de selección será suficiente para que los estudios de mayor interés sean los menos confiables.\n",
    "\n",
    "\n",
    "> **Objetivos:**\n",
    "> - Entender el problema de bias de colisión.\n",
    "\n",
    "\n",
    "> **Referencias:**\n",
    "> \n",
    "> - Statistical Rethinking: A Bayesian Course with Examples in R and Stan (2nd edition) - Richard McElreath."
   ]
  },
  {
   "cell_type": "markdown",
   "id": "0fcd88ea-498e-43fd-b8f9-6e62258dbe73",
   "metadata": {},
   "source": [
    "## 1. Introducción\n",
    "\n",
    "Comprobémoslo mediante una simulación. Supongamos que un panel de revisión recibe 200 propuestas de investigación. En dichas propuestas, no existe correlación alguna entre la confiabilidad y el interés público. En este panel se le da importancia a la confiabilidad y al interés público de manera equitativa, y luego se ordenan las propuestas por sus puntajes combinados para seleccionar el 10% más alto para financiarlos."
   ]
  },
  {
   "cell_type": "code",
   "execution_count": null,
   "id": "a6dbeaf9-28a1-470d-9105-5825dcc5f670",
   "metadata": {},
   "outputs": [],
   "source": [
    "# Importar scipy.stats.norm\n",
    "\n",
    "# Importar numpy\n",
    "\n",
    "# Importar pyplot\n"
   ]
  },
  {
   "cell_type": "code",
   "execution_count": null,
   "id": "f9ef7e24-6220-4370-83b5-4991da78b459",
   "metadata": {},
   "outputs": [],
   "source": [
    "# Número de propuestas\n",
    "\n",
    "# Proporción\n",
    "\n",
    "# Simulación de interés público y confiabilidad\n",
    "\n",
    "# Score combinado\n",
    "\n",
    "# Selección del top 10%\n"
   ]
  },
  {
   "cell_type": "code",
   "execution_count": null,
   "id": "8c8bdf67-3405-43a8-8220-573bec06c564",
   "metadata": {},
   "outputs": [],
   "source": [
    "# Visualización\n"
   ]
  },
  {
   "cell_type": "code",
   "execution_count": null,
   "id": "20bd6300-4328-4eeb-a266-6d421d503674",
   "metadata": {},
   "outputs": [],
   "source": [
    "# Correlación\n"
   ]
  },
  {
   "cell_type": "markdown",
   "id": "e09029ac-049d-4e06-b37d-298f156316dd",
   "metadata": {},
   "source": [
    "Este mismo fenómeno de selección puede suceder en un modelo estadístico. Cuando pasa, puede distorcionar bastante nuestras inferencias."
   ]
  },
  {
   "cell_type": "markdown",
   "id": "ad860811-4df1-4bb5-bfcd-49aeb5c5cdff",
   "metadata": {},
   "source": [
    "## 2. Bias de colisión\n",
    "\n",
    "Un DAG que modela la situación anterior es:"
   ]
  },
  {
   "cell_type": "code",
   "execution_count": null,
   "id": "757070d4-399a-4bec-afd9-59a2916228bf",
   "metadata": {},
   "outputs": [],
   "source": [
    "# Importar daft\n",
    "import daft\n",
    "# Importar causalgraphicalmodels\n",
    "from causalgraphicalmodels import CausalGraphicalModel"
   ]
  },
  {
   "cell_type": "code",
   "execution_count": null,
   "id": "05436aed-f019-4106-9009-c5a5fee07fcf",
   "metadata": {},
   "outputs": [],
   "source": [
    "# Función para dibujar modelos gráficos\n",
    "def draw_dag(dag, coordinates):\n",
    "    pgm = daft.PGM()\n",
    "    for node in dag.dag.nodes:\n",
    "        pgm.add_node(node, node, *coordinates[node])\n",
    "    for edge in dag.dag.edges:\n",
    "        pgm.add_edge(*edge)\n",
    "    pgm.render()\n",
    "    plt.gca().invert_yaxis()"
   ]
  },
  {
   "cell_type": "code",
   "execution_count": null,
   "id": "3f9e244a-97ce-46a7-b383-fe2748a21514",
   "metadata": {},
   "outputs": [],
   "source": [
    "sci_dag = CausalGraphicalModel(\n",
    "    nodes=[\"T\", \"S\", \"N\"],\n",
    "    edges=[(\"T\", \"S\"), (\"N\", \"S\")]\n",
    ")\n",
    "coordinates = {\"T\": (0, 0), \"S\": (2, 0), \"N\": (4, 0)}\n",
    "\n",
    "draw_dag(sci_dag, coordinates)"
   ]
  },
  {
   "cell_type": "markdown",
   "id": "89827a80-c58d-46aa-8142-4c362988f8ee",
   "metadata": {},
   "source": [
    "La confiabilidad $T$ y el interés público $N$ no están asociados, pero ambos influencian la selección $S$. Se llama **colisión** porque las flechas apuntan hacia $S$.\n",
    "\n",
    "El concepto es: cuando se condiciona sobre el colisionador, se crea una asociación estadística (no necesariamente causal) entre las causas. Como vimos, una vez tenemos al top 10% de las propuestas, conocer su confiabilidad también nos da información de su interés público."
   ]
  },
  {
   "cell_type": "markdown",
   "id": "8c6c6213-342a-49a1-935a-3d00416e9b15",
   "metadata": {},
   "source": [
    "Esto significa que tenemos que prestar atención a los procesos que seleccionan explícita o implícitamente las muestras de nuestras observaciones, ya que pueden distorcionar las asociaciones entre las variables. También, este mismo fenómeno generará asociaciones falsas en un modelo estadístico, si incluimos al colisionador como predictor."
   ]
  },
  {
   "cell_type": "markdown",
   "id": "fc647719-f6ba-43e0-8d56-f4cee0b8199d",
   "metadata": {},
   "source": [
    "**¿La felicidad cambia con la edad?**\n",
    "\n",
    "Consideremos ahora la pregunta de como envejecer influencia nuestra felicidad. Si tenemos una encuesta donde las personas declaran qué tan felices son, ¿Estará su edad asociada con la felicidad? Si sí, ¿es esta asociación causal?\n",
    "\n",
    "Supongamos que la felicidad promedio es un rasgo de nacimiento, y no cambia con la edad. Sin embargo, la felicidad influencia los eventos de la vida misma. Por ejemplo, el matrimonio. La gente más feliz es más propensa a casarse. Otra variable que influencia el matrimonio es la edad. Mientras más años vives, más probable es que te cases. De modo que tenemos el siguiente modelo:"
   ]
  },
  {
   "cell_type": "code",
   "execution_count": null,
   "id": "2c01878c-109e-43e5-b672-22199c8e9e41",
   "metadata": {},
   "outputs": [],
   "source": [
    "happiness_dag = CausalGraphicalModel(\n",
    "    nodes=[\"H\", \"M\", \"A\"],\n",
    "    edges=[(\"H\", \"M\"), (\"A\", \"M\")]\n",
    ")\n",
    "coordinates = {\"H\": (0, 0), \"M\": (2, 0), \"A\": (4, 0)}\n",
    "\n",
    "draw_dag(happiness_dag, coordinates)"
   ]
  },
  {
   "cell_type": "markdown",
   "id": "28d70381-e37d-4904-993d-f2ffd569a387",
   "metadata": {},
   "source": [
    "La felicidad $H$ y la edad $A$ causan el matrimonio $M$. Por tanto, el matrimonio es un colisionador. Incluso, si no hay una asociación entre felicidad y la edad, si condicionamos en el matrimonio (lo incluimos como predictor en la regresión), induciremos una asociación estadística entre la edad y la felicidad, distorsionando la interpretación de que la felicidad cambia con la edad, cuando en realidad es constante."
   ]
  },
  {
   "cell_type": "markdown",
   "id": "26b23967-8136-477e-8c72-b698732ce5c1",
   "metadata": {},
   "source": [
    "Veámoslo con una simulación, nuevamente. Las simulaciones son bastante útiles en este tipo de ejemplos, dado que son los únicos casos donde conocemos el modelo causal verdadero. Si un procedimiento no puede revelar la verdad en un ejemplo simulado, no le deberíamos confiar un caso real. La simulación consiste en lo siguiente:\n",
    "\n",
    "1. Cada año, nacen 20 personas con valores de felicidad uniformemente distribuidos.\n",
    "2. Cada año, cada persona envejece un año. La felicidad no cambia.\n",
    "3. A los 18 años de edad, las personas se pueden casar. La probabilidad de casarse cada año son proporcionales a la felicidad del individuo.\n",
    "4. Una vez casado, el individuo permanece casado.\n",
    "5. Después de los 65 años, el individuo deja la muestra.\n",
    "\n",
    "La simulación está en `helper.py`, en la función `sim_happiness`."
   ]
  },
  {
   "cell_type": "code",
   "execution_count": null,
   "id": "fea8a911-413a-46ed-a155-cd8d951423ea",
   "metadata": {},
   "outputs": [],
   "source": [
    "# Importar helper.sim_happiness\n",
    "\n",
    "# Importar arviz\n"
   ]
  },
  {
   "cell_type": "code",
   "execution_count": null,
   "id": "037e0bf1-0371-46d3-9e5b-b3aab8359016",
   "metadata": {},
   "outputs": [],
   "source": [
    "# Simular datos\n"
   ]
  },
  {
   "cell_type": "code",
   "execution_count": null,
   "id": "6c47b303-c474-46b2-9db5-1186f39bdbe3",
   "metadata": {},
   "outputs": [],
   "source": [
    "# Summary\n",
    "happiness_data[\"married\"] = happiness_data[\"married\"].astype(int)\n",
    "az.summary(happiness_data.to_dict(orient=\"list\"), kind=\"stats\", round_to=2)"
   ]
  },
  {
   "cell_type": "code",
   "execution_count": null,
   "id": "6b67dd8f-61ec-4965-b574-30dffa3f5b6b",
   "metadata": {},
   "outputs": [],
   "source": [
    "happiness_data.shape"
   ]
  },
  {
   "cell_type": "markdown",
   "id": "8989e4d4-7f99-425c-bc16-554b9d7e22ae",
   "metadata": {},
   "source": [
    "Estos son los datos de 1300 personas de todas las edades entre 0 a 65 años. Las variables siguen el modelo descrito en el DAG de arriba.\n",
    "\n",
    "Para visualizar los datos con estas tres variables haremos un gráfico un tanto ingenioso, con las variables de edad y felicidad en los ejes $x$ y $y$, respectivamente, y pintando los puntos de color cuando el individuo está casado:"
   ]
  },
  {
   "cell_type": "code",
   "execution_count": null,
   "id": "24ba07b5-84bf-48b9-9fcc-ea9d1e324701",
   "metadata": {},
   "outputs": [],
   "source": [
    "happiness_data[\"married\"] = happiness_data[\"married\"].astype(bool)"
   ]
  },
  {
   "cell_type": "code",
   "execution_count": null,
   "id": "160998f6-48e9-419a-a025-774d8b4003f1",
   "metadata": {},
   "outputs": [],
   "source": [
    "# Gráfica\n",
    "fig, ax = plt.subplots(figsize=[10, 3.4])\n",
    "\n",
    "colors = np.array([\"w\"] * happiness_data.shape[0])\n",
    "colors[happiness_data[\"married\"]] = \"b\"\n",
    "ax.scatter(happiness_data[\"age\"], happiness_data[\"happiness\"], edgecolor=\"k\", color=colors)\n",
    "\n",
    "ax.scatter([], [], edgecolor=\"k\", color=\"w\", label=\"unmarried\")\n",
    "ax.scatter([], [], edgecolor=\"k\", color=\"b\", label=\"married\")\n",
    "ax.legend(loc=\"upper left\", framealpha=1, frameon=True)\n",
    "\n",
    "ax.set_xlabel(\"age\")\n",
    "ax.set_ylabel(\"happiness\");"
   ]
  },
  {
   "cell_type": "markdown",
   "id": "5b4fda26-aadc-4cc6-9bca-c384d13369dc",
   "metadata": {},
   "source": [
    "Supongamos que nos preguntamos si la edad se relaciona con la felicidad. No conocemos el modelo causal verdadero.\n",
    "\n",
    "Consideramos una regresión lineal múltiple, para inferir la influencia de la edad en la felicidad, controlado para el estado marital:\n",
    "\n",
    "$$\n",
    "\\mu_i = \\alpha_{M[i]} + \\beta_A A_i\n",
    "$$\n",
    "\n",
    "donde $M[i]$ es una variable índice que indica el estado marital de $i$.\n",
    "\n",
    "Pensemos en la previa para $\\beta_A$, no sin antes escalar la edad en el intervalo [0, 1]:"
   ]
  },
  {
   "cell_type": "code",
   "execution_count": null,
   "id": "a62456f1-3179-4a10-80b8-ee657c1fcb2f",
   "metadata": {},
   "outputs": [],
   "source": [
    "adult_happiness_data = happiness_data[happiness_data[\"age\"] >= 18].copy()\n",
    "adult_happiness_data[\"age_unit\"] = (adult_happiness_data[\"age\"] - 18) / (65 - 18)"
   ]
  },
  {
   "cell_type": "markdown",
   "id": "5d35bc30-4e33-48a4-8c5f-1c4157d2f28f",
   "metadata": {},
   "source": [
    "Tenemos entonces que $A$ varía de 0 (18) a 1 (65). La escala de la felicidad va de -2 a +2, de forma que la relación más fuerte que podríamos encontrar sería $\\frac{2 - (-2)}{1} = 4$.\n",
    "\n",
    "Una previa que cubriría estos casos extremos sería:\n",
    "\n",
    "$$\n",
    "\\beta_A \\sim \\text{Normal}(0, 2).\n",
    "$$\n",
    "\n",
    "Ahora, cada $\\alpha$ es el valor de $\\mu_i$ cuando $A_i=0$. En ese caso, debería $\\alpha$ poder tomar todos los posibles valores de felicidad (de -2 a +2):\n",
    "\n",
    "$$\n",
    "\\alpha_{M[i]} \\sim \\text{Normal}(0, 1).\n",
    "$$"
   ]
  },
  {
   "cell_type": "code",
   "execution_count": null,
   "id": "a8b8a9ba-6ea5-4dde-b31f-04e71014ebf5",
   "metadata": {},
   "outputs": [],
   "source": [
    "# Importar pymc\n"
   ]
  },
  {
   "cell_type": "code",
   "execution_count": null,
   "id": "c70a1d2d-18f4-4a65-92e3-109d50600c4a",
   "metadata": {},
   "outputs": [],
   "source": [
    "adult_happiness_data[\"married\"] = adult_happiness_data[\"married\"].astype(int)\n",
    "# Modelo\n"
   ]
  },
  {
   "cell_type": "code",
   "execution_count": null,
   "id": "7bd04c42-51d7-49aa-9c86-5299e9840db6",
   "metadata": {},
   "outputs": [],
   "source": [
    "# Summary\n"
   ]
  },
  {
   "cell_type": "markdown",
   "id": "a8295a67-0196-4821-8fc6-247afa8b7d7b",
   "metadata": {},
   "source": [
    "Observamos que el modelo nos muestra una gran seguridad de una asociación negativa entre la edad y la felicidad. Ahora, si descartamos el estado marital:"
   ]
  },
  {
   "cell_type": "code",
   "execution_count": null,
   "id": "47b2c712-f649-4a4a-a91a-f08ac8275b06",
   "metadata": {},
   "outputs": [],
   "source": [
    "# Modelo\n"
   ]
  },
  {
   "cell_type": "code",
   "execution_count": null,
   "id": "e27b0f84-6e01-4f57-8e7e-3701ba3f5823",
   "metadata": {},
   "outputs": [],
   "source": [
    "# Summary\n"
   ]
  },
  {
   "cell_type": "markdown",
   "id": "1c49cd97-34f1-4c17-b881-97ba1b640c76",
   "metadata": {},
   "source": [
    "Como contraste, vemos que en realidad no hay asociación entre edad y felicidad.\n",
    "\n",
    "Esta patrón nos muestra exatamente lo que esperamos al condicionar (incluir como predictor) a un colisionador (estatus marital). Como vemos, al condicionar en un colisionador se induce una asociación falsa entre las dos causas."
   ]
  }
 ],
 "metadata": {
  "kernelspec": {
   "display_name": "Python 3 (ipykernel)",
   "language": "python",
   "name": "python3"
  },
  "language_info": {
   "codemirror_mode": {
    "name": "ipython",
    "version": 3
   },
   "file_extension": ".py",
   "mimetype": "text/x-python",
   "name": "python",
   "nbconvert_exporter": "python",
   "pygments_lexer": "ipython3",
   "version": "3.10.12"
  }
 },
 "nbformat": 4,
 "nbformat_minor": 5
}
