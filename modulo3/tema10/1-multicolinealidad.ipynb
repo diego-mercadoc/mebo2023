{
 "cells": [
  {
   "cell_type": "markdown",
   "id": "53c5eb35-b06f-4790-87f3-09dbc94a7150",
   "metadata": {},
   "source": [
    "# Multicolinealidad\n",
    "\n",
    "En el tema 9 estuvimos viendo varios problemas que podíamos resolver usando regresión lineal. Por ejemplo:\n",
    "\n",
    "- Nos ayuda a identificar asociaciones falsas.\n",
    "- Nos ayuda a identificar relaciones enmascaradas.\n",
    "\n",
    "Vimos que todo esto lo logramos incluyendo **más predictores** en la regresión, por lo que nos podríamos llevar la **falsa idea** de *agregar todo a la regresión y ver qué pasa*. Desafortunadamente, nuestro modelo no siempre nos dirá que pasa de forma correcta, y es porque le lanzamos preguntas incorrectas.\n",
    "\n",
    "Por eso, en este tema estaremos viendo qué cosas *malas* pueden pasar cuando simplemente añadimos más predictores a nuestra regresión. Veremos tres dificultades:\n",
    "- Multicolinealidad,\n",
    "- Bias de post-tratamiento,\n",
    "- Bias de colisión.\n",
    "\n",
    "> **Objetivos:**\n",
    "> - Entender el problema de multicolinealidad.\n",
    "\n",
    "\n",
    "> **Referencias:**\n",
    "> \n",
    "> - Statistical Rethinking: A Bayesian Course with Examples in R and Stan (2nd edition) - Richard McElreath."
   ]
  },
  {
   "cell_type": "markdown",
   "id": "fb616c63-8b33-4565-8425-d7fc7cc70783",
   "metadata": {},
   "source": [
    "## 1. Multicolinealidad\n",
    "\n",
    "El caso más común es tener varios predictores para un modelo de regresión. Por ejemplo, en los datos de la leche en diferentes especies:"
   ]
  },
  {
   "cell_type": "code",
   "execution_count": 1,
   "id": "87f75def-8979-4ac9-8db3-39521bc77b65",
   "metadata": {},
   "outputs": [],
   "source": [
    "# Importar pandas\n",
    "import pandas as pd"
   ]
  },
  {
   "cell_type": "code",
   "execution_count": 2,
   "id": "1b333f09-66d8-4727-9ba4-32b55678f8b7",
   "metadata": {},
   "outputs": [
    {
     "data": {
      "text/html": [
       "<div>\n",
       "<style scoped>\n",
       "    .dataframe tbody tr th:only-of-type {\n",
       "        vertical-align: middle;\n",
       "    }\n",
       "\n",
       "    .dataframe tbody tr th {\n",
       "        vertical-align: top;\n",
       "    }\n",
       "\n",
       "    .dataframe thead th {\n",
       "        text-align: right;\n",
       "    }\n",
       "</style>\n",
       "<table border=\"1\" class=\"dataframe\">\n",
       "  <thead>\n",
       "    <tr style=\"text-align: right;\">\n",
       "      <th></th>\n",
       "      <th>clade</th>\n",
       "      <th>species</th>\n",
       "      <th>kcal.per.g</th>\n",
       "      <th>perc.fat</th>\n",
       "      <th>perc.protein</th>\n",
       "      <th>perc.lactose</th>\n",
       "      <th>mass</th>\n",
       "      <th>neocortex.perc</th>\n",
       "    </tr>\n",
       "  </thead>\n",
       "  <tbody>\n",
       "    <tr>\n",
       "      <th>0</th>\n",
       "      <td>Strepsirrhine</td>\n",
       "      <td>Eulemur fulvus</td>\n",
       "      <td>0.49</td>\n",
       "      <td>16.60</td>\n",
       "      <td>15.42</td>\n",
       "      <td>67.98</td>\n",
       "      <td>1.95</td>\n",
       "      <td>55.16</td>\n",
       "    </tr>\n",
       "    <tr>\n",
       "      <th>1</th>\n",
       "      <td>Strepsirrhine</td>\n",
       "      <td>E macaco</td>\n",
       "      <td>0.51</td>\n",
       "      <td>19.27</td>\n",
       "      <td>16.91</td>\n",
       "      <td>63.82</td>\n",
       "      <td>2.09</td>\n",
       "      <td>NaN</td>\n",
       "    </tr>\n",
       "    <tr>\n",
       "      <th>2</th>\n",
       "      <td>Strepsirrhine</td>\n",
       "      <td>E mongoz</td>\n",
       "      <td>0.46</td>\n",
       "      <td>14.11</td>\n",
       "      <td>16.85</td>\n",
       "      <td>69.04</td>\n",
       "      <td>2.51</td>\n",
       "      <td>NaN</td>\n",
       "    </tr>\n",
       "    <tr>\n",
       "      <th>3</th>\n",
       "      <td>Strepsirrhine</td>\n",
       "      <td>E rubriventer</td>\n",
       "      <td>0.48</td>\n",
       "      <td>14.91</td>\n",
       "      <td>13.18</td>\n",
       "      <td>71.91</td>\n",
       "      <td>1.62</td>\n",
       "      <td>NaN</td>\n",
       "    </tr>\n",
       "    <tr>\n",
       "      <th>4</th>\n",
       "      <td>Strepsirrhine</td>\n",
       "      <td>Lemur catta</td>\n",
       "      <td>0.60</td>\n",
       "      <td>27.28</td>\n",
       "      <td>19.50</td>\n",
       "      <td>53.22</td>\n",
       "      <td>2.19</td>\n",
       "      <td>NaN</td>\n",
       "    </tr>\n",
       "  </tbody>\n",
       "</table>\n",
       "</div>"
      ],
      "text/plain": [
       "           clade         species  kcal.per.g  perc.fat  perc.protein  \\\n",
       "0  Strepsirrhine  Eulemur fulvus        0.49     16.60         15.42   \n",
       "1  Strepsirrhine        E macaco        0.51     19.27         16.91   \n",
       "2  Strepsirrhine        E mongoz        0.46     14.11         16.85   \n",
       "3  Strepsirrhine   E rubriventer        0.48     14.91         13.18   \n",
       "4  Strepsirrhine     Lemur catta        0.60     27.28         19.50   \n",
       "\n",
       "   perc.lactose  mass  neocortex.perc  \n",
       "0         67.98  1.95           55.16  \n",
       "1         63.82  2.09             NaN  \n",
       "2         69.04  2.51             NaN  \n",
       "3         71.91  1.62             NaN  \n",
       "4         53.22  2.19             NaN  "
      ]
     },
     "execution_count": 2,
     "metadata": {},
     "output_type": "execute_result"
    }
   ],
   "source": [
    "# Leer milk data\n",
    "milk_data = pd.read_csv(\n",
    "    \"data/milk.csv\",\n",
    "    sep=\";\"\n",
    ")\n",
    "milk_data.head()"
   ]
  },
  {
   "cell_type": "markdown",
   "id": "04c43a3f-e9ba-49a3-ba96-4c6471b06405",
   "metadata": {},
   "source": [
    "Observamos que para predecir el contenido energético, tenemos siete (7) posibles predictores. ¿Porqué no simplemente incluirlos todos?\n",
    "\n",
    "El primer problema, y quizá el menos nocivo, que nos podemos encontrar es el de **multicolinealidad**. La multicolinealidad significa una asociación fuerte entre dos o más predictores.\n",
    "\n",
    "> En muchos cursos y blogs, probablemente han visto/escuchado hablar de este tema, y es común como estrategia de selección de predictores, descartar variables altamente correlacionadas. Desde nuestro punto de vista, la pura correlación no importa. Lo que importa en realidad es la **asociación**, condicionada a las demás variables en el modelo.\n",
    "\n",
    "La consecuencia de la multicolinealidad es que la distribución posterior nos sugerirá potencialmente que ninguna de las variables colineales se asocia realmente con la variable resultado, **incluso si todas estas variables están fuertemente asociadas con la variable resultado.**"
   ]
  },
  {
   "cell_type": "markdown",
   "id": "5e0a1eaf-1973-43a5-846f-0a32ee368c86",
   "metadata": {},
   "source": [
    "Hablábamos de que este es quizá el problema menos nocivo, porque en realidad no es un problema. Simplemente es un reflejo de como funciona la regresión lineal. En realidad, en presencia de multicolinealidad, nuestro modelo será bueno haciendo predicciones. Lo que nos dará un poco más de dificultades es entender el modelo.\n",
    "\n",
    "Veamos una simple simulación para entender esto:"
   ]
  },
  {
   "cell_type": "code",
   "execution_count": 3,
   "id": "2fa94543-a1a8-4b08-a006-62d74b1782c1",
   "metadata": {},
   "outputs": [],
   "source": [
    "# Importar scipy.stats norm & uniform\n",
    "from scipy.stats import norm, uniform"
   ]
  },
  {
   "cell_type": "code",
   "execution_count": 4,
   "id": "98737c4b-30b2-4aa9-bbb0-be8d74fca88d",
   "metadata": {
    "scrolled": true
   },
   "outputs": [
    {
     "data": {
      "text/plain": [
       "\u001b[0;31mSignature:\u001b[0m       \u001b[0muniform\u001b[0m\u001b[0;34m(\u001b[0m\u001b[0;34m*\u001b[0m\u001b[0margs\u001b[0m\u001b[0;34m,\u001b[0m \u001b[0;34m**\u001b[0m\u001b[0mkwds\u001b[0m\u001b[0;34m)\u001b[0m\u001b[0;34m\u001b[0m\u001b[0;34m\u001b[0m\u001b[0m\n",
       "\u001b[0;31mType:\u001b[0m            uniform_gen\n",
       "\u001b[0;31mString form:\u001b[0m     <scipy.stats._continuous_distns.uniform_gen object at 0x7fa1c230f7f0>\n",
       "\u001b[0;31mFile:\u001b[0m            ~/anaconda3/envs/stat-rethink2-pymc_v4/lib/python3.10/site-packages/scipy/stats/_continuous_distns.py\n",
       "\u001b[0;31mDocstring:\u001b[0m      \n",
       "A uniform continuous random variable.\n",
       "\n",
       "In the standard form, the distribution is uniform on ``[0, 1]``. Using\n",
       "the parameters ``loc`` and ``scale``, one obtains the uniform distribution\n",
       "on ``[loc, loc + scale]``.\n",
       "\n",
       "As an instance of the `rv_continuous` class, `uniform` object inherits from it\n",
       "a collection of generic methods (see below for the full list),\n",
       "and completes them with details specific for this particular distribution.\n",
       "\n",
       "Methods\n",
       "-------\n",
       "rvs(loc=0, scale=1, size=1, random_state=None)\n",
       "    Random variates.\n",
       "pdf(x, loc=0, scale=1)\n",
       "    Probability density function.\n",
       "logpdf(x, loc=0, scale=1)\n",
       "    Log of the probability density function.\n",
       "cdf(x, loc=0, scale=1)\n",
       "    Cumulative distribution function.\n",
       "logcdf(x, loc=0, scale=1)\n",
       "    Log of the cumulative distribution function.\n",
       "sf(x, loc=0, scale=1)\n",
       "    Survival function  (also defined as ``1 - cdf``, but `sf` is sometimes more accurate).\n",
       "logsf(x, loc=0, scale=1)\n",
       "    Log of the survival function.\n",
       "ppf(q, loc=0, scale=1)\n",
       "    Percent point function (inverse of ``cdf`` --- percentiles).\n",
       "isf(q, loc=0, scale=1)\n",
       "    Inverse survival function (inverse of ``sf``).\n",
       "moment(n, loc=0, scale=1)\n",
       "    Non-central moment of order n\n",
       "stats(loc=0, scale=1, moments='mv')\n",
       "    Mean('m'), variance('v'), skew('s'), and/or kurtosis('k').\n",
       "entropy(loc=0, scale=1)\n",
       "    (Differential) entropy of the RV.\n",
       "fit(data)\n",
       "    Parameter estimates for generic data.\n",
       "    See `scipy.stats.rv_continuous.fit <https://docs.scipy.org/doc/scipy/reference/generated/scipy.stats.rv_continuous.fit.html#scipy.stats.rv_continuous.fit>`__ for detailed documentation of the\n",
       "    keyword arguments.\n",
       "expect(func, args=(), loc=0, scale=1, lb=None, ub=None, conditional=False, **kwds)\n",
       "    Expected value of a function (of one argument) with respect to the distribution.\n",
       "median(loc=0, scale=1)\n",
       "    Median of the distribution.\n",
       "mean(loc=0, scale=1)\n",
       "    Mean of the distribution.\n",
       "var(loc=0, scale=1)\n",
       "    Variance of the distribution.\n",
       "std(loc=0, scale=1)\n",
       "    Standard deviation of the distribution.\n",
       "interval(alpha, loc=0, scale=1)\n",
       "    Endpoints of the range that contains fraction alpha [0, 1] of the\n",
       "    distribution\n",
       "\n",
       "Examples\n",
       "--------\n",
       ">>> from scipy.stats import uniform\n",
       ">>> import matplotlib.pyplot as plt\n",
       ">>> fig, ax = plt.subplots(1, 1)\n",
       "\n",
       "Calculate the first four moments:\n",
       "\n",
       "\n",
       ">>> mean, var, skew, kurt = uniform.stats(moments='mvsk')\n",
       "\n",
       "Display the probability density function (``pdf``):\n",
       "\n",
       ">>> x = np.linspace(uniform.ppf(0.01),\n",
       "...                 uniform.ppf(0.99), 100)\n",
       ">>> ax.plot(x, uniform.pdf(x),\n",
       "...        'r-', lw=5, alpha=0.6, label='uniform pdf')\n",
       "\n",
       "Alternatively, the distribution object can be called (as a function)\n",
       "to fix the shape, location and scale parameters. This returns a \"frozen\"\n",
       "RV object holding the given parameters fixed.\n",
       "\n",
       "Freeze the distribution and display the frozen ``pdf``:\n",
       "\n",
       ">>> rv = uniform()\n",
       ">>> ax.plot(x, rv.pdf(x), 'k-', lw=2, label='frozen pdf')\n",
       "\n",
       "Check accuracy of ``cdf`` and ``ppf``:\n",
       "\n",
       ">>> vals = uniform.ppf([0.001, 0.5, 0.999])\n",
       ">>> np.allclose([0.001, 0.5, 0.999], uniform.cdf(vals))\n",
       "True\n",
       "\n",
       "Generate random numbers:\n",
       "\n",
       ">>> r = uniform.rvs(size=1000)\n",
       "\n",
       "And compare the histogram:\n",
       "\n",
       ">>> ax.hist(r, density=True, histtype='stepfilled', alpha=0.2)\n",
       ">>> ax.legend(loc='best', frameon=False)\n",
       ">>> plt.show()\n",
       "\u001b[0;31mClass docstring:\u001b[0m\n",
       "A uniform continuous random variable.\n",
       "\n",
       "In the standard form, the distribution is uniform on ``[0, 1]``. Using\n",
       "the parameters ``loc`` and ``scale``, one obtains the uniform distribution\n",
       "on ``[loc, loc + scale]``.\n",
       "\n",
       "%(before_notes)s\n",
       "\n",
       "%(example)s\n",
       "\u001b[0;31mCall docstring:\u001b[0m \n",
       "Freeze the distribution for the given arguments.\n",
       "\n",
       "Parameters\n",
       "----------\n",
       "arg1, arg2, arg3,... : array_like\n",
       "    The shape parameter(s) for the distribution.  Should include all\n",
       "    the non-optional arguments, may include ``loc`` and ``scale``.\n",
       "\n",
       "Returns\n",
       "-------\n",
       "rv_frozen : rv_frozen instance\n",
       "    The frozen distribution."
      ]
     },
     "metadata": {},
     "output_type": "display_data"
    }
   ],
   "source": [
    "uniform?"
   ]
  },
  {
   "cell_type": "code",
   "execution_count": 6,
   "id": "d91d41a5-4f1f-44cc-813c-0946f8b9199b",
   "metadata": {},
   "outputs": [],
   "source": [
    "# Número de individuos\n",
    "n_ind = 100\n",
    "# Simulación de la altura del individuo ~ N(170, 20)\n",
    "height = norm.rvs(size=n_ind, loc=1.7, scale=0.2)\n",
    "# Simulación de la proporción del tamaño de pierna ~ U(0.4, 0.5)\n",
    "leg_proportion = uniform.rvs(size=n_ind, loc=0.4, scale=0.1)\n",
    "# Simulación de los tamaños de pierna = proporción + error\n",
    "left_leg = leg_proportion * height + norm.rvs(size=n_ind, loc=0, scale=0.005)\n",
    "right_leg = leg_proportion * height + norm.rvs(size=n_ind, loc=0, scale=0.005)\n",
    "# Dataframe\n",
    "leg_data = pd.DataFrame({\n",
    "    \"height\": height,\n",
    "    \"left_leg\": left_leg,\n",
    "    \"right_leg\": right_leg\n",
    "})"
   ]
  },
  {
   "cell_type": "code",
   "execution_count": 7,
   "id": "b4dc6fe7-b2ec-4612-b092-45083c66a2e0",
   "metadata": {},
   "outputs": [
    {
     "data": {
      "text/html": [
       "<div>\n",
       "<style scoped>\n",
       "    .dataframe tbody tr th:only-of-type {\n",
       "        vertical-align: middle;\n",
       "    }\n",
       "\n",
       "    .dataframe tbody tr th {\n",
       "        vertical-align: top;\n",
       "    }\n",
       "\n",
       "    .dataframe thead th {\n",
       "        text-align: right;\n",
       "    }\n",
       "</style>\n",
       "<table border=\"1\" class=\"dataframe\">\n",
       "  <thead>\n",
       "    <tr style=\"text-align: right;\">\n",
       "      <th></th>\n",
       "      <th>height</th>\n",
       "      <th>left_leg</th>\n",
       "      <th>right_leg</th>\n",
       "    </tr>\n",
       "  </thead>\n",
       "  <tbody>\n",
       "    <tr>\n",
       "      <th>0</th>\n",
       "      <td>1.834076</td>\n",
       "      <td>0.800083</td>\n",
       "      <td>0.798090</td>\n",
       "    </tr>\n",
       "    <tr>\n",
       "      <th>1</th>\n",
       "      <td>1.824625</td>\n",
       "      <td>0.814039</td>\n",
       "      <td>0.803641</td>\n",
       "    </tr>\n",
       "    <tr>\n",
       "      <th>2</th>\n",
       "      <td>1.767656</td>\n",
       "      <td>0.734251</td>\n",
       "      <td>0.724058</td>\n",
       "    </tr>\n",
       "    <tr>\n",
       "      <th>3</th>\n",
       "      <td>1.841579</td>\n",
       "      <td>0.796429</td>\n",
       "      <td>0.822168</td>\n",
       "    </tr>\n",
       "    <tr>\n",
       "      <th>4</th>\n",
       "      <td>1.480443</td>\n",
       "      <td>0.599544</td>\n",
       "      <td>0.604149</td>\n",
       "    </tr>\n",
       "    <tr>\n",
       "      <th>...</th>\n",
       "      <td>...</td>\n",
       "      <td>...</td>\n",
       "      <td>...</td>\n",
       "    </tr>\n",
       "    <tr>\n",
       "      <th>95</th>\n",
       "      <td>1.389921</td>\n",
       "      <td>0.652427</td>\n",
       "      <td>0.642848</td>\n",
       "    </tr>\n",
       "    <tr>\n",
       "      <th>96</th>\n",
       "      <td>1.571187</td>\n",
       "      <td>0.672371</td>\n",
       "      <td>0.669304</td>\n",
       "    </tr>\n",
       "    <tr>\n",
       "      <th>97</th>\n",
       "      <td>1.998318</td>\n",
       "      <td>0.821147</td>\n",
       "      <td>0.822697</td>\n",
       "    </tr>\n",
       "    <tr>\n",
       "      <th>98</th>\n",
       "      <td>1.916207</td>\n",
       "      <td>0.922028</td>\n",
       "      <td>0.911079</td>\n",
       "    </tr>\n",
       "    <tr>\n",
       "      <th>99</th>\n",
       "      <td>1.661228</td>\n",
       "      <td>0.813160</td>\n",
       "      <td>0.811758</td>\n",
       "    </tr>\n",
       "  </tbody>\n",
       "</table>\n",
       "<p>100 rows × 3 columns</p>\n",
       "</div>"
      ],
      "text/plain": [
       "      height  left_leg  right_leg\n",
       "0   1.834076  0.800083   0.798090\n",
       "1   1.824625  0.814039   0.803641\n",
       "2   1.767656  0.734251   0.724058\n",
       "3   1.841579  0.796429   0.822168\n",
       "4   1.480443  0.599544   0.604149\n",
       "..       ...       ...        ...\n",
       "95  1.389921  0.652427   0.642848\n",
       "96  1.571187  0.672371   0.669304\n",
       "97  1.998318  0.821147   0.822697\n",
       "98  1.916207  0.922028   0.911079\n",
       "99  1.661228  0.813160   0.811758\n",
       "\n",
       "[100 rows x 3 columns]"
      ]
     },
     "execution_count": 7,
     "metadata": {},
     "output_type": "execute_result"
    }
   ],
   "source": [
    "# Overview de los datos\n",
    "leg_data"
   ]
  },
  {
   "cell_type": "markdown",
   "id": "cc5bc82f-df7f-4cf6-96af-00733348009e",
   "metadata": {},
   "source": [
    "Estos datos pretenden simular la altura de uan persona y el tamaño de ambas piernas. Se supone que el tamaño de las piernas es proporcional a la altura, pero cada pierna puede ser diferente de la otra por una pequeña cantidad.\n",
    "\n",
    "Ahora, generemos un modelo para intentar predecir la altura usando los tamaños de ambas piernas como predictores. ¿Qué podríamos esperar?\n",
    "\n",
    "- En promedio, la proporción del tamaño de piernas respecto a la altura es del 45% en estos datos simulados.\n",
    "- Por tanto esperaríamos ver los coeficientes de regresión al rededor de $\\frac{170}{170 \\times 0.45} \\approx 2.2$.\n",
    "\n",
    "Veamos que pasa en su lugar:"
   ]
  },
  {
   "cell_type": "code",
   "execution_count": 8,
   "id": "a278789d-be61-40e7-b975-ed9c9216d0b7",
   "metadata": {},
   "outputs": [],
   "source": [
    "# Importar pymc y arviz\n",
    "import pymc as pm\n",
    "import arviz as az"
   ]
  },
  {
   "cell_type": "code",
   "execution_count": 14,
   "id": "69743a43-f7a7-49af-b657-6c1fdfb27d9f",
   "metadata": {},
   "outputs": [
    {
     "name": "stderr",
     "output_type": "stream",
     "text": [
      "Only 100 samples in chain.\n",
      "Auto-assigning NUTS sampler...\n",
      "Initializing NUTS using jitter+adapt_diag...\n",
      "Multiprocess sampling (4 chains in 4 jobs)\n",
      "NUTS: [a, bl, br, sigma]\n"
     ]
    },
    {
     "data": {
      "text/html": [
       "\n",
       "<style>\n",
       "    /* Turns off some styling */\n",
       "    progress {\n",
       "        /* gets rid of default border in Firefox and Opera. */\n",
       "        border: none;\n",
       "        /* Needs to be in here for Safari polyfill so background images work as expected. */\n",
       "        background-size: auto;\n",
       "    }\n",
       "    progress:not([value]), progress:not([value])::-webkit-progress-bar {\n",
       "        background: repeating-linear-gradient(45deg, #7e7e7e, #7e7e7e 10px, #5c5c5c 10px, #5c5c5c 20px);\n",
       "    }\n",
       "    .progress-bar-interrupted, .progress-bar-interrupted::-webkit-progress-bar {\n",
       "        background: #F44336;\n",
       "    }\n",
       "</style>\n"
      ],
      "text/plain": [
       "<IPython.core.display.HTML object>"
      ]
     },
     "metadata": {},
     "output_type": "display_data"
    },
    {
     "data": {
      "text/html": [
       "\n",
       "    <div>\n",
       "      <progress value='4400' class='' max='4400' style='width:300px; height:20px; vertical-align: middle;'></progress>\n",
       "      100.00% [4400/4400 00:33&lt;00:00 Sampling 4 chains, 0 divergences]\n",
       "    </div>\n",
       "    "
      ],
      "text/plain": [
       "<IPython.core.display.HTML object>"
      ]
     },
     "metadata": {},
     "output_type": "display_data"
    },
    {
     "name": "stderr",
     "output_type": "stream",
     "text": [
      "Sampling 4 chains for 1_000 tune and 100 draw iterations (4_000 + 400 draws total) took 33 seconds.\n"
     ]
    }
   ],
   "source": [
    "# Modelo\n",
    "with pm.Model() as height_model:\n",
    "    a = pm.Normal(\"a\", mu=1.7, sigma=2)\n",
    "    bleft = pm.Normal(\"bl\", mu=2, sigma=10)\n",
    "    bright = pm.Normal(\"br\", mu=2, sigma=10)\n",
    "    sigma = pm.Exponential(\"sigma\", 1)\n",
    "    mu = a + bleft * left_leg + bright * right_leg\n",
    "    height = pm.Normal(\n",
    "        \"height\",\n",
    "        mu=mu,\n",
    "        sigma=sigma,\n",
    "        observed=leg_data[\"height\"]\n",
    "    )\n",
    "    idata_multicol = pm.sample(draws=100)"
   ]
  },
  {
   "cell_type": "code",
   "execution_count": 15,
   "id": "c48037a5-5845-451d-939a-8d434e31fce7",
   "metadata": {},
   "outputs": [
    {
     "data": {
      "text/html": [
       "<div>\n",
       "<style scoped>\n",
       "    .dataframe tbody tr th:only-of-type {\n",
       "        vertical-align: middle;\n",
       "    }\n",
       "\n",
       "    .dataframe tbody tr th {\n",
       "        vertical-align: top;\n",
       "    }\n",
       "\n",
       "    .dataframe thead th {\n",
       "        text-align: right;\n",
       "    }\n",
       "</style>\n",
       "<table border=\"1\" class=\"dataframe\">\n",
       "  <thead>\n",
       "    <tr style=\"text-align: right;\">\n",
       "      <th></th>\n",
       "      <th>mean</th>\n",
       "      <th>sd</th>\n",
       "      <th>hdi_5.5%</th>\n",
       "      <th>hdi_94.5%</th>\n",
       "    </tr>\n",
       "  </thead>\n",
       "  <tbody>\n",
       "    <tr>\n",
       "      <th>a</th>\n",
       "      <td>0.458</td>\n",
       "      <td>0.088</td>\n",
       "      <td>0.319</td>\n",
       "      <td>0.597</td>\n",
       "    </tr>\n",
       "    <tr>\n",
       "      <th>bl</th>\n",
       "      <td>0.528</td>\n",
       "      <td>1.122</td>\n",
       "      <td>-1.346</td>\n",
       "      <td>2.192</td>\n",
       "    </tr>\n",
       "    <tr>\n",
       "      <th>br</th>\n",
       "      <td>1.081</td>\n",
       "      <td>1.125</td>\n",
       "      <td>-0.604</td>\n",
       "      <td>2.917</td>\n",
       "    </tr>\n",
       "    <tr>\n",
       "      <th>sigma</th>\n",
       "      <td>0.091</td>\n",
       "      <td>0.007</td>\n",
       "      <td>0.081</td>\n",
       "      <td>0.102</td>\n",
       "    </tr>\n",
       "  </tbody>\n",
       "</table>\n",
       "</div>"
      ],
      "text/plain": [
       "        mean     sd  hdi_5.5%  hdi_94.5%\n",
       "a      0.458  0.088     0.319      0.597\n",
       "bl     0.528  1.122    -1.346      2.192\n",
       "br     1.081  1.125    -0.604      2.917\n",
       "sigma  0.091  0.007     0.081      0.102"
      ]
     },
     "execution_count": 15,
     "metadata": {},
     "output_type": "execute_result"
    }
   ],
   "source": [
    "# Summary\n",
    "az.summary(\n",
    "    idata_multicol,\n",
    "    kind=\"stats\",\n",
    "    hdi_prob=0.89,\n",
    "    var_names=[\"a\", \"bl\", \"br\", \"sigma\"]\n",
    ")"
   ]
  },
  {
   "cell_type": "code",
   "execution_count": 16,
   "id": "d48a1e44-9cd7-42c6-b549-13b6c157257a",
   "metadata": {},
   "outputs": [
    {
     "data": {
      "text/plain": [
       "array([<Axes: title={'center': '89.0% HDI'}>], dtype=object)"
      ]
     },
     "execution_count": 16,
     "metadata": {},
     "output_type": "execute_result"
    },
    {
     "data": {
      "image/png": "[encoded data removed]",
      "text/plain": [
       "<Figure size 500x200 with 1 Axes>"
      ]
     },
     "metadata": {},
     "output_type": "display_data"
    }
   ],
   "source": [
    "# Plot forest\n",
    "az.plot_forest(\n",
    "    idata_multicol,\n",
    "    var_names=[\"a\", \"br\", \"bl\", \"sigma\"],\n",
    "    combined=True,\n",
    "    figsize=[5, 2],\n",
    "    hdi_prob=0.89\n",
    ")"
   ]
  },
  {
   "cell_type": "markdown",
   "id": "9d5701b3-0fe5-40d6-a83e-ff58cfead177",
   "metadata": {},
   "source": [
    "Observamos que en la distribución posterior, tanto las medias como las desviaciones estándar no coinciden para nada con nuestra intuición.\n",
    "\n",
    "Incluso, simulando nuevos datos, aunque observemos que los datos son relativamente similares, las posteriores cambian bastante.\n",
    "\n",
    "Esto no quiere decir que nuestro modelo esté fallando. Simplemente, nos está entregando la posterior correspondiente a la pregunta que le hicimos. La pregunta es: *¿Cuál es el valor de conocer cada tamaño de la pierna, si ya conocemos el otro?*\n",
    "\n",
    "Veamos un gráfico de dispersión de puntos de $bl$ vs. $br$, y la densidad de la suma $bl + br$:"
   ]
  },
  {
   "cell_type": "code",
   "execution_count": 17,
   "id": "dfa8d6c9-31b6-452e-9401-13c7214092a7",
   "metadata": {},
   "outputs": [
    {
     "data": {
      "text/html": [
       "<div>\n",
       "<style scoped>\n",
       "    .dataframe tbody tr th:only-of-type {\n",
       "        vertical-align: middle;\n",
       "    }\n",
       "\n",
       "    .dataframe tbody tr th {\n",
       "        vertical-align: top;\n",
       "    }\n",
       "\n",
       "    .dataframe thead th {\n",
       "        text-align: right;\n",
       "    }\n",
       "</style>\n",
       "<table border=\"1\" class=\"dataframe\">\n",
       "  <thead>\n",
       "    <tr style=\"text-align: right;\">\n",
       "      <th></th>\n",
       "      <th>chain</th>\n",
       "      <th>draw</th>\n",
       "      <th>a</th>\n",
       "      <th>bl</th>\n",
       "      <th>br</th>\n",
       "      <th>sigma</th>\n",
       "    </tr>\n",
       "  </thead>\n",
       "  <tbody>\n",
       "    <tr>\n",
       "      <th>0</th>\n",
       "      <td>0</td>\n",
       "      <td>0</td>\n",
       "      <td>0.405558</td>\n",
       "      <td>-0.972585</td>\n",
       "      <td>2.646110</td>\n",
       "      <td>0.083883</td>\n",
       "    </tr>\n",
       "    <tr>\n",
       "      <th>1</th>\n",
       "      <td>0</td>\n",
       "      <td>1</td>\n",
       "      <td>0.379183</td>\n",
       "      <td>-1.804980</td>\n",
       "      <td>3.520220</td>\n",
       "      <td>0.085895</td>\n",
       "    </tr>\n",
       "    <tr>\n",
       "      <th>2</th>\n",
       "      <td>0</td>\n",
       "      <td>2</td>\n",
       "      <td>0.502320</td>\n",
       "      <td>-1.161498</td>\n",
       "      <td>2.693120</td>\n",
       "      <td>0.100905</td>\n",
       "    </tr>\n",
       "    <tr>\n",
       "      <th>3</th>\n",
       "      <td>0</td>\n",
       "      <td>3</td>\n",
       "      <td>0.485892</td>\n",
       "      <td>-0.121675</td>\n",
       "      <td>1.698883</td>\n",
       "      <td>0.104133</td>\n",
       "    </tr>\n",
       "    <tr>\n",
       "      <th>4</th>\n",
       "      <td>0</td>\n",
       "      <td>4</td>\n",
       "      <td>0.313553</td>\n",
       "      <td>0.116526</td>\n",
       "      <td>1.696040</td>\n",
       "      <td>0.095352</td>\n",
       "    </tr>\n",
       "    <tr>\n",
       "      <th>...</th>\n",
       "      <td>...</td>\n",
       "      <td>...</td>\n",
       "      <td>...</td>\n",
       "      <td>...</td>\n",
       "      <td>...</td>\n",
       "      <td>...</td>\n",
       "    </tr>\n",
       "    <tr>\n",
       "      <th>395</th>\n",
       "      <td>3</td>\n",
       "      <td>95</td>\n",
       "      <td>0.439645</td>\n",
       "      <td>-0.473204</td>\n",
       "      <td>2.117365</td>\n",
       "      <td>0.088534</td>\n",
       "    </tr>\n",
       "    <tr>\n",
       "      <th>396</th>\n",
       "      <td>3</td>\n",
       "      <td>96</td>\n",
       "      <td>0.539096</td>\n",
       "      <td>-1.065166</td>\n",
       "      <td>2.568236</td>\n",
       "      <td>0.090385</td>\n",
       "    </tr>\n",
       "    <tr>\n",
       "      <th>397</th>\n",
       "      <td>3</td>\n",
       "      <td>97</td>\n",
       "      <td>0.530131</td>\n",
       "      <td>-1.010002</td>\n",
       "      <td>2.516152</td>\n",
       "      <td>0.091951</td>\n",
       "    </tr>\n",
       "    <tr>\n",
       "      <th>398</th>\n",
       "      <td>3</td>\n",
       "      <td>98</td>\n",
       "      <td>0.532424</td>\n",
       "      <td>-0.597617</td>\n",
       "      <td>2.114608</td>\n",
       "      <td>0.098064</td>\n",
       "    </tr>\n",
       "    <tr>\n",
       "      <th>399</th>\n",
       "      <td>3</td>\n",
       "      <td>99</td>\n",
       "      <td>0.346735</td>\n",
       "      <td>0.714440</td>\n",
       "      <td>1.055398</td>\n",
       "      <td>0.099737</td>\n",
       "    </tr>\n",
       "  </tbody>\n",
       "</table>\n",
       "<p>400 rows × 6 columns</p>\n",
       "</div>"
      ],
      "text/plain": [
       "     chain  draw         a        bl        br     sigma\n",
       "0        0     0  0.405558 -0.972585  2.646110  0.083883\n",
       "1        0     1  0.379183 -1.804980  3.520220  0.085895\n",
       "2        0     2  0.502320 -1.161498  2.693120  0.100905\n",
       "3        0     3  0.485892 -0.121675  1.698883  0.104133\n",
       "4        0     4  0.313553  0.116526  1.696040  0.095352\n",
       "..     ...   ...       ...       ...       ...       ...\n",
       "395      3    95  0.439645 -0.473204  2.117365  0.088534\n",
       "396      3    96  0.539096 -1.065166  2.568236  0.090385\n",
       "397      3    97  0.530131 -1.010002  2.516152  0.091951\n",
       "398      3    98  0.532424 -0.597617  2.114608  0.098064\n",
       "399      3    99  0.346735  0.714440  1.055398  0.099737\n",
       "\n",
       "[400 rows x 6 columns]"
      ]
     },
     "execution_count": 17,
     "metadata": {},
     "output_type": "execute_result"
    }
   ],
   "source": [
    "# Dataframe con muestras de la posterior\n",
    "posterior_df = idata_multicol.posterior.to_dataframe().reset_index()\n",
    "posterior_df"
   ]
  },
  {
   "cell_type": "code",
   "execution_count": 18,
   "id": "874d170c-4659-495b-b2c5-4eaf69406604",
   "metadata": {},
   "outputs": [],
   "source": [
    "# Importar pyplot\n",
    "from matplotlib import pyplot as plt"
   ]
  },
  {
   "cell_type": "code",
   "execution_count": 19,
   "id": "c114a453-564f-4869-a2bd-8616bbd4debb",
   "metadata": {},
   "outputs": [
    {
     "data": {
      "text/plain": [
       "<Axes: xlabel='br', ylabel='bl'>"
      ]
     },
     "execution_count": 19,
     "metadata": {},
     "output_type": "execute_result"
    },
    {
     "data": {
      "image/png": "[encoded data removed]",
      "text/plain": [
       "<Figure size 640x480 with 1 Axes>"
      ]
     },
     "metadata": {},
     "output_type": "display_data"
    }
   ],
   "source": [
    "# Scatter plot\n",
    "posterior_df.plot.scatter(x=\"br\", y=\"bl\")"
   ]
  },
  {
   "cell_type": "code",
   "execution_count": 23,
   "id": "29be98ed-d14d-4f8d-b62e-69ed000e6772",
   "metadata": {},
   "outputs": [
    {
     "data": {
      "text/plain": [
       "<Axes: >"
      ]
     },
     "execution_count": 23,
     "metadata": {},
     "output_type": "execute_result"
    },
    {
     "data": {
      "image/png": "[encoded data removed]",
      "text/plain": [
       "<Figure size 640x480 with 1 Axes>"
      ]
     },
     "metadata": {},
     "output_type": "display_data"
    }
   ],
   "source": [
    "# KDE de suma de posteriores de br y bl\n",
    "az.plot_kde(posterior_df[\"br\"] + posterior_df[\"bl\"], bw=0.02)"
   ]
  },
  {
   "cell_type": "markdown",
   "id": "13a3f685-a82e-40db-b63e-62ef149a6325",
   "metadata": {},
   "source": [
    "Observamos que la distribución posterior para estos parámetros está altamente **negativamente** correlacionada. Cuando $bl$ es grande, $br$ es pequeña y viceversa.\n",
    "\n",
    "Obviamente, ambas variables contienen casi la misma información, por lo que si las incluimos ambas en un modelo, existirán prácticamente un número infinito de combinaciones de $bl$ y $br$ sobre la línea que vimos hace un momento, que producirán las mismas predicciones.\n",
    "\n",
    "Una manera de entender este hecho, es considerar el caso extremo de incluir exactamente el mismo predictor dos veces:\n",
    "\n",
    "$$\n",
    "\\begin{align}\n",
    "\\begin{array}{ccc}\n",
    "y_i & \\sim & \\text{Normal}(\\mu_i, \\sigma) \\\\\n",
    "\\mu_i & = & \\alpha + \\beta_1 x_i + \\beta_2 x_i\n",
    "\\end{array}\n",
    "\\end{align}\n",
    "$$\n",
    "\n",
    "Observamos que la última línea es equivalente a:\n",
    "\n",
    "$$\n",
    "\\mu_i = \\alpha + (\\beta_1 + \\beta_2) x_i.\n",
    "$$\n",
    "\n",
    "Acá observamos porqué los parámetros $\\beta_1$ y $\\beta_2$ están tan estrechamente correlacionados. Es imposible que uno por separado influencie a $\\mu$; solo su suma, $\\beta_1 + \\beta_2$ puede hacerlo. Podemos ver esto en la densidad que estimamos."
   ]
  },
  {
   "cell_type": "markdown",
   "id": "1c4de7cf-0c7e-4608-95a9-fa304a748702",
   "metadata": {},
   "source": [
    "Ahora, si ajustamos un modelo con una sola de las variables:"
   ]
  },
  {
   "cell_type": "code",
   "execution_count": 24,
   "id": "b7c5bf5a-00b1-47ce-93ee-4704c2b8b9b3",
   "metadata": {},
   "outputs": [
    {
     "name": "stderr",
     "output_type": "stream",
     "text": [
      "Only 100 samples in chain.\n",
      "Auto-assigning NUTS sampler...\n",
      "Initializing NUTS using jitter+adapt_diag...\n",
      "Multiprocess sampling (4 chains in 4 jobs)\n",
      "NUTS: [a, bl, sigma]\n"
     ]
    },
    {
     "data": {
      "text/html": [
       "\n",
       "<style>\n",
       "    /* Turns off some styling */\n",
       "    progress {\n",
       "        /* gets rid of default border in Firefox and Opera. */\n",
       "        border: none;\n",
       "        /* Needs to be in here for Safari polyfill so background images work as expected. */\n",
       "        background-size: auto;\n",
       "    }\n",
       "    progress:not([value]), progress:not([value])::-webkit-progress-bar {\n",
       "        background: repeating-linear-gradient(45deg, #7e7e7e, #7e7e7e 10px, #5c5c5c 10px, #5c5c5c 20px);\n",
       "    }\n",
       "    .progress-bar-interrupted, .progress-bar-interrupted::-webkit-progress-bar {\n",
       "        background: #F44336;\n",
       "    }\n",
       "</style>\n"
      ],
      "text/plain": [
       "<IPython.core.display.HTML object>"
      ]
     },
     "metadata": {},
     "output_type": "display_data"
    },
    {
     "data": {
      "text/html": [
       "\n",
       "    <div>\n",
       "      <progress value='4400' class='' max='4400' style='width:300px; height:20px; vertical-align: middle;'></progress>\n",
       "      100.00% [4400/4400 00:03&lt;00:00 Sampling 4 chains, 0 divergences]\n",
       "    </div>\n",
       "    "
      ],
      "text/plain": [
       "<IPython.core.display.HTML object>"
      ]
     },
     "metadata": {},
     "output_type": "display_data"
    },
    {
     "name": "stderr",
     "output_type": "stream",
     "text": [
      "Sampling 4 chains for 1_000 tune and 100 draw iterations (4_000 + 400 draws total) took 4 seconds.\n"
     ]
    }
   ],
   "source": [
    "# Modelo\n",
    "with pm.Model() as height_model_left:\n",
    "    a = pm.Normal(\"a\", mu=1.7, sigma=2)\n",
    "    bleft = pm.Normal(\"bl\", mu=2, sigma=10)\n",
    "    sigma = pm.Exponential(\"sigma\", 1)\n",
    "    mu = a + bleft * left_leg\n",
    "    height = pm.Normal(\n",
    "        \"height\",\n",
    "        mu=mu,\n",
    "        sigma=sigma,\n",
    "        observed=leg_data[\"height\"]\n",
    "    )\n",
    "    idata_left = pm.sample(draws=100)"
   ]
  },
  {
   "cell_type": "code",
   "execution_count": 25,
   "id": "7c1a88e0-87c5-4a32-8ac7-771d0220ba16",
   "metadata": {},
   "outputs": [
    {
     "data": {
      "text/html": [
       "<div>\n",
       "<style scoped>\n",
       "    .dataframe tbody tr th:only-of-type {\n",
       "        vertical-align: middle;\n",
       "    }\n",
       "\n",
       "    .dataframe tbody tr th {\n",
       "        vertical-align: top;\n",
       "    }\n",
       "\n",
       "    .dataframe thead th {\n",
       "        text-align: right;\n",
       "    }\n",
       "</style>\n",
       "<table border=\"1\" class=\"dataframe\">\n",
       "  <thead>\n",
       "    <tr style=\"text-align: right;\">\n",
       "      <th></th>\n",
       "      <th>mean</th>\n",
       "      <th>sd</th>\n",
       "      <th>hdi_5.5%</th>\n",
       "      <th>hdi_94.5%</th>\n",
       "    </tr>\n",
       "  </thead>\n",
       "  <tbody>\n",
       "    <tr>\n",
       "      <th>a</th>\n",
       "      <td>0.444</td>\n",
       "      <td>0.095</td>\n",
       "      <td>0.303</td>\n",
       "      <td>0.600</td>\n",
       "    </tr>\n",
       "    <tr>\n",
       "      <th>bl</th>\n",
       "      <td>1.627</td>\n",
       "      <td>0.127</td>\n",
       "      <td>1.422</td>\n",
       "      <td>1.820</td>\n",
       "    </tr>\n",
       "    <tr>\n",
       "      <th>sigma</th>\n",
       "      <td>0.092</td>\n",
       "      <td>0.006</td>\n",
       "      <td>0.082</td>\n",
       "      <td>0.101</td>\n",
       "    </tr>\n",
       "  </tbody>\n",
       "</table>\n",
       "</div>"
      ],
      "text/plain": [
       "        mean     sd  hdi_5.5%  hdi_94.5%\n",
       "a      0.444  0.095     0.303      0.600\n",
       "bl     1.627  0.127     1.422      1.820\n",
       "sigma  0.092  0.006     0.082      0.101"
      ]
     },
     "execution_count": 25,
     "metadata": {},
     "output_type": "execute_result"
    }
   ],
   "source": [
    "# Summary\n",
    "az.summary(\n",
    "    idata_left,\n",
    "    kind=\"stats\",\n",
    "    hdi_prob=0.89,\n",
    "    var_names=[\"a\", \"bl\", \"sigma\"]\n",
    ")"
   ]
  },
  {
   "cell_type": "markdown",
   "id": "4fa50faf-9e4e-4c4d-98d8-09f38123d705",
   "metadata": {},
   "source": [
    "Observamos que el valor medio de este nuevo $bl$ coincide con el valor medio del $bl+br$ que estimamos en el modelo anterior."
   ]
  },
  {
   "cell_type": "markdown",
   "id": "16684a3e-11a2-4989-bcae-243b6ec92102",
   "metadata": {},
   "source": [
    "Como conclusión, cuando dos predictores están fuertemente correlacionados, incluir ambos en el modelo puede resultar en confusión. La distribución posterior no va a estar mal, solamente será la respuesta a la pregunta que le hicimos: *¿Cuál es el valor de conocer cada predictor dado que conocemos los demás?*. Cabe decir que el modelo será bueno en cuanto a las predicciones, solamente no podremos interpretar la influencia de cada predictor."
   ]
  },
  {
   "cell_type": "markdown",
   "id": "ca4b2a41-d796-408d-84b0-6038d7954d40",
   "metadata": {},
   "source": [
    "## 2. Ejemplo con datos reales\n",
    "\n",
    "El ejemplo de las piernas es bastante bueno para entender conceptos, sin embargo, resulta claro que no incluiríamos el tamaño de las dos piernas en un modelo para predecir la altura.\n",
    "\n",
    "En un escenario real, es más complejo anticipar si dos predictores estarán correlacionados. Incluso predictores que en principio no relacionamos mentalmente, podrían inducir un efecto de multicolinealidad. Como vimos, el problema no está en las predicciones en sí, sino en las interpretaciones que hagamos del modelo."
   ]
  },
  {
   "cell_type": "code",
   "execution_count": 26,
   "id": "b2a0ab08-68b0-4a4a-a5ba-d22b034f97c7",
   "metadata": {},
   "outputs": [
    {
     "data": {
      "text/html": [
       "<div>\n",
       "<style scoped>\n",
       "    .dataframe tbody tr th:only-of-type {\n",
       "        vertical-align: middle;\n",
       "    }\n",
       "\n",
       "    .dataframe tbody tr th {\n",
       "        vertical-align: top;\n",
       "    }\n",
       "\n",
       "    .dataframe thead th {\n",
       "        text-align: right;\n",
       "    }\n",
       "</style>\n",
       "<table border=\"1\" class=\"dataframe\">\n",
       "  <thead>\n",
       "    <tr style=\"text-align: right;\">\n",
       "      <th></th>\n",
       "      <th>clade</th>\n",
       "      <th>species</th>\n",
       "      <th>kcal.per.g</th>\n",
       "      <th>perc.fat</th>\n",
       "      <th>perc.protein</th>\n",
       "      <th>perc.lactose</th>\n",
       "      <th>mass</th>\n",
       "      <th>neocortex.perc</th>\n",
       "    </tr>\n",
       "  </thead>\n",
       "  <tbody>\n",
       "    <tr>\n",
       "      <th>0</th>\n",
       "      <td>Strepsirrhine</td>\n",
       "      <td>Eulemur fulvus</td>\n",
       "      <td>0.49</td>\n",
       "      <td>16.60</td>\n",
       "      <td>15.42</td>\n",
       "      <td>67.98</td>\n",
       "      <td>1.95</td>\n",
       "      <td>55.16</td>\n",
       "    </tr>\n",
       "    <tr>\n",
       "      <th>1</th>\n",
       "      <td>Strepsirrhine</td>\n",
       "      <td>E macaco</td>\n",
       "      <td>0.51</td>\n",
       "      <td>19.27</td>\n",
       "      <td>16.91</td>\n",
       "      <td>63.82</td>\n",
       "      <td>2.09</td>\n",
       "      <td>NaN</td>\n",
       "    </tr>\n",
       "    <tr>\n",
       "      <th>2</th>\n",
       "      <td>Strepsirrhine</td>\n",
       "      <td>E mongoz</td>\n",
       "      <td>0.46</td>\n",
       "      <td>14.11</td>\n",
       "      <td>16.85</td>\n",
       "      <td>69.04</td>\n",
       "      <td>2.51</td>\n",
       "      <td>NaN</td>\n",
       "    </tr>\n",
       "    <tr>\n",
       "      <th>3</th>\n",
       "      <td>Strepsirrhine</td>\n",
       "      <td>E rubriventer</td>\n",
       "      <td>0.48</td>\n",
       "      <td>14.91</td>\n",
       "      <td>13.18</td>\n",
       "      <td>71.91</td>\n",
       "      <td>1.62</td>\n",
       "      <td>NaN</td>\n",
       "    </tr>\n",
       "    <tr>\n",
       "      <th>4</th>\n",
       "      <td>Strepsirrhine</td>\n",
       "      <td>Lemur catta</td>\n",
       "      <td>0.60</td>\n",
       "      <td>27.28</td>\n",
       "      <td>19.50</td>\n",
       "      <td>53.22</td>\n",
       "      <td>2.19</td>\n",
       "      <td>NaN</td>\n",
       "    </tr>\n",
       "  </tbody>\n",
       "</table>\n",
       "</div>"
      ],
      "text/plain": [
       "           clade         species  kcal.per.g  perc.fat  perc.protein  \\\n",
       "0  Strepsirrhine  Eulemur fulvus        0.49     16.60         15.42   \n",
       "1  Strepsirrhine        E macaco        0.51     19.27         16.91   \n",
       "2  Strepsirrhine        E mongoz        0.46     14.11         16.85   \n",
       "3  Strepsirrhine   E rubriventer        0.48     14.91         13.18   \n",
       "4  Strepsirrhine     Lemur catta        0.60     27.28         19.50   \n",
       "\n",
       "   perc.lactose  mass  neocortex.perc  \n",
       "0         67.98  1.95           55.16  \n",
       "1         63.82  2.09             NaN  \n",
       "2         69.04  2.51             NaN  \n",
       "3         71.91  1.62             NaN  \n",
       "4         53.22  2.19             NaN  "
      ]
     },
     "execution_count": 26,
     "metadata": {},
     "output_type": "execute_result"
    }
   ],
   "source": [
    "milk_data.head()"
   ]
  },
  {
   "cell_type": "markdown",
   "id": "5600092e-3ff7-4149-9a91-c6146dc9623c",
   "metadata": {},
   "source": [
    "En este ejemplo, nos concentraremos en los predictores correspondientes a:\n",
    "\n",
    "* porcentaje de grasa\n",
    "* porcentaje de lactosa\n",
    "\n",
    "para modelar el contenido energético de la leche."
   ]
  },
  {
   "cell_type": "code",
   "execution_count": 27,
   "id": "84e53ee9-1bee-4baf-86e2-856f8ef45629",
   "metadata": {},
   "outputs": [],
   "source": [
    "# Standardize function\n",
    "def standardize(y: pd.Series) -> pd.Series:\n",
    "    return (y - y.mean()) / y.std()"
   ]
  },
  {
   "cell_type": "code",
   "execution_count": 28,
   "id": "0fb21462-5025-4f97-a274-1a7e48a5037d",
   "metadata": {},
   "outputs": [],
   "source": [
    "# Estandarizamos variables\n",
    "milk_data[\"energy_std\"] = standardize(milk_data[\"kcal.per.g\"])\n",
    "milk_data[\"fat_std\"] = standardize(milk_data[\"perc.fat\"])\n",
    "milk_data[\"lactose_std\"] = standardize(milk_data[\"perc.lactose\"])"
   ]
  },
  {
   "cell_type": "markdown",
   "id": "85d305de-0527-4960-a59e-e79033e837c6",
   "metadata": {},
   "source": [
    "Comencemos con regresiones bivariadas:"
   ]
  },
  {
   "cell_type": "code",
   "execution_count": 29,
   "id": "97458d32-04e4-43dd-adc0-e53d17310f09",
   "metadata": {},
   "outputs": [
    {
     "name": "stderr",
     "output_type": "stream",
     "text": [
      "Auto-assigning NUTS sampler...\n",
      "Initializing NUTS using jitter+adapt_diag...\n",
      "Multiprocess sampling (4 chains in 4 jobs)\n",
      "NUTS: [a, bf, sigma]\n"
     ]
    },
    {
     "data": {
      "text/html": [
       "\n",
       "<style>\n",
       "    /* Turns off some styling */\n",
       "    progress {\n",
       "        /* gets rid of default border in Firefox and Opera. */\n",
       "        border: none;\n",
       "        /* Needs to be in here for Safari polyfill so background images work as expected. */\n",
       "        background-size: auto;\n",
       "    }\n",
       "    progress:not([value]), progress:not([value])::-webkit-progress-bar {\n",
       "        background: repeating-linear-gradient(45deg, #7e7e7e, #7e7e7e 10px, #5c5c5c 10px, #5c5c5c 20px);\n",
       "    }\n",
       "    .progress-bar-interrupted, .progress-bar-interrupted::-webkit-progress-bar {\n",
       "        background: #F44336;\n",
       "    }\n",
       "</style>\n"
      ],
      "text/plain": [
       "<IPython.core.display.HTML object>"
      ]
     },
     "metadata": {},
     "output_type": "display_data"
    },
    {
     "data": {
      "text/html": [
       "\n",
       "    <div>\n",
       "      <progress value='8000' class='' max='8000' style='width:300px; height:20px; vertical-align: middle;'></progress>\n",
       "      100.00% [8000/8000 00:01&lt;00:00 Sampling 4 chains, 0 divergences]\n",
       "    </div>\n",
       "    "
      ],
      "text/plain": [
       "<IPython.core.display.HTML object>"
      ]
     },
     "metadata": {},
     "output_type": "display_data"
    },
    {
     "name": "stderr",
     "output_type": "stream",
     "text": [
      "Sampling 4 chains for 1_000 tune and 1_000 draw iterations (4_000 + 4_000 draws total) took 2 seconds.\n"
     ]
    }
   ],
   "source": [
    "# Modelo con la grasa\n",
    "with pm.Model() as fat_model:\n",
    "    a = pm.Normal(\"a\", 0, 0.2)\n",
    "    bfat = pm.Normal(\"bf\", 0, 0.5)\n",
    "    sigma = pm.Exponential(\"sigma\", 1)\n",
    "\n",
    "    mu = a + bfat * milk_data[\"fat_std\"]\n",
    "    k = pm.Normal(\n",
    "        \"energy\",\n",
    "        mu,\n",
    "        sigma,\n",
    "        observed=milk_data[\"energy_std\"]\n",
    "    )\n",
    "    idata_fat = pm.sample()"
   ]
  },
  {
   "cell_type": "code",
   "execution_count": 30,
   "id": "caa50b8f-f3ba-42fe-abc3-a0092a9f8994",
   "metadata": {},
   "outputs": [
    {
     "name": "stderr",
     "output_type": "stream",
     "text": [
      "Auto-assigning NUTS sampler...\n",
      "Initializing NUTS using jitter+adapt_diag...\n",
      "Multiprocess sampling (4 chains in 4 jobs)\n",
      "NUTS: [a, bl, sigma]\n"
     ]
    },
    {
     "data": {
      "text/html": [
       "\n",
       "<style>\n",
       "    /* Turns off some styling */\n",
       "    progress {\n",
       "        /* gets rid of default border in Firefox and Opera. */\n",
       "        border: none;\n",
       "        /* Needs to be in here for Safari polyfill so background images work as expected. */\n",
       "        background-size: auto;\n",
       "    }\n",
       "    progress:not([value]), progress:not([value])::-webkit-progress-bar {\n",
       "        background: repeating-linear-gradient(45deg, #7e7e7e, #7e7e7e 10px, #5c5c5c 10px, #5c5c5c 20px);\n",
       "    }\n",
       "    .progress-bar-interrupted, .progress-bar-interrupted::-webkit-progress-bar {\n",
       "        background: #F44336;\n",
       "    }\n",
       "</style>\n"
      ],
      "text/plain": [
       "<IPython.core.display.HTML object>"
      ]
     },
     "metadata": {},
     "output_type": "display_data"
    },
    {
     "data": {
      "text/html": [
       "\n",
       "    <div>\n",
       "      <progress value='8000' class='' max='8000' style='width:300px; height:20px; vertical-align: middle;'></progress>\n",
       "      100.00% [8000/8000 00:01&lt;00:00 Sampling 4 chains, 0 divergences]\n",
       "    </div>\n",
       "    "
      ],
      "text/plain": [
       "<IPython.core.display.HTML object>"
      ]
     },
     "metadata": {},
     "output_type": "display_data"
    },
    {
     "name": "stderr",
     "output_type": "stream",
     "text": [
      "Sampling 4 chains for 1_000 tune and 1_000 draw iterations (4_000 + 4_000 draws total) took 2 seconds.\n"
     ]
    }
   ],
   "source": [
    "# Modelo con la lactosa\n",
    "with pm.Model() as lactose_model:\n",
    "    a = pm.Normal(\"a\", 0, 0.2)\n",
    "    blac = pm.Normal(\"bl\", 0, 0.5)\n",
    "    sigma = pm.Exponential(\"sigma\", 1)\n",
    "\n",
    "    mu = a + blac * milk_data[\"lactose_std\"]\n",
    "    k = pm.Normal(\n",
    "        \"energy\",\n",
    "        mu,\n",
    "        sigma,\n",
    "        observed=milk_data[\"energy_std\"]\n",
    "    )\n",
    "    idata_lactose = pm.sample()"
   ]
  },
  {
   "cell_type": "code",
   "execution_count": 31,
   "id": "3bcdc871-ab86-4b0e-8dd1-94431292529d",
   "metadata": {},
   "outputs": [
    {
     "data": {
      "text/html": [
       "<div>\n",
       "<style scoped>\n",
       "    .dataframe tbody tr th:only-of-type {\n",
       "        vertical-align: middle;\n",
       "    }\n",
       "\n",
       "    .dataframe tbody tr th {\n",
       "        vertical-align: top;\n",
       "    }\n",
       "\n",
       "    .dataframe thead th {\n",
       "        text-align: right;\n",
       "    }\n",
       "</style>\n",
       "<table border=\"1\" class=\"dataframe\">\n",
       "  <thead>\n",
       "    <tr style=\"text-align: right;\">\n",
       "      <th></th>\n",
       "      <th>mean</th>\n",
       "      <th>sd</th>\n",
       "      <th>hdi_5.5%</th>\n",
       "      <th>hdi_94.5%</th>\n",
       "    </tr>\n",
       "  </thead>\n",
       "  <tbody>\n",
       "    <tr>\n",
       "      <th>a</th>\n",
       "      <td>-0.000</td>\n",
       "      <td>0.083</td>\n",
       "      <td>-0.131</td>\n",
       "      <td>0.131</td>\n",
       "    </tr>\n",
       "    <tr>\n",
       "      <th>bf</th>\n",
       "      <td>0.858</td>\n",
       "      <td>0.090</td>\n",
       "      <td>0.716</td>\n",
       "      <td>1.004</td>\n",
       "    </tr>\n",
       "    <tr>\n",
       "      <th>sigma</th>\n",
       "      <td>0.489</td>\n",
       "      <td>0.068</td>\n",
       "      <td>0.378</td>\n",
       "      <td>0.585</td>\n",
       "    </tr>\n",
       "  </tbody>\n",
       "</table>\n",
       "</div>"
      ],
      "text/plain": [
       "        mean     sd  hdi_5.5%  hdi_94.5%\n",
       "a     -0.000  0.083    -0.131      0.131\n",
       "bf     0.858  0.090     0.716      1.004\n",
       "sigma  0.489  0.068     0.378      0.585"
      ]
     },
     "execution_count": 31,
     "metadata": {},
     "output_type": "execute_result"
    }
   ],
   "source": [
    "az.summary(\n",
    "    idata_fat,\n",
    "    kind=\"stats\",\n",
    "    hdi_prob=0.89,\n",
    "    var_names=[\"a\", \"bf\", \"sigma\"]\n",
    ")"
   ]
  },
  {
   "cell_type": "code",
   "execution_count": 32,
   "id": "16bce8a4-7edb-4e1f-880c-7d517bd72c5e",
   "metadata": {},
   "outputs": [
    {
     "data": {
      "text/html": [
       "<div>\n",
       "<style scoped>\n",
       "    .dataframe tbody tr th:only-of-type {\n",
       "        vertical-align: middle;\n",
       "    }\n",
       "\n",
       "    .dataframe tbody tr th {\n",
       "        vertical-align: top;\n",
       "    }\n",
       "\n",
       "    .dataframe thead th {\n",
       "        text-align: right;\n",
       "    }\n",
       "</style>\n",
       "<table border=\"1\" class=\"dataframe\">\n",
       "  <thead>\n",
       "    <tr style=\"text-align: right;\">\n",
       "      <th></th>\n",
       "      <th>mean</th>\n",
       "      <th>sd</th>\n",
       "      <th>hdi_5.5%</th>\n",
       "      <th>hdi_94.5%</th>\n",
       "    </tr>\n",
       "  </thead>\n",
       "  <tbody>\n",
       "    <tr>\n",
       "      <th>a</th>\n",
       "      <td>-0.001</td>\n",
       "      <td>0.070</td>\n",
       "      <td>-0.120</td>\n",
       "      <td>0.104</td>\n",
       "    </tr>\n",
       "    <tr>\n",
       "      <th>bl</th>\n",
       "      <td>-0.900</td>\n",
       "      <td>0.077</td>\n",
       "      <td>-1.024</td>\n",
       "      <td>-0.780</td>\n",
       "    </tr>\n",
       "    <tr>\n",
       "      <th>sigma</th>\n",
       "      <td>0.411</td>\n",
       "      <td>0.059</td>\n",
       "      <td>0.317</td>\n",
       "      <td>0.497</td>\n",
       "    </tr>\n",
       "  </tbody>\n",
       "</table>\n",
       "</div>"
      ],
      "text/plain": [
       "        mean     sd  hdi_5.5%  hdi_94.5%\n",
       "a     -0.001  0.070    -0.120      0.104\n",
       "bl    -0.900  0.077    -1.024     -0.780\n",
       "sigma  0.411  0.059     0.317      0.497"
      ]
     },
     "execution_count": 32,
     "metadata": {},
     "output_type": "execute_result"
    }
   ],
   "source": [
    "az.summary(\n",
    "    idata_lactose,\n",
    "    kind=\"stats\",\n",
    "    hdi_prob=0.89,\n",
    "    var_names=[\"a\", \"bl\", \"sigma\"]\n",
    ")"
   ]
  },
  {
   "cell_type": "markdown",
   "id": "de8e8d0e-e6e2-4875-b1b0-437c5c95b619",
   "metadata": {},
   "source": [
    "Podemos observar que las posteriores de $bf$ y $bl$ son casi un espejo. Ambas son posteriores estrechas, que yacen de un solo lado del cero, $bf$ en el lado positivo y $bl$ en el lado negativo.\n",
    "\n",
    "Podríamos concluir que ambas variables son predictores \"confiables\" del contenido energético de la leche. Sin embargo, veamos que pasa con un modelo con ambos predictores:"
   ]
  },
  {
   "cell_type": "code",
   "execution_count": 33,
   "id": "a1cf2cca-eee3-4fd8-b375-46fbbf4b34e8",
   "metadata": {},
   "outputs": [
    {
     "name": "stderr",
     "output_type": "stream",
     "text": [
      "Auto-assigning NUTS sampler...\n",
      "Initializing NUTS using jitter+adapt_diag...\n",
      "Multiprocess sampling (4 chains in 4 jobs)\n",
      "NUTS: [a, bf, bl, sigma]\n"
     ]
    },
    {
     "data": {
      "text/html": [
       "\n",
       "<style>\n",
       "    /* Turns off some styling */\n",
       "    progress {\n",
       "        /* gets rid of default border in Firefox and Opera. */\n",
       "        border: none;\n",
       "        /* Needs to be in here for Safari polyfill so background images work as expected. */\n",
       "        background-size: auto;\n",
       "    }\n",
       "    progress:not([value]), progress:not([value])::-webkit-progress-bar {\n",
       "        background: repeating-linear-gradient(45deg, #7e7e7e, #7e7e7e 10px, #5c5c5c 10px, #5c5c5c 20px);\n",
       "    }\n",
       "    .progress-bar-interrupted, .progress-bar-interrupted::-webkit-progress-bar {\n",
       "        background: #F44336;\n",
       "    }\n",
       "</style>\n"
      ],
      "text/plain": [
       "<IPython.core.display.HTML object>"
      ]
     },
     "metadata": {},
     "output_type": "display_data"
    },
    {
     "data": {
      "text/html": [
       "\n",
       "    <div>\n",
       "      <progress value='8000' class='' max='8000' style='width:300px; height:20px; vertical-align: middle;'></progress>\n",
       "      100.00% [8000/8000 00:02&lt;00:00 Sampling 4 chains, 0 divergences]\n",
       "    </div>\n",
       "    "
      ],
      "text/plain": [
       "<IPython.core.display.HTML object>"
      ]
     },
     "metadata": {},
     "output_type": "display_data"
    },
    {
     "name": "stderr",
     "output_type": "stream",
     "text": [
      "Sampling 4 chains for 1_000 tune and 1_000 draw iterations (4_000 + 4_000 draws total) took 3 seconds.\n"
     ]
    }
   ],
   "source": [
    "# Modelo con ambas variables\n",
    "with pm.Model() as full_model:\n",
    "    a = pm.Normal(\"a\", 0, 0.2)\n",
    "    bfat = pm.Normal(\"bf\", 0, 0.5)\n",
    "    blac = pm.Normal(\"bl\", 0, 0.5)\n",
    "    sigma = pm.Exponential(\"sigma\", 1)\n",
    "\n",
    "    mu = a + blac * milk_data[\"lactose_std\"] + bfat * milk_data[\"fat_std\"]\n",
    "    k = pm.Normal(\n",
    "        \"energy\",\n",
    "        mu,\n",
    "        sigma,\n",
    "        observed=milk_data[\"energy_std\"]\n",
    "    )\n",
    "    idata_full = pm.sample()"
   ]
  },
  {
   "cell_type": "code",
   "execution_count": 34,
   "id": "de5ff57c-726d-4a9f-a39e-734921c44b07",
   "metadata": {},
   "outputs": [
    {
     "data": {
      "text/html": [
       "<div>\n",
       "<style scoped>\n",
       "    .dataframe tbody tr th:only-of-type {\n",
       "        vertical-align: middle;\n",
       "    }\n",
       "\n",
       "    .dataframe tbody tr th {\n",
       "        vertical-align: top;\n",
       "    }\n",
       "\n",
       "    .dataframe thead th {\n",
       "        text-align: right;\n",
       "    }\n",
       "</style>\n",
       "<table border=\"1\" class=\"dataframe\">\n",
       "  <thead>\n",
       "    <tr style=\"text-align: right;\">\n",
       "      <th></th>\n",
       "      <th>mean</th>\n",
       "      <th>sd</th>\n",
       "      <th>hdi_5.5%</th>\n",
       "      <th>hdi_94.5%</th>\n",
       "    </tr>\n",
       "  </thead>\n",
       "  <tbody>\n",
       "    <tr>\n",
       "      <th>a</th>\n",
       "      <td>-0.001</td>\n",
       "      <td>0.074</td>\n",
       "      <td>-0.121</td>\n",
       "      <td>0.110</td>\n",
       "    </tr>\n",
       "    <tr>\n",
       "      <th>bf</th>\n",
       "      <td>0.256</td>\n",
       "      <td>0.198</td>\n",
       "      <td>-0.058</td>\n",
       "      <td>0.565</td>\n",
       "    </tr>\n",
       "    <tr>\n",
       "      <th>bl</th>\n",
       "      <td>-0.664</td>\n",
       "      <td>0.200</td>\n",
       "      <td>-0.991</td>\n",
       "      <td>-0.351</td>\n",
       "    </tr>\n",
       "    <tr>\n",
       "      <th>sigma</th>\n",
       "      <td>0.415</td>\n",
       "      <td>0.060</td>\n",
       "      <td>0.319</td>\n",
       "      <td>0.500</td>\n",
       "    </tr>\n",
       "  </tbody>\n",
       "</table>\n",
       "</div>"
      ],
      "text/plain": [
       "        mean     sd  hdi_5.5%  hdi_94.5%\n",
       "a     -0.001  0.074    -0.121      0.110\n",
       "bf     0.256  0.198    -0.058      0.565\n",
       "bl    -0.664  0.200    -0.991     -0.351\n",
       "sigma  0.415  0.060     0.319      0.500"
      ]
     },
     "execution_count": 34,
     "metadata": {},
     "output_type": "execute_result"
    }
   ],
   "source": [
    "# Summary\n",
    "az.summary(\n",
    "    idata_full,\n",
    "    kind=\"stats\",\n",
    "    hdi_prob=0.89,\n",
    "    var_names=[\"a\", \"bf\", \"bl\", \"sigma\"]\n",
    ")"
   ]
  },
  {
   "cell_type": "markdown",
   "id": "1ab1cdde-327d-49b9-8889-0d3b99daf3d0",
   "metadata": {},
   "source": [
    "Observamos que ahora, las medias de las posteriores de ambos parámetros se movieron hacia cero, e incluso sus desviaciones estándar casi se triplicaron.\n",
    "\n",
    "Esto es un claro indicativo de que tanto el porcentaje de grasa como el porcentaje de lactosa contienen información similar resepecto al contenido energético de la leche."
   ]
  },
  {
   "cell_type": "code",
   "execution_count": 35,
   "id": "0e6d71fe-271a-4fee-8b1e-346023c43708",
   "metadata": {},
   "outputs": [],
   "source": [
    "import seaborn as sns"
   ]
  },
  {
   "cell_type": "code",
   "execution_count": 36,
   "id": "11bcbda1-c8e6-43f6-8da7-fdd4430b7bde",
   "metadata": {},
   "outputs": [
    {
     "data": {
      "text/plain": [
       "<seaborn.axisgrid.PairGrid at 0x7fa225c75210>"
      ]
     },
     "execution_count": 36,
     "metadata": {},
     "output_type": "execute_result"
    },
    {
     "data": {
      "image/png": "[encoded data removed]",
      "text/plain": [
       "<Figure size 750x750 with 12 Axes>"
      ]
     },
     "metadata": {},
     "output_type": "display_data"
    }
   ],
   "source": [
    "sns.pairplot(\n",
    "    milk_data[[\"kcal.per.g\", \"perc.fat\", \"perc.lactose\"]]\n",
    ")   "
   ]
  },
  {
   "cell_type": "markdown",
   "id": "53e964e0-ffbb-4899-9463-579b9507a435",
   "metadata": {},
   "source": [
    "Es decir, cualquiera de las dos puede ser un buen predictor para el contenido energético, pero una vez conoces una, incluir la otra en el modelo no es de mucha ayuda."
   ]
  },
  {
   "cell_type": "markdown",
   "id": "d258bcba-7ed5-4b71-bcf7-c958cf6d1ced",
   "metadata": {},
   "source": [
    "**¿Porqué sucede esto?**\n",
    "\n",
    "Una vez hemos identificado la multicolinealidad, es importante entender qué es lo que la causa. En este ejemplo de la leche, lo que puede estar pasando es que hay un efecto de compensación de una variable con otra.\n",
    "\n",
    "Si una especie amamanta recurrentemente, la leche tiende a ser \"más líquida\" y con menos contenido energético. Dicha leche es alta en azucar (lactosa). Por otra parte, si una especia amamanta de forma más esporádica, la leche necesita ser más alta en energía, para lo cual se necesita más grasa.\n",
    "\n",
    "Esto implica el siguiente modelo:"
   ]
  },
  {
   "cell_type": "code",
   "execution_count": 37,
   "id": "ec75a1f8-d4a4-4b3d-b114-cbf100310f69",
   "metadata": {},
   "outputs": [],
   "source": [
    "from causalgraphicalmodels import CausalGraphicalModel\n",
    "from daft import PGM"
   ]
  },
  {
   "cell_type": "code",
   "execution_count": 38,
   "id": "d2583def-4b6e-47f3-8a31-41a5b32b3be9",
   "metadata": {},
   "outputs": [
    {
     "data": {
      "image/png": "[encoded data removed]",
      "text/plain": [
       "<Figure size 212.598x133.858 with 1 Axes>"
      ]
     },
     "metadata": {},
     "output_type": "display_data"
    }
   ],
   "source": [
    "nodes = [\"L\", \"D\", \"F\", \"K\"]\n",
    "edges = [(\"D\", \"L\"), (\"D\", \"F\"), (\"L\", \"K\"), (\"F\", \"K\")]\n",
    "dag1 = CausalGraphicalModel(nodes=nodes, edges=edges)\n",
    "pgm1 = PGM()\n",
    "coordinates = {\"L\": (0, 0), \"D\": (1, 0), \"F\": (2, 0), \"K\": (1, 1)}\n",
    "for node in nodes:\n",
    "    pgm1.add_node(node, node, *coordinates[node])\n",
    "for edge in edges:\n",
    "    pgm1.add_edge(*edge)\n",
    "pgm1.render()\n",
    "plt.gca().invert_yaxis()"
   ]
  },
  {
   "cell_type": "markdown",
   "id": "34115cfa-06ec-449e-ad6e-f9cc69cb622a",
   "metadata": {},
   "source": [
    "Donde $D$ es una variable no observada que indica qué tan densa debe de ser la leche. Si pudiéramos medir $D$ o tener un modelo para ella, esto sería mejor a intentar diferentes regresiones para ver cuál es mejor."
   ]
  },
  {
   "cell_type": "code",
   "execution_count": null,
   "id": "34534c1c-1805-40b7-8795-eb37ad8cbbbf",
   "metadata": {},
   "outputs": [],
   "source": []
  }
 ],
 "metadata": {
  "kernelspec": {
   "display_name": "Python 3.11 (stat-rethink2-pymc_v4)",
   "language": "python",
   "name": "stat-rethink2-pymc_v4"
  },
  "language_info": {
   "codemirror_mode": {
    "name": "ipython",
    "version": 3
   },
   "file_extension": ".py",
   "mimetype": "text/x-python",
   "name": "python",
   "nbconvert_exporter": "python",
   "pygments_lexer": "ipython3",
   "version": "3.10.12"
  }
 },
 "nbformat": 4,
 "nbformat_minor": 5
}
