{
 "cells": [
  {
   "cell_type": "markdown",
   "id": "e2a9150f-caa2-4728-824c-88d06b7e65d5",
   "metadata": {},
   "source": [
    "# Modelos de regresión lineal\n",
    "\n",
    "![BLR](https://upload.wikimedia.org/wikipedia/commons/e/ed/Bayes_icon.svg)\n",
    "\n",
    "Hasta ahora hemos visto modelos de regresión lineal, usando inferencia exacta para la estimación de la distribución posterior de los parámetros, bajo un caso particular (suponiendo la varianza de la dispersión conocida). Si quisiéramos asumir previas distintas a la normal para los parámetros, incluyendo una previa para el parámetro de varianza, entonces la inferencia exacta de la distribución posterior se vuelve prácticamente imposible.\n",
    "\n",
    "En este tema, estudiamos el uso de muestreo de la distribución posterior usando técnicas Montecarlo, dándonos la libertad de elegir la previa que mejor represente nuestro conocimiento de la situación.\n",
    "\n",
    "> **Objetivos:**\n",
    "> - Adoptar un lenguaje estándar para definir modelos probabilísticos.\n",
    "> - Revisitar el modelo Gaussiano.\n",
    "> - Revisitar modelos de predicción lineal desde una perspectiva de Montecarlo.\n",
    "\n",
    "> **Referencias:**\n",
    "> \n",
    "> - Statistical Rethinking: A Bayesian Course with Examples in R and Stan (2nd edition) - Richard McElreath."
   ]
  },
  {
   "cell_type": "markdown",
   "id": "32a28932-b638-4222-8475-cefacf190c40",
   "metadata": {},
   "source": [
    "## 1. Un lenguaje para escribir modelos probabilísticos.\n",
    "\n",
    "Lo primero, es aprender el lenguaje con el que se describen comúnmente los modelos probabilísticos. Este tipo de descripciones son bastante estándar en casi todos los artículos académicos y libros en general, tanto en modelamiento Bayesiano y no Bayesiano, por lo que entender este lenguaje nos será de mucha utilidad."
   ]
  },
  {
   "cell_type": "markdown",
   "id": "5ac61e6e-5ed6-438b-81df-8d6881beaccf",
   "metadata": {},
   "source": [
    "A alto nivel, la receta es la siguiente:\n",
    "\n",
    "1. Compilamos el conjunto de variables con el que vamos a trabajar. Algunas de estas variables son observables (las llamamos **datos**). Otras, no son observables, como tasas, medias, varianzas, entre otros... (las llamamos **parámetros**).\n",
    "2. Definimos cada variable en términos de otras, o bien en términos de una distribución de probabilidad.\n",
    "3. La combinación de las variables y sus distribuciones de probabilidad definen un **modelo generativo**, el cual puede usarse para simular observaciones hipotéticas o analizar observaciones reales."
   ]
  },
  {
   "cell_type": "markdown",
   "id": "6eac63ed-6075-4aae-9b93-c7a4e71ba3ee",
   "metadata": {},
   "source": [
    "Esta receta aplica en cada campo, desde ingeniería, hasta antropología. Normalmente, las dificultades radican en el área de estudio: ¿Cuáles variables son importantes y cómo las conectamos?\n",
    "\n",
    "Una vez se tenga esto claro, escribir el modelo es más o menos simple."
   ]
  },
  {
   "cell_type": "markdown",
   "id": "5bef9779-fe51-4ab5-ac3c-687393499fd7",
   "metadata": {},
   "source": [
    "**Ejemplo.** Consideremos, nuevamente, el caso de una moneda que tiramos $N$ veces. Queremos razonar acerca de las veces que la moneda cayó cara. \n",
    "\n",
    "Llamemos a la variable aleatoria del número de veces que la moneda cae cara $C$. Entonces:\n",
    "\n",
    "\\begin{align}\n",
    "\\begin{array}{lcl}\n",
    "C & \\sim & \\text{Binomial}(N, p) \\\\\n",
    "p & \\sim & \\text{Uniform}(0, 1)\n",
    "\\end{array}\n",
    "\\end{align}\n",
    "\n",
    "En este ejemplo, $p$ es la probabilidad de que la moneda caiga cara en un solo tiro.\n",
    "\n",
    "La anterior descripción del modelo puede leerse como:\n",
    "> La cantidad de veces que la moneda cae cara $C$, distribuye binomial con tamaño de muestra $N$ y probabilidad $p$. La previa para $p$ se supone uniforme entre cero y uno."
   ]
  },
  {
   "cell_type": "markdown",
   "id": "fb373206-2a8e-4104-acd7-14283d99c500",
   "metadata": {},
   "source": [
    "Al escribir el modelo de esta forma, involucramos todas las suposiciones. Por ejemplo, en la distribución binomial sabemos que cada tiro es independiente de otros, de forma que estamos modelando los datos como muestras iid.\n",
    "\n",
    "Una de las ventajas que comenzaremos a ver de ahora en adelante, es que en este **lenguaje probabilístico** nos distanciamos de las engorrosas formas matemáticas de las funciones de densidad, lo cual no significa que no las debamos tener presentes. Sin embargo, si es útil tener un lenguaje en el que resumamos todo el comportamiento, sin tener que estar escribiendo *tantas matemáticas*.\n",
    "\n",
    "En un modelo como el de arriba, la primera línea define la función de verosimilitud usada en el teorema de Bayes, mientras que las demás definen las previas.\n",
    "\n",
    "En el ejemplo, ambas relaciones son **estocásticas**, lo cual es indicado por el símbolo $\\sim$. Una relación estocástica es simplemente una relación de un parámetro a una distribución. Luego escribiremos modelos con relaciones **deterministas** dentro de ellos."
   ]
  },
  {
   "cell_type": "markdown",
   "id": "29b57168-16cd-4a46-93bd-ef89ee799033",
   "metadata": {},
   "source": [
    "## 2. Modelo Gaussiano de la altura.\n",
    "\n",
    "Ya que conocemos las bases de la escritura de modelos probabilísticos, construyamos un modelo nosotros mismos.\n",
    "\n",
    "Primero, modelaremos una variable como una distribución Gaussiana, la cual sabemos que tiene dos parámetros, la media $\\mu$ y la varianza $\\sigma^2$.\n",
    "\n",
    "La actualización Bayesiana, nos permitirá considerar cada combinación posible de $\\mu$ y $\\sigma$, y las ponderará de acuerdo a su plausibilidad de acuerdo a los datos, dando lugar a la distribución posterior de $\\mu$ y $\\sigma$."
   ]
  },
  {
   "cell_type": "markdown",
   "id": "6449010d-e929-43ea-91b0-9e8608d83833",
   "metadata": {},
   "source": [
    "Los datos que modelaremos corresponden a un censo parcial de la población [!Kung San en el área Dobe (sur de África)](https://laulima.hawaii.edu/access/content/user/millerg/ANTH_200/A200Unit1/DobeKung.html). Los !Kung San son la población nómada más famosa del siglo 20, y la más estudiada también."
   ]
  },
  {
   "cell_type": "code",
   "execution_count": null,
   "id": "be896cc1-da41-49d9-95e2-ba66aec0953a",
   "metadata": {},
   "outputs": [],
   "source": [
    "# Importar pandas\n"
   ]
  },
  {
   "cell_type": "code",
   "execution_count": null,
   "id": "df7e36e4-b56a-4128-892d-c464a480a83b",
   "metadata": {},
   "outputs": [],
   "source": [
    "# Leer datos\n"
   ]
  },
  {
   "cell_type": "code",
   "execution_count": null,
   "id": "d87ee317-60a4-4899-ae83-290ccd9bbba7",
   "metadata": {},
   "outputs": [],
   "source": [
    "# Método describe\n"
   ]
  },
  {
   "cell_type": "markdown",
   "id": "a9982c92-f0c1-4cb4-ad57-cf2214814c7f",
   "metadata": {},
   "source": [
    "Observamos que hay mucha variabilidad en los datos correspondientes a la altura. En parte, esto viene dado porque hay información de personas de todas las edades. Por ahora, nos concentraremos en la población adulta:"
   ]
  },
  {
   "cell_type": "code",
   "execution_count": null,
   "id": "825509e9-f093-4ee8-b66b-3ad4912a4f66",
   "metadata": {},
   "outputs": [],
   "source": [
    "# Extraer datos de adultos\n"
   ]
  },
  {
   "cell_type": "code",
   "execution_count": null,
   "id": "7f42d761-2af9-4029-a08d-74759f92abff",
   "metadata": {},
   "outputs": [],
   "source": [
    "# Método describe\n"
   ]
  },
  {
   "cell_type": "markdown",
   "id": "aebb78d5-aec6-4348-b16e-120586916853",
   "metadata": {},
   "source": [
    "Para comenzar nuestro modelo, queremos modelar la altura de cada individuo como una distribución normal con media $\\mu$, y desviación estándar $\\sigma$:\n",
    "\n",
    "$$\n",
    "h_i \\sim \\text{Normal}(\\mu, \\sigma).\n",
    "$$\n",
    "\n",
    "> Ya no lo escribimos pero la suposición de iid va implícita en esta proposición.\n",
    "\n",
    "Como antes, esta definición define la función de verosimilitud. Para completar los ingredientes en la regla de Bayes, necesitamos la previa para nuestros parámetros $\\mu$ y $\\sigma$, $P(\\mu, \\sigma)$. Comúnmente, las previas se especifican de manera independiente para cada parámetro, lo que implica la suposición de $P(\\mu, \\sigma)=P(\\mu)P(\\sigma)$. Con esto, escribimos:\n",
    "\n",
    "$$\n",
    "\\begin{align}\n",
    "\\begin{array}{lcl}\n",
    "h_i & \\sim & \\text{Normal}(\\mu, \\sigma) \\\\\n",
    "\\mu & \\sim & \\text{Normal}(170, 20) \\\\\n",
    "\\sigma & \\sim & \\text{Uniform}(0, 50)\n",
    "\\end{array}\n",
    "\\end{align}\n",
    "$$"
   ]
  },
  {
   "cell_type": "markdown",
   "id": "cf815aa8-c868-499b-831f-3b2bdc13cfc5",
   "metadata": {},
   "source": [
    "**¿Qué significan estas previas?**\n"
   ]
  },
  {
   "cell_type": "markdown",
   "id": "8b6bcc26-0423-4e56-9aa0-00646e1c3cd6",
   "metadata": {},
   "source": [
    "La previa para $\\mu$ es una previa Gaussiana algo *amplia*, centrada en $170$ cm y con el $95$% de probabilidad concentrada en el intervalo $170 \\pm 40$ cm."
   ]
  },
  {
   "cell_type": "code",
   "execution_count": null,
   "id": "eb4c27fc-2183-4d54-a28a-bda3db853bda",
   "metadata": {},
   "outputs": [],
   "source": [
    "# Importamos scipy.stats norm y uniform\n",
    "\n",
    "# Pyplot\n",
    "\n",
    "# Numpy\n"
   ]
  },
  {
   "cell_type": "code",
   "execution_count": null,
   "id": "634dc508-7734-4b1f-a6c1-dbbdaf9f15ca",
   "metadata": {},
   "outputs": [],
   "source": [
    "# Previa para mu\n"
   ]
  },
  {
   "cell_type": "markdown",
   "id": "6d766c51-71be-4035-8723-e392228da950",
   "metadata": {},
   "source": [
    "Esto significa que el modelo asume que la **altura promedio** está, con alta probabilidad, entre $130$ cm y $210$ cm.\n",
    "\n",
    "Ahora, la previa para $\\sigma$ es plana; una distribución uniforme. Esta distribución restringe a $\\sigma$ a estar entre cero, y $50$ con igual probabilidad:"
   ]
  },
  {
   "cell_type": "code",
   "execution_count": null,
   "id": "39605bdf-ac5d-423f-8c67-1d3ffcdef207",
   "metadata": {},
   "outputs": [],
   "source": [
    "# Previa para sigma\n"
   ]
  },
  {
   "cell_type": "markdown",
   "id": "e9343c98-43df-4427-b030-4b9c7d857a70",
   "metadata": {},
   "source": [
    "La desviación estándar obviamente debe de ser positiva, por lo que hace sentido que la cota inferior de la uniforme sea cero. \n",
    "\n",
    "¿Qué significa que esté acotada en $50$ cm por arriba? Significa que las alturas individuales se encontrarán en un rango de $100$ cm alrededor de la altura promedio."
   ]
  },
  {
   "cell_type": "markdown",
   "id": "0de222d8-7e79-483d-ba3c-1de1215601c8",
   "metadata": {},
   "source": [
    "Algo bastante importante, es que las previas hagan sentido, para lo cual una simulación **predictiva previa** es esencial."
   ]
  },
  {
   "cell_type": "code",
   "execution_count": null,
   "id": "98608647-3002-42b8-bc21-060cc0ef3b91",
   "metadata": {},
   "outputs": [],
   "source": [
    "# Librería Arviz: Análisis exploratorio de modelos Bayesianos\n"
   ]
  },
  {
   "cell_type": "code",
   "execution_count": null,
   "id": "cc29d347-72fd-4753-ba71-1bca0c4f7ba0",
   "metadata": {},
   "outputs": [],
   "source": [
    "# Simulación previa predictiva -- az.plot_kde\n"
   ]
  },
  {
   "cell_type": "markdown",
   "id": "13b3dbfa-48cb-4755-b4df-5468b9444256",
   "metadata": {},
   "source": [
    "Notemos que la distribución previa para la altura no es una Gaussiana. Esto es correcto. Es una distribución de las probabilidades de las diferentes alturas antes de ver los datos.\n",
    "\n",
    "La simulación predictiva previa es una herramienta poderosa para darnos cuenta que tan buenas son nuestras previas. A través de ella, nos podríamos dar cuenta que, por ejemplo, una previa $\\mu \\sim \\text{Normal}(170, 100)$, no sería adecuada:"
   ]
  },
  {
   "cell_type": "code",
   "execution_count": null,
   "id": "327124c9-65d8-47c4-b757-1d1ff7a63fdf",
   "metadata": {},
   "outputs": [],
   "source": [
    "# Simulación previa predictiva\n"
   ]
  },
  {
   "cell_type": "code",
   "execution_count": null,
   "id": "00105275-fdb6-481f-93e0-c160992de026",
   "metadata": {},
   "outputs": [],
   "source": []
  },
  {
   "cell_type": "markdown",
   "id": "fa4b3660-2433-4c89-9607-40f08288e749",
   "metadata": {},
   "source": [
    "Con esta previa, estamos diciendo que el modelo antes de ver los datos, espera que $\\sim 5$% de la población tenga una altura *negativa*.\n",
    "\n",
    "¿Esto importa? Bueno, si tenemos una gran cantidad de datos, **NO**. Pero este no siempre será el caso. De cualquier forma, siempre convendrá tener previas que representen nuestro conocimiento lo mejor posible.\n",
    "\n",
    "Nos quedaremos con nuestras previas originales."
   ]
  },
  {
   "cell_type": "markdown",
   "id": "b3075871-0274-4f0f-9f04-87d8fce00854",
   "metadata": {},
   "source": [
    "**¿Cómo usamos la simulación Montecarlo para estimar las distribuciones posteriores?**\n",
    "\n",
    "En el módulo pasado vimos que la simulación Montecarlo es una manera bastante efectiva de estimar distribuciones de probabilidad. \n",
    "\n",
    "La librería [pymc](https://www.pymc.io/welcome.html) automatiza la estimación de la distribución posterior haciendo uso de métodos MCMC, y con una sintaxis de python bastante sencilla, como veremos a continuación.\n",
    "\n",
    "Recordamos el modelo:\n",
    "\n",
    "$$\n",
    "\\begin{align}\n",
    "\\begin{array}{lcl}\n",
    "h_i & \\sim & \\text{Normal}(\\mu, \\sigma) \\\\\n",
    "\\mu & \\sim & \\text{Normal}(170, 20) \\\\\n",
    "\\sigma & \\sim & \\text{Uniform}(0, 50)\n",
    "\\end{array}\n",
    "\\end{align}\n",
    "$$"
   ]
  },
  {
   "cell_type": "code",
   "execution_count": null,
   "id": "8213af97-f95d-44e4-b244-8d081acb8162",
   "metadata": {},
   "outputs": [],
   "source": [
    "# Importamos pymc\n"
   ]
  },
  {
   "cell_type": "code",
   "execution_count": null,
   "id": "ad85b67f-f2eb-4f75-9569-51559ae204b1",
   "metadata": {},
   "outputs": [],
   "source": [
    "# Definimos el modelo\n"
   ]
  },
  {
   "cell_type": "markdown",
   "id": "bd2b5ed9-34f5-4180-b070-2c29e25d77fc",
   "metadata": {},
   "source": [
    "Hasta acá solo hemos definido el modelo. Si queremos muestrear la distribución posterior usando MCMC:"
   ]
  },
  {
   "cell_type": "code",
   "execution_count": null,
   "id": "43e9faac-3c2b-410a-8ad2-a38374c1a4b2",
   "metadata": {},
   "outputs": [],
   "source": [
    "# Muestreamos\n"
   ]
  },
  {
   "cell_type": "markdown",
   "id": "b67c2b2f-6ca9-4dd4-a3ea-19c2f9d089ae",
   "metadata": {},
   "source": [
    "Veamos lo que contiene el objeto `idata` (inference data):"
   ]
  },
  {
   "cell_type": "code",
   "execution_count": null,
   "id": "d14c4ac3-d080-4250-bf7a-442badb81e70",
   "metadata": {},
   "outputs": [],
   "source": [
    "# Objeto idata\n"
   ]
  },
  {
   "cell_type": "markdown",
   "id": "d6df529e-3948-4c87-83b9-58a23a216252",
   "metadata": {},
   "source": [
    "En el objeto `idata` está toda la información. Para visualizar gráficos de las distribuciones posteriores muestreadas, podemos hacer:"
   ]
  },
  {
   "cell_type": "code",
   "execution_count": null,
   "id": "8e8b8169-f016-4fc3-9249-213c5aa5cc6a",
   "metadata": {},
   "outputs": [],
   "source": [
    "# az.plot_trace\n"
   ]
  },
  {
   "cell_type": "markdown",
   "id": "5bb63660-23f7-4233-8965-71a9ed328c30",
   "metadata": {},
   "source": [
    "O si lo queremos ver de forma numérica:"
   ]
  },
  {
   "cell_type": "code",
   "execution_count": null,
   "id": "e9411906-74bf-440b-b143-eb7c1af9d44a",
   "metadata": {},
   "outputs": [],
   "source": [
    "# az.summary\n"
   ]
  },
  {
   "cell_type": "markdown",
   "id": "c5025c01-6727-4b8a-a6aa-e1159764d9bd",
   "metadata": {},
   "source": [
    "**Interpretación de las distribuciones posteriores de los parámetros**"
   ]
  },
  {
   "cell_type": "markdown",
   "id": "07d4dca4-d37d-4e94-9012-58426550ba35",
   "metadata": {},
   "source": [
    "## 3. Predicción lineal\n",
    "\n",
    "Lo que acabamos de ver es un modelo Gaussiano para la altura de una población de adultos. Sin embargo, este modelo no tiene el componente de *regresión*.\n",
    "\n",
    "Es común que queramos modelar como el resultado de cierta variable se relaciona con otra(s) variable(s), llamada(s) **predictor(es)**. Si el predictor tiene alguna asociación estadística con la variable de interés, la podemos usar para *predecir* dicha variable.\n",
    "\n",
    "En este caso estudiaremos como incluir estos predictores de forma lineal en el modelo. \n",
    "\n",
    "Seguiremos usando los datos de los adultos en la población, pero esta vez, veremos como la altura se relaciona con el peso:"
   ]
  },
  {
   "cell_type": "code",
   "execution_count": null,
   "id": "2b0ef428-bd76-40a7-af3a-8a6015172b63",
   "metadata": {},
   "outputs": [],
   "source": []
  },
  {
   "cell_type": "code",
   "execution_count": null,
   "id": "77b6625b-eacd-48fe-b6d5-6873c1edf04f",
   "metadata": {},
   "outputs": [],
   "source": [
    "# Scatter plot\n"
   ]
  },
  {
   "cell_type": "markdown",
   "id": "465752fe-6179-4d75-9155-70146de35668",
   "metadata": {},
   "source": [
    "Del gráfico anterior, observamos que en definitiva hay una relación marcada entre la altura y el peso. Es decir, conocer el peso de una persona nos ayuda a predecir su altura.\n",
    "\n",
    "**¿Cómo adecuamos el modelo de la altura para incluir el peso como predictor?**\n",
    "\n",
    "La estrategia es modificar el parámetro $\\mu$ de la distribución Gaussiana, para que sea una función lineal del predictor. Ahora, para los parámetros de esta función, tendremos que declarar distribuciones previas.\n",
    "\n",
    "De forma que, teníamos:\n",
    "\n",
    "$$\n",
    "\\begin{align}\n",
    "\\begin{array}{lcl}\n",
    "h_i & \\sim & \\text{Normal}(\\mu, \\sigma) \\\\\n",
    "\\mu & \\sim & \\text{Normal}(170, 20) \\\\\n",
    "\\sigma & \\sim & \\text{Uniform}(0, 50)\n",
    "\\end{array}\n",
    "\\end{align}\n",
    "$$\n",
    "\n",
    "Ahora, sea $w_i$ el peso de la persona $i$ y sean $\\bar{w}$ el promedio de todos los pesos. De esta forma:\n",
    "\n",
    "$$\n",
    "\\begin{align}\n",
    "\\begin{array}{lcl}\n",
    "h_i & \\sim & \\text{Normal}(\\mu_i, \\sigma) \\\\\n",
    "\\mu_i & = & \\alpha + \\beta(w_i - \\bar{w}) \\\\\n",
    "\\alpha & \\sim & \\text{Normal}(170, 20) \\\\\n",
    "\\beta & \\sim & \\text{Normal}(0, 10) \\\\\n",
    "\\sigma & \\sim & \\text{Uniform}(0, 50)\n",
    "\\end{array}\n",
    "\\end{align}\n",
    "$$"
   ]
  },
  {
   "cell_type": "markdown",
   "id": "c50dab11-8cfb-4e6c-9d82-bf4755058103",
   "metadata": {},
   "source": [
    "*¿Qué significa esto?*\n",
    "\n",
    "- Como antes, la primera expresión es la verosimilitud (probabilidad de los datos). Es casi la misma expresión, nada más notemos que cambiamos la media general $\\mu$, por una media $\\mu_i$ para cada observación. Es decir, la media depende de los valores específicos de cada observación.\n",
    "\n",
    "- La segunda expresión, corresponde al modelo lineal. $\\mu$ ya no es un parámetro que estimemos, sino una relación determinista (notar el símbolo $=$ en lugar de $\\sim$) a los nuevos parámetros $\\alpha$ y $\\beta$, y que depende de la variable observada $w_i$.\n",
    "\n",
    "  ¿Porqué incluir como predictor $w_i - \\bar{w}$ en lugar de símplemente $w_i$? Algo importante cuando modelamos es poder entender los parámetros que estamos introduciendo. Notemos que de la manera en que especificamos el modelo $\\mu=\\alpha$ cuando $w_i=\\bar{w}$; es decir, $\\alpha$ es el valor esperado de la altura cuando el peso es promedio.\n",
    "\n",
    "  ¿Y qué pasa con $\\beta$? Bueno, pues el parámetro $\\beta$ es el cambio esperado en la altura, cuando el peso cambia $1$ unidad (kg).\n",
    "\n",
    "- Las demás expresiones, como antes, son las previas de nuestros parámetros, que deberemos ajustar con una debida simulación predictiva previa de ser necesario."
   ]
  },
  {
   "cell_type": "code",
   "execution_count": null,
   "id": "01b7a1fb-f9fc-4333-ba4b-160450caf046",
   "metadata": {},
   "outputs": [],
   "source": [
    "# Simulación previa predictiva\n",
    "N = 100\n",
    "w = np.linspace(\n",
    "    adult_height_data[\"weight\"].min(),\n",
    "    adult_height_data[\"weight\"].max()\n",
    ")\n",
    "w_bar = adult_height_data[\"weight\"].mean()\n",
    "sample_a = norm.rvs(loc=170, scale=20, size=N)\n",
    "sample_b = norm.rvs(loc=0, scale=10, size=N)\n",
    "sample_mu = sample_a + sample_b * (w - w_bar).reshape(-1, 1)\n",
    "plt.plot(w, sample_mu)\n",
    "plt.axhline(y=0, color=\"r\", linewidth=3)\n",
    "plt.axhline(y=272, color=\"r\", linewidth=3)\n",
    "plt.xlabel(\"Weight (kg)\")\n",
    "plt.ylabel(\"Average Height (cm)\")\n",
    "plt.show()"
   ]
  },
  {
   "cell_type": "markdown",
   "id": "834a75f1-f4f4-40c3-b621-36a947b75c32",
   "metadata": {},
   "source": [
    "Observamos que usando estas previas, las la altura promedio puede llegar a tomar valores bastante extremos para valores normales del peso. Podemos hacer algo mejor.\n",
    "\n",
    "De la gráfica de puntos, observamos que la relación entre la altura y el peso es positiva. Una manera común de restringir un parámetro a que sea positivo es usando la distribución $\\text{Log-Normal}$. Si definimos $\\beta$ como $\\text{Log-Normal}(0, 1)$, significa que el logaritmo de $\\beta$ tiene una distribución $\\text{Normal}(0, 1)$:\n",
    "\n",
    "$$\n",
    "\\beta \\sim \\text{Log-Normal}(0, 1)\n",
    "$$"
   ]
  },
  {
   "cell_type": "code",
   "execution_count": null,
   "id": "c36576c1-20d9-45f1-9e2c-df9cd2970b2d",
   "metadata": {},
   "outputs": [],
   "source": [
    "# Importamos lognorm de scipy.stats\n"
   ]
  },
  {
   "cell_type": "code",
   "execution_count": null,
   "id": "3cca6ee2-9d2b-4c82-9ca4-ec77a5414315",
   "metadata": {},
   "outputs": [],
   "source": [
    "# Densidad lognormal\n"
   ]
  },
  {
   "cell_type": "code",
   "execution_count": null,
   "id": "ea185d40-ab1f-4439-9acf-77f3ce464e83",
   "metadata": {},
   "outputs": [],
   "source": [
    "# Simulación previa predictiva\n",
    "N = 100\n",
    "w = np.linspace(\n",
    "    adult_height_data[\"weight\"].min(),\n",
    "    adult_height_data[\"weight\"].max()\n",
    ")\n",
    "w_bar = adult_height_data[\"weight\"].mean()\n",
    "sample_a = norm.rvs(loc=170, scale=20, size=N)\n",
    "sample_b = lognorm.rvs(loc=0, s=1, size=N)\n",
    "sample_mu = sample_a + sample_b * (w - w_bar).reshape(-1, 1)\n",
    "plt.plot(w, sample_mu)\n",
    "plt.axhline(y=0, color=\"r\", linewidth=3)\n",
    "plt.axhline(y=272, color=\"r\", linewidth=3)\n",
    "plt.xlabel(\"Weight (kg)\")\n",
    "plt.ylabel(\"Average Height (cm)\")\n",
    "plt.show()"
   ]
  },
  {
   "cell_type": "markdown",
   "id": "b3452380-1830-4dab-b96b-c7ed3a631952",
   "metadata": {},
   "source": [
    "¡Esto se ve mucho mejor!\n",
    "\n",
    "De forma que nuestro modelo completo es:\n",
    "\n",
    "$$\n",
    "\\begin{align}\n",
    "\\begin{array}{lcl}\n",
    "h_i & \\sim & \\text{Normal}(\\mu_i, \\sigma) \\\\\n",
    "\\mu_i & = & \\alpha + \\beta(w_i - \\bar{w}) \\\\\n",
    "\\alpha & \\sim & \\text{Normal}(170, 20) \\\\\n",
    "\\beta & \\sim & \\text{Log-Normal}(0, 1) \\\\\n",
    "\\sigma & \\sim & \\text{Uniform}(0, 50)\n",
    "\\end{array}\n",
    "\\end{align}\n",
    "$$\n",
    "\n",
    "**Estimemos la distribución posterior usando MCMC:**"
   ]
  },
  {
   "cell_type": "code",
   "execution_count": null,
   "id": "c6942280-81a4-40ac-bfda-8be6db2db9a9",
   "metadata": {},
   "outputs": [],
   "source": []
  },
  {
   "cell_type": "code",
   "execution_count": null,
   "id": "0a84ad94-4925-47f2-974f-859200a4e0b6",
   "metadata": {},
   "outputs": [],
   "source": [
    "# Distribución posterior de los parámetros\n"
   ]
  },
  {
   "cell_type": "markdown",
   "id": "21fbed2e-42a9-403b-ab5d-b670c4e5c2c7",
   "metadata": {},
   "source": [
    "¿Qué podemos decir?\n",
    "\n",
    "- La altura promedio, al peso promedio está alrededor de 155 cm.\n",
    "\n",
    "- Por cada 1 kg adicional, se espera que la altura sea ~0.90 cm mayor.\n",
    "\n",
    "- El 89% de la probabilidad de la distribución posterior de $\\beta$ yace entre 0.84 y 0.97, lo que indica que valores cercanos a cero y valores mayores a uno, no son compatibles con los datos y el modelo."
   ]
  },
  {
   "cell_type": "markdown",
   "id": "312eda6d-fdc9-428e-9820-ba45d3fedbd5",
   "metadata": {},
   "source": [
    "**Predicciones con la posterior**\n",
    "\n",
    "La idea principal de este modelo es hacer predicciones con él. Veamos como hacerlo.\n",
    "\n",
    "Lo primero que podríamos hacer es tomar el promedio de las muestras de $\\alpha$ y $\\beta$, y graficar la relación promedio:"
   ]
  },
  {
   "cell_type": "code",
   "execution_count": null,
   "id": "b5ce1773-ab2d-48c4-9a6b-ff607ddd7105",
   "metadata": {},
   "outputs": [],
   "source": [
    "# Relación promedio\n",
    "plt.scatter(\n",
    "    adult_height_data[\"weight\"], \n",
    "    adult_height_data[\"height\"]\n",
    ")\n",
    "plt.plot(\n",
    "    adult_height_data[\"weight\"],\n",
    "    idata.posterior[\"alpha\"].mean().item(0)\n",
    "    + idata.posterior[\"beta\"].mean().item(0) * (\n",
    "        adult_height_data[\"weight\"].values\n",
    "        - adult_height_data[\"weight\"].mean()\n",
    "    ),\n",
    "    'k'\n",
    ")\n",
    "plt.xlabel(\"Weight (kg)\")\n",
    "plt.ylabel(\"Height (cm)\")\n",
    "plt.show()"
   ]
  },
  {
   "cell_type": "markdown",
   "id": "67a208bf-03c1-45b2-9dad-e9f0a2039de0",
   "metadata": {},
   "source": [
    "Esta relación promedio (al tratarse el modelo de una normal) no es más que la línea promedio; la línea más plausible en el conjunto infinito de lineas en la distribución posterior.\n",
    "\n",
    "Sin embargo, a esto le podemos añadir la incertidumbre alrededor de la media, graficando algunas líneas muestreadas de la posterior:"
   ]
  },
  {
   "cell_type": "code",
   "execution_count": null,
   "id": "276b8aad-109e-4685-b1fd-e91b7d0e0ac7",
   "metadata": {},
   "outputs": [],
   "source": [
    "posterior_df = idata.posterior.to_dataframe()\n",
    "posterior_df.head()"
   ]
  },
  {
   "cell_type": "code",
   "execution_count": null,
   "id": "e50e557b-ffb6-47a5-a337-c1038b81d007",
   "metadata": {},
   "outputs": [],
   "source": [
    "# Algunas muestras de la posterior\n",
    "samples = np.random.randint(low=0, high=4000, size=500)\n",
    "sampled_post = posterior_df.iloc[samples]\n",
    "post_mu = sampled_post[\"alpha\"].values + sampled_post[\"beta\"].values * (\n",
    "    adult_height_data[\"weight\"].values.reshape(-1, 1)\n",
    "    - adult_height_data[\"weight\"].mean()\n",
    ")\n",
    "plt.plot(\n",
    "    adult_height_data[\"weight\"],\n",
    "    post_mu,\n",
    "    'k',\n",
    "    alpha=0.4\n",
    ")\n",
    "plt.plot(\n",
    "    adult_height_data[\"weight\"],\n",
    "    idata.posterior[\"alpha\"].mean().item(0)\n",
    "    + idata.posterior[\"beta\"].mean().item(0) * (\n",
    "        adult_height_data[\"weight\"].values\n",
    "        - adult_height_data[\"weight\"].mean()\n",
    "    ),\n",
    "    'r'\n",
    ")\n",
    "plt.scatter(\n",
    "    adult_height_data[\"weight\"], \n",
    "    adult_height_data[\"height\"]\n",
    ")\n",
    "plt.xlabel(\"Weight (kg)\")\n",
    "plt.ylabel(\"Height (cm)\")\n",
    "plt.show()"
   ]
  },
  {
   "cell_type": "markdown",
   "id": "a7b0c41d-2880-4f46-b637-4ca7d81fa00e",
   "metadata": {},
   "source": [
    "Una pregunta que nos podríamos hacer es, ¿Cuánto es la altura promedio de una persona de 60kg?. Una vez más, podemos usar las muestras de la posterior para responder a esta pregunta:"
   ]
  },
  {
   "cell_type": "code",
   "execution_count": null,
   "id": "56a8b7c0-0ee0-4e54-bf87-985540e17687",
   "metadata": {},
   "outputs": [],
   "source": [
    "# mu at 60\n"
   ]
  },
  {
   "cell_type": "code",
   "execution_count": null,
   "id": "cc808c94-07d9-4fa0-98b3-a73ebb246954",
   "metadata": {},
   "outputs": [],
   "source": [
    "# kde plot\n"
   ]
  },
  {
   "cell_type": "code",
   "execution_count": null,
   "id": "0f723c08-9a26-40d5-a46b-8411ea352eb0",
   "metadata": {},
   "outputs": [],
   "source": [
    "# az.hdi\n"
   ]
  },
  {
   "cell_type": "markdown",
   "id": "2f932025-1c07-4dec-b722-6b3a39070370",
   "metadata": {},
   "source": [
    "La altura promedio (89%) está entre 167 cm y 169 cm (condicional al modelo y los datos), dado que el peso es 60 kg."
   ]
  },
  {
   "cell_type": "markdown",
   "id": "fdfde11c-896d-40f5-a3c9-5b456596a225",
   "metadata": {},
   "source": [
    "**¿Y $\\sigma$?**\n",
    "\n",
    "Recordemos que el modelo de la altura era:\n",
    "\n",
    "$$\n",
    "h_i \\sim \\text{Normal}(\\mu_i, \\sigma)\n",
    "$$\n",
    "\n",
    "y aunque hasta ahora solo hemos hablado de $\\mu$, la variación fuera del promedio es bastante importante.\n",
    "\n",
    "Primero, generamos las muestras de predicción. Como antes, podríamos hacerlo a mano, pero pymc lo puede hacer por nosotros:"
   ]
  },
  {
   "cell_type": "code",
   "execution_count": null,
   "id": "29f4a0de-6a16-477a-b8d8-c312127bf0b6",
   "metadata": {},
   "outputs": [],
   "source": [
    "# Generam\n",
    "with height_predictive_model:\n",
    "    height_pred = pm.sample_posterior_predictive(idata)"
   ]
  },
  {
   "cell_type": "code",
   "execution_count": null,
   "id": "a7ca62e9-24fa-42fd-a99f-8f464cfde2f2",
   "metadata": {},
   "outputs": [],
   "source": [
    "# Intervalo de credibilidad de la altura\n",
    "az.plot_hdi(\n",
    "    adult_height_data[\"weight\"],\n",
    "    height_pred.posterior_predictive[\"height\"],\n",
    "    hdi_prob=0.89\n",
    ")\n",
    "# Intervalo de credibilidad de la altura promedio\n",
    "az.plot_hdi(\n",
    "    adult_height_data[\"weight\"],\n",
    "    post_mu.T,\n",
    "    hdi_prob=0.89,\n",
    "    color=\"g\"\n",
    ")\n",
    "# Línea promedio\n",
    "plt.plot(\n",
    "    adult_height_data[\"weight\"],\n",
    "    idata.posterior[\"alpha\"].mean().item(0)\n",
    "    + idata.posterior[\"beta\"].mean().item(0) * (\n",
    "        adult_height_data[\"weight\"].values\n",
    "        - adult_height_data[\"weight\"].mean()\n",
    "    ),\n",
    "    'r'\n",
    ")\n",
    "# Nube de puntos\n",
    "plt.scatter(\n",
    "    adult_height_data[\"weight\"], \n",
    "    adult_height_data[\"height\"],\n",
    "    alpha=0.4\n",
    ")\n",
    "plt.xlabel(\"Weight (kg)\")\n",
    "plt.ylabel(\"Height (cm)\")\n",
    "plt.show()"
   ]
  },
  {
   "cell_type": "markdown",
   "id": "a157292a-2dd3-49e0-86f3-52e099e86d32",
   "metadata": {},
   "source": [
    "## 4. Comentarios finales\n",
    "\n",
    "Como en el módulo 1, podemos usar este mismo tipo de modelos lineales en los parámetros para representar relaciones no lineales entre los datos. Podemos usar polinomios, o cualquier otro tipo de representaciones no lineales que nos interese.\n",
    "\n",
    "Por ejemplo, si consideraramos todos los datos, incluyendo los de los niños:"
   ]
  },
  {
   "cell_type": "code",
   "execution_count": null,
   "id": "c586c3cd-33cb-4659-b294-703754eae687",
   "metadata": {},
   "outputs": [],
   "source": [
    "# Scatter plot\n",
    "plt.scatter(height_data[\"weight\"], height_data[\"height\"])\n",
    "plt.xlabel(\"Weight (kg)\")\n",
    "plt.ylabel(\"Height (cm)\")"
   ]
  },
  {
   "cell_type": "markdown",
   "id": "f0ec4cf7-fc77-4247-bcc2-c032c0269d4a",
   "metadata": {},
   "source": [
    "Observamos una relación cúbica. **Tarea**\n",
    "\n",
    "**Ayuda**. Estandarizar el peso antes."
   ]
  },
  {
   "cell_type": "code",
   "execution_count": null,
   "id": "faad5d0d-b22d-46b1-8474-3b619112d9b3",
   "metadata": {},
   "outputs": [],
   "source": []
  }
 ],
 "metadata": {
  "kernelspec": {
   "display_name": "Python 3.11 (stat-rethink2-pymc_v4)",
   "language": "python",
   "name": "stat-rethink2-pymc_v4"
  },
  "language_info": {
   "codemirror_mode": {
    "name": "ipython",
    "version": 3
   },
   "file_extension": ".py",
   "mimetype": "text/x-python",
   "name": "python",
   "nbconvert_exporter": "python",
   "pygments_lexer": "ipython3",
   "version": "3.10.12"
  }
 },
 "nbformat": 4,
 "nbformat_minor": 5
}
