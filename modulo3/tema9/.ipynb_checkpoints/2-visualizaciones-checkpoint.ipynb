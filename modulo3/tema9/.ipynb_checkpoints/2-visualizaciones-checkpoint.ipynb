{
 "cells": [
  {
   "cell_type": "markdown",
   "id": "c5aa443b-640c-46b6-94f8-558121188cf6",
   "metadata": {},
   "source": [
    "# Visualicemos nuestro modelo\n",
    "\n",
    "Ya que comprendimos el problema de asociaciones falsas, y en el trayecto desarrollamos un modelo multivariable conviene entender un par de maneras de visualizar nuestro modelo.\n",
    "\n",
    "Visualizar modelos de regresión sobre dos variables es fácil. Con una gráfica de dispersión de puntos basta. Sin embargo, conforme el modelo crece en variables, se vuelve más y más complejo visualizar. Acá veremos un par de ideas.\n",
    "\n",
    "> **Objetivos:**\n",
    "> - Generar visualizaciones para entender un modelo multivariable.\n",
    "\n",
    "\n",
    "> **Referencias:**\n",
    "> \n",
    "> - Statistical Rethinking: A Bayesian Course with Examples in R and Stan (2nd edition) - Richard McElreath."
   ]
  },
  {
   "cell_type": "markdown",
   "id": "429ad5d4-5429-4652-8012-2ddc9813ac73",
   "metadata": {},
   "source": [
    "Cosas que ya vimos y reutilizaremos:"
   ]
  },
  {
   "cell_type": "code",
   "execution_count": null,
   "id": "c3c055b2-4bd4-48ee-b60f-7a5ded2a8163",
   "metadata": {},
   "outputs": [],
   "source": [
    "# Import pandas\n",
    "import pandas as pd\n",
    "import numpy as np\n",
    "\n",
    "import arviz as az\n",
    "import pymc as pm\n",
    "\n",
    "from causalgraphicalmodels import CausalGraphicalModel\n",
    "from daft import PGM\n",
    "\n",
    "from matplotlib import pyplot as plt"
   ]
  },
  {
   "cell_type": "code",
   "execution_count": null,
   "id": "f027c1a5-f834-4389-89d5-ba005f8010f8",
   "metadata": {},
   "outputs": [],
   "source": [
    "# Read WaffleDivorce data\n",
    "divorce_data = pd.read_csv(\n",
    "    \"data/WaffleDivorce.csv\",\n",
    "    low_memory=False,\n",
    "    sep=\";\"\n",
    ")\n",
    "divorce_data.head()"
   ]
  },
  {
   "cell_type": "code",
   "execution_count": null,
   "id": "dc50de99-124d-4e50-a267-c20dc7506a8a",
   "metadata": {},
   "outputs": [],
   "source": [
    "# Standardize function\n",
    "def standardize(y: pd.Series) -> pd.Series:\n",
    "    return (y - y.mean()) / y.std()"
   ]
  },
  {
   "cell_type": "code",
   "execution_count": null,
   "id": "16463f9c-c8fc-4490-a9da-e3b1d09799b1",
   "metadata": {},
   "outputs": [],
   "source": [
    "# Standardize variables\n",
    "divorce_data[\"DivorceStd\"] = standardize(divorce_data[\"Divorce\"])\n",
    "divorce_data[\"MarriageStd\"] = standardize(divorce_data[\"Marriage\"])\n",
    "divorce_data[\"MedAgeMarriageStd\"] = standardize(divorce_data[\"MedianAgeMarriage\"])"
   ]
  },
  {
   "cell_type": "code",
   "execution_count": null,
   "id": "5bc55633-c0e8-4b7e-ab54-5a0fd0bacdfb",
   "metadata": {},
   "outputs": [],
   "source": [
    "# Multivariate model\n",
    "with pm.Model() as multivariate_model:\n",
    "    a = pm.Normal(\"a\", 0, 0.2)\n",
    "    bM = pm.Normal(\"bM\", 0, 0.5)\n",
    "    bA = pm.Normal(\"bA\", 0, 0.5)\n",
    "    sigma = pm.Exponential(\"sigma\", 1)\n",
    "    mu = pm.Deterministic(\n",
    "        \"mu\",\n",
    "        a + bM * divorce_data[\"MarriageStd\"] + bA * divorce_data[\"MedAgeMarriageStd\"]\n",
    "    )\n",
    "    divorce_rate_std = pm.Normal(\n",
    "        \"divorce_rate_std\",\n",
    "        mu=mu,\n",
    "        sigma=sigma,\n",
    "        observed=divorce_data[\"DivorceStd\"]\n",
    "    )\n",
    "    prior_samples = pm.sample_prior_predictive()\n",
    "    idata_multivariate = pm.sample()"
   ]
  },
  {
   "cell_type": "markdown",
   "id": "61221382-ca8c-4b04-9ddf-4cf73a212f19",
   "metadata": {},
   "source": [
    "1. **Gráficas de predicción posterior.** Es una manera de visualizar las predicciones del modelo respecto a los datos observados.\n",
    "\n",
    "   Es útil para observar dos cosas:\n",
    "   - ¿Es buena la aproximación del modelo a la distribución posterior? Todos los modelos se equivocan. Estas equivocaciones pueden ser evaluadas más fácilmente comparando las predicciones del modelo respecto a los datos observados.\n",
    "   - ¿Cómo son los fallos del modelo? Muchas veces nuestros modelos serán buenos prediciendo respecto a algunas cosas, pero malos respecto a otras. Tras una inspección individual en los casos donde el modelo \"falla\", podemos obtener ideas de como mejorarlo."
   ]
  },
  {
   "cell_type": "code",
   "execution_count": null,
   "id": "8a2d2d67",
   "metadata": {},
   "outputs": [],
   "source": [
    "# Muestreo de la distribución predictiva posterior\n"
   ]
  },
  {
   "cell_type": "code",
   "execution_count": null,
   "id": "d9cfdb49-585b-4223-b8b8-dbd274dd1a48",
   "metadata": {},
   "outputs": [],
   "source": [
    "# Media de mu a través de chain, draw\n",
    "\n",
    "# HDI de mu\n",
    "\n",
    "# Media de la tasa de divorcio a través de chain, draw\n",
    "\n",
    "# HDI de la tasa de divorcio\n"
   ]
  },
  {
   "cell_type": "code",
   "execution_count": null,
   "id": "0e4d1063-07e6-4e2a-b635-09a14e5bddd8",
   "metadata": {},
   "outputs": [],
   "source": [
    "# Graficamos lo que piensa el modelo vs. la realidad\n",
    "fig, ax = plt.subplots(figsize=(6, 6))\n",
    "# Usamos barras de errores apra graficar intervalo\n",
    "plt.errorbar(\n",
    "    divorce_data[\"DivorceStd\"].values,\n",
    "    D_sim,\n",
    "    yerr=np.abs(np.array(D_sim) - mu_PI.min(dim=\"hdi\").to_array()),\n",
    "    fmt=\"C0o\",\n",
    ")\n",
    "# Escribimos el estado en predicciones desfasadas\n",
    "for i, err in enumerate(np.abs(divorce_data[\"DivorceStd\"].values - D_sim)):\n",
    "    if err > 0.9:\n",
    "        plt.text(\n",
    "            divorce_data[\"DivorceStd\"].values[i],\n",
    "            D_sim[i],\n",
    "            divorce_data[\"Location\"].values[i]\n",
    "        )\n",
    " \n",
    "min_x, max_x = divorce_data[\"DivorceStd\"].min(), divorce_data[\"DivorceStd\"].max()\n",
    "ax.plot([min_x, max_x], [min_x, max_x], \"k--\")\n",
    "\n",
    "ax.set_ylabel(\"Predicted Divorce\")\n",
    "ax.set_xlabel(\"Observed Divorce\");"
   ]
  },
  {
   "cell_type": "markdown",
   "id": "e9a44509-4180-4cae-8632-36f7b4cc215a",
   "metadata": {},
   "source": [
    "Podemos observar que el modelo predice por debajo las tasas de divorcio de estados con altas tasas de divorcio, y similarmente predice por encima las tasas de divorcio de estados con bajas tasas de divorcio.\n",
    "\n",
    "Esto es común en modelos de regresión. Los valores extremos son altamente penalizados.\n",
    "\n",
    "Aún así, hay varios estados *muy lejos* de la diagonal."
   ]
  },
  {
   "cell_type": "markdown",
   "id": "0c7a3161-1d60-4754-b04d-49811c51ab7a",
   "metadata": {},
   "source": [
    "2. **Gráficos contrafactuales.** Este tipo de gráfico inferencial muestra las implicaciones causales del modelo. Se llama contrafactual, dado que pueden ser producidos para cualesquiera valores de los predictores que se necesite, incluso combinaciones no observadas (p. e. un estado con una edad mediana alta al momento del matrimonio y una tasa de matrimonios alta).\n",
    "\n",
    "   Por ejemplo, podríamos plantearnos la pregunta, ¿Cómo sería la tasa de divorcios de Utah si la tasa de matrimonios fuera mayor?. Esto no es posible verlo en la realidad, pero podemos entender como \"piensa\" nuestro modelo cuando intervenimos de manera artifical.\n",
    "\n",
    "   De forma que, para generar gráficos contrafactuales:\n",
    "   - Elegimos una variable para manipular: variable de intervención.\n",
    "   - Definimos el rango de valores para manipular la variable de intervención.\n",
    "   - Para cada valor de la variable de intervención, y para cada muestra en la posterior, usamos el modelo causal para simular valores de otras variables, incluyendo el resultado."
   ]
  },
  {
   "cell_type": "markdown",
   "id": "77c58bf6-339d-47b4-b0fc-727ccba1dea4",
   "metadata": {},
   "source": [
    "Para hacer esto en el modelo de divorcio, tomemos el siguiente grafo:"
   ]
  },
  {
   "cell_type": "code",
   "execution_count": null,
   "id": "2e88c9ca-ca6d-4c18-971f-49719701e23f",
   "metadata": {},
   "outputs": [],
   "source": [
    "nodes = [\"A\", \"D\", \"M\"]\n",
    "edges = [(\"A\", \"D\"), (\"A\", \"M\"), (\"M\", \"D\")]\n",
    "dag1 = CausalGraphicalModel(nodes=nodes, edges=edges)\n",
    "pgm1 = PGM()\n",
    "coordinates = {\"A\": (0, 0), \"D\": (1, 1), \"M\": (2, 0)}\n",
    "for node in nodes:\n",
    "    pgm1.add_node(node, node, *coordinates[node])\n",
    "for edge in edges:\n",
    "    pgm1.add_edge(*edge)\n",
    "pgm1.render()\n",
    "plt.gca().invert_yaxis()"
   ]
  },
  {
   "cell_type": "markdown",
   "id": "d44c5d60-11dc-4ec5-a6e9-d7a439f6cba9",
   "metadata": {},
   "source": [
    "Para esto, usaremos las mismas previas del modelo `marriage_model`. En este modelo, ignoramos la suposición de que $A$ influencia a $M$, dado que no la necesitábamos para estimar la influencia directa $A \\rightarrow D$. Sin embargo, la necesitamos para predecir las consecuencias de manipular $A$, dado que algo del efecto de $A$ actúa a través de $M$."
   ]
  },
  {
   "cell_type": "code",
   "execution_count": null,
   "id": "8154928e",
   "metadata": {},
   "outputs": [],
   "source": [
    "# Importamos aesara.shared\n"
   ]
  },
  {
   "cell_type": "code",
   "execution_count": null,
   "id": "726c780b-f532-44df-adf0-9c00f45cdbe5",
   "metadata": {},
   "outputs": [],
   "source": [
    "# Usamos variables compartidas de aesara para cambiarlas luego\n"
   ]
  },
  {
   "cell_type": "code",
   "execution_count": null,
   "id": "c5429fd9-aba1-4dd6-9a8a-1d8d79c14de8",
   "metadata": {},
   "outputs": [],
   "source": [
    "# Multivariate model\n",
    "with pm.Model() as multivariate_model_2:\n",
    "    # A -> D <- M\n",
    "    \n",
    "\n",
    "    # A -> M\n",
    "    \n",
    "    \n",
    "    # Muestreo\n",
    "    prior_samples = pm.sample_prior_predictive()\n",
    "    idata_multivariate_2 = pm.sample()"
   ]
  },
  {
   "cell_type": "markdown",
   "id": "503b3288-53ae-4ce1-a7b0-c71d0d9f4c64",
   "metadata": {},
   "source": [
    "Variable de intervención y rango de valores. Recordemos que las variables están estandarizadas, por lo que estamos tomando $\\pm 2$ desviaciones estándar lejos de la media."
   ]
  },
  {
   "cell_type": "code",
   "execution_count": null,
   "id": "9d86449c-9f41-4bf8-a913-04b0ce42cf9e",
   "metadata": {},
   "outputs": [],
   "source": [
    "# Usamos 50 para que sea igual a la dimensión de la entrada\n",
    "A_seq = np.linspace(-2, 2, 50)\n",
    "A_seq.shape"
   ]
  },
  {
   "cell_type": "markdown",
   "id": "87f59e57-1c19-4035-8058-3c7da528523b",
   "metadata": {},
   "source": [
    "Usamos el modelo causal para simular valores de otras variables, incluyendo el resultado:"
   ]
  },
  {
   "cell_type": "code",
   "execution_count": null,
   "id": "8e815b6a-72b5-481f-a79c-bda725efc78f",
   "metadata": {},
   "outputs": [],
   "source": [
    "# Simulamos la tasa de matrimonios para cada edad mediana\n",
    "age_shared.set_value(A_seq)\n",
    "\n",
    "with multivariate_model_2:\n",
    "    pp_samples_marriage = pm.sample_posterior_predictive(idata_multivariate_2)"
   ]
  },
  {
   "cell_type": "markdown",
   "id": "a8416f86-9cc4-4cdd-a57e-3468a37aaa3b",
   "metadata": {},
   "source": [
    "Con esto, graficamos los gráficos contrafactuales. En el gráfico contrafactual de $D$, se incluyen ambos caminos $A \\rightarrow D$ y $A \\rightarrow M \\rightarrow D$. Sabemos que la influencia $M \\rightarrow D$ es pequeña, por lo que el segundo camino no contribuye mucho a la tendencia."
   ]
  },
  {
   "cell_type": "code",
   "execution_count": null,
   "id": "1ff27020-68b0-4809-89e8-b287ea5c3769",
   "metadata": {},
   "outputs": [],
   "source": [
    "_, ax = plt.subplots(1, 2, figsize=(12, 4))\n",
    "az.plot_hdi(A_seq, pp_samples_marriage.posterior_predictive[\"divorce_rate_std\"], ax=ax[0])\n",
    "ax[0].plot(A_seq, pp_samples_marriage.posterior_predictive[\"divorce_rate_std\"].mean(dim=[\"chain\", \"draw\"]))\n",
    "ax[0].set_title(\"Total counterfactual effect of A on D\")\n",
    "ax[0].set_xlabel(\"manipulated A\")\n",
    "ax[0].set_ylabel(\"counterfactual D\")\n",
    "\n",
    "\n",
    "az.plot_hdi(A_seq, pp_samples_marriage.posterior_predictive[\"marriage_rate_std\"], ax=ax[1])\n",
    "ax[1].plot(A_seq, pp_samples_marriage.posterior_predictive[\"marriage_rate_std\"].mean(dim=[\"chain\", \"draw\"]))\n",
    "ax[1].set_title(\"Total counterfactual effect of A -> M\")\n",
    "ax[1].set_xlabel(\"manipulated A\")\n",
    "ax[1].set_ylabel(\"counterfactual M\");"
   ]
  },
  {
   "cell_type": "markdown",
   "id": "bf26dc64-a98b-448a-8a76-a44c5f81eef4",
   "metadata": {},
   "source": [
    "Se debe de tener en cuenta cuando se simulen contrafactuales que al manipular cierta variable $X$, se rompen las influencias causales de otras variables sobre $X$. Por ejemplo, para simular una intervención sobre $M$, se implica el grafo:"
   ]
  },
  {
   "cell_type": "code",
   "execution_count": null,
   "id": "3cbf782a-1fc7-4146-98ee-ae27a28af2e8",
   "metadata": {},
   "outputs": [],
   "source": [
    "nodes = [\"A\", \"D\", \"M\"]\n",
    "edges = [(\"A\", \"D\"), (\"M\", \"D\")]\n",
    "dag3 = CausalGraphicalModel(nodes=nodes, edges=edges)\n",
    "pgm3 = PGM()\n",
    "coordinates = {\"A\": (0, 0), \"D\": (1, 1), \"M\": (2, 0)}\n",
    "for node in nodes:\n",
    "    pgm3.add_node(node, node, *coordinates[node])\n",
    "for edge in edges:\n",
    "    pgm3.add_edge(*edge)\n",
    "pgm3.render()\n",
    "plt.gca().invert_yaxis()"
   ]
  },
  {
   "cell_type": "markdown",
   "id": "d0c4f5ce-c156-4662-b038-f13611c5c9bd",
   "metadata": {},
   "source": [
    "Borramos el arco de $A \\rightarrow M$, dado que si manipulamos $M$ entonces $A$ ya no lo influencia más. Es como un experimento perfectamente controlado.\n",
    "\n",
    "Ahora, simulamos el cotnrafactual de manipular $M$, en un estado promedio $A = 0$."
   ]
  },
  {
   "cell_type": "markdown",
   "id": "ce76e478-26cb-4b15-b6e8-1066538e3d4d",
   "metadata": {},
   "source": [
    "- Variable de intervención y rango de valores.\n",
    "- Usamos el modelo causal para simular valores de otras variables, incluyendo el resultado."
   ]
  },
  {
   "cell_type": "code",
   "execution_count": null,
   "id": "fd4c5021-adc5-4ff7-9a74-56d08d7e559c",
   "metadata": {},
   "outputs": [],
   "source": [
    "# Valores para la tasa de matrimonio\n",
    "marriage_counter_factual_x = np.linspace(-2, 2, 50)\n",
    "marriage_shared.set_value(marriage_counter_factual_x)\n",
    "\n",
    "# Fijamos la edad a cero (edad promedio)\n",
    "age_shared.set_value(np.zeros(50))\n",
    "\n",
    "# Simulamos\n",
    "with multivariate_model_2:\n",
    "    pp_samples_marriage = pm.sample_posterior_predictive(idata_multivariate_2)"
   ]
  },
  {
   "cell_type": "code",
   "execution_count": null,
   "id": "7722ad4b-2aa8-48ad-9359-e2a02c0e315a",
   "metadata": {},
   "outputs": [],
   "source": [
    "fig, ax = plt.subplots()\n",
    "\n",
    "az.plot_hdi(marriage_counter_factual_x, pp_samples_marriage.posterior_predictive[\"divorce_rate_std\"], ax=ax)\n",
    "ax.plot(\n",
    "    marriage_counter_factual_x,\n",
    "    pp_samples_marriage.posterior_predictive[\"divorce_rate_std\"].mean(dim=[\"chain\", \"draw\"]),\n",
    ")\n",
    "ax.set_title(\"Total counterfactual effect M on D\")\n",
    "ax.set_xlabel(\"manipulated M\")\n",
    "ax.set_ylabel(\"counterfactual D\");"
   ]
  }
 ],
 "metadata": {
  "kernelspec": {
   "display_name": "Python 3 (ipykernel)",
   "language": "python",
   "name": "python3"
  },
  "language_info": {
   "codemirror_mode": {
    "name": "ipython",
    "version": 3
   },
   "file_extension": ".py",
   "mimetype": "text/x-python",
   "name": "python",
   "nbconvert_exporter": "python",
   "pygments_lexer": "ipython3",
   "version": "3.10.12"
  }
 },
 "nbformat": 4,
 "nbformat_minor": 5
}
