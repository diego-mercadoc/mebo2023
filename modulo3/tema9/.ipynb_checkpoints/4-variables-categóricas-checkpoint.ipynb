{
 "cells": [
  {
   "cell_type": "markdown",
   "id": "2a3555b0-2dde-4c46-80ff-e716dc8fa15f",
   "metadata": {},
   "source": [
    "# Variables categóricas\n",
    "\n",
    "Por último analizaremos el impacto de incluir variables categóricas en nuestros modelos.\n",
    "\n",
    "Esta es una pregunta bastante común en problemas de modelado. ¿Qué tanto cambia el resultado a través de diferentes categorías?\n",
    "Las categorías son variables discretas sin un orden específico. Por ejemplo:\n",
    "\n",
    "- Sexo: masculino, femenino.\n",
    "- Continente: América, Asia, África.\n",
    "- Universidad: ITESO, Tecnológico de Monterrey, UDG.\n",
    "\n",
    "Hay que tener cuidado, ya que en muchos contextos, este tipo de variables se codifican como variables numéricas (one-hot encoding, label encoding, entre otros) y se suelen tratar en los modelos como variables continuas, lo cual puede llevar a conclusiones incorrectas.\n",
    "\n",
    "> **Objetivos:**\n",
    "> - Incluir variables categóricas en nuestros análisis.\n",
    "\n",
    "> **Referencias:**\n",
    "> \n",
    "> - Statistical Rethinking: A Bayesian Course with Examples in R and Stan (2nd edition) - Richard McElreath."
   ]
  },
  {
   "cell_type": "markdown",
   "id": "7d5ea30c-e2a7-4aba-a2de-630f7a3b60af",
   "metadata": {},
   "source": [
    "## 1. Variables binarias\n",
    "\n",
    "Comenzamos analizando el caso en que la variable categórica presenta dos posibilidades; como masculino y femenino. Usemos los datos de altura de la población !Kung San, usados en el tema pasado."
   ]
  },
  {
   "cell_type": "code",
   "execution_count": null,
   "id": "7ceec7e1-41a7-49d2-a691-9575f65bb904",
   "metadata": {},
   "outputs": [],
   "source": [
    "# Importar pandas\n"
   ]
  },
  {
   "cell_type": "code",
   "execution_count": null,
   "id": "9c9216f1-da1c-4583-8725-764fcdbe1c21",
   "metadata": {},
   "outputs": [],
   "source": [
    "# Leer datos Howell1\n"
   ]
  },
  {
   "cell_type": "code",
   "execution_count": null,
   "id": "dea5db06-7a3e-4fdd-91f9-5ea73e309fa1",
   "metadata": {},
   "outputs": [],
   "source": [
    "# Método describe\n"
   ]
  },
  {
   "cell_type": "markdown",
   "id": "500999dc-118f-4afe-8f50-efde29035a7f",
   "metadata": {},
   "source": [
    "La variable `male` en nuestro conjunto de datos es una variable indicadora (o dummy). Aunque numéricas, las variables indicadoras no tienen el significado de que \"uno (1) es más que cero (0)\", y solo indican la presencia de cierta característica.\n",
    "\n",
    "Hay varias maneras de usar este tipo de variables en un modelo. Una de ellas es incluir el indicador como una característica lineal:\n",
    "\n",
    "$$\n",
    "\\begin{align}\n",
    "\\begin{array}{lcl}\n",
    "h_i & \\sim & \\text{Normal}(\\mu_i, \\sigma) \\\\\n",
    "\\mu_i & = & \\alpha + \\beta_m m_i \\\\\n",
    "\\alpha & \\sim & \\text{Normal}(178, 20) \\\\\n",
    "\\beta_m & \\sim & \\text{Normal}(0, 10) \\\\\n",
    "\\sigma & \\sim & \\text{Uniform}(0, 50) \\\\\n",
    "\\end{array}\n",
    "\\end{align}\n",
    "$$\n",
    "\n",
    "donde $h$ representa la altura y $m$ la variable dummy indicando que el individuo es masculino. Notemos que en este caso $\\beta_m$ es la **diferencia esperada** entre hombres y mujeres:\n",
    "\n",
    "- Cuando $m_i=1$, entonces $\\mu_i=\\alpha+\\beta_m$.\n",
    "- Cuando $m_i=0$, entonces $\\mu_i=\\alpha$\n",
    "\n",
    "Esto puede ser complejo, dado que si no tenemos una idea de la diferencia en tamaño, ¿Cómo asignamos la previa?"
   ]
  },
  {
   "cell_type": "markdown",
   "id": "0e051c7e-8ddc-488c-b885-752e0ffa85cf",
   "metadata": {},
   "source": [
    "Otra complicación de este enfoque es que se supone que hay más incertidumbre en la altura de los hombres que de las mujeres, lo cual puede o no ser cierto."
   ]
  },
  {
   "cell_type": "markdown",
   "id": "09ad9ac6-e291-4cc8-9b53-0f831cbf9e38",
   "metadata": {},
   "source": [
    "Otro enfoque disponible es usar una variable índice, la cual contiene enteros que corresponden a las diferentes categorías."
   ]
  },
  {
   "cell_type": "markdown",
   "id": "c0fd8798-8c77-4b76-bb58-a0ab5309a319",
   "metadata": {},
   "source": [
    "Con esto:\n",
    "\n",
    "$$\n",
    "\\begin{align}\n",
    "\\begin{array}{lcl}\n",
    "h_i & \\sim & \\text{Normal}(\\mu_i, \\sigma) \\\\\n",
    "\\mu_i & = & \\alpha_{SEX[i]} \\\\\n",
    "\\alpha_j & \\sim & \\text{Normal}(178, 20) \\quad \\text{for } j=0,1 \\\\\n",
    "\\sigma & \\sim & \\text{Uniform}(0, 50) \\\\\n",
    "\\end{array}\n",
    "\\end{align}\n",
    "$$"
   ]
  },
  {
   "cell_type": "code",
   "execution_count": null,
   "id": "f6c8f594-26d3-4d8a-961d-1f41dda238cf",
   "metadata": {},
   "outputs": [],
   "source": [
    "# Importar pymc y arviz\n"
   ]
  },
  {
   "cell_type": "code",
   "execution_count": null,
   "id": "ef781e4b-ae62-49dc-9313-79c2ead49e35",
   "metadata": {},
   "outputs": [],
   "source": [
    "# Modelo para hombres y mujeres - mu tiene shape = 2\n"
   ]
  },
  {
   "cell_type": "code",
   "execution_count": null,
   "id": "630c7375-72a9-4395-8154-c430e369896f",
   "metadata": {},
   "outputs": [],
   "source": [
    "# Summary\n"
   ]
  },
  {
   "cell_type": "markdown",
   "id": "67c2bc70-d203-4764-8046-5469acb2eac7",
   "metadata": {},
   "source": [
    "Para evaluar la diferencia, podríamos extraer las muestras de `mu[0]` y `mu[1]` para restarlas. Sin embargo, en `pymc` resulta más fácil definir una variable determista con la diferencia."
   ]
  },
  {
   "cell_type": "code",
   "execution_count": null,
   "id": "761eb4d1-20b9-44c2-85ab-916b20d84c75",
   "metadata": {},
   "outputs": [],
   "source": [
    "# Modelo con diferencia (hace sentido usar pm.Deterministic)\n"
   ]
  },
  {
   "cell_type": "code",
   "execution_count": null,
   "id": "6ed1e91d-652c-49be-9eed-0b528dcc02d0",
   "metadata": {},
   "outputs": [],
   "source": [
    "# Summary\n"
   ]
  },
  {
   "cell_type": "markdown",
   "id": "1dbd7b07-ba9f-4b13-9ded-2ddd6c05f405",
   "metadata": {},
   "source": [
    "Con esto podemos observar la diferencia esperada en altura entre una mujer y un hombre de la población !Kung San."
   ]
  },
  {
   "cell_type": "markdown",
   "id": "592e11d9-57f2-49ac-bce6-3e653c2eaecc",
   "metadata": {},
   "source": [
    "## 2. Múltiples categorías\n",
    "\n",
    "Con el enfoque anterior, lo podemos extender al caso de múltiples categorías. \n",
    "\n",
    "Retomemos el ejemplo del contenido energético de la leche:"
   ]
  },
  {
   "cell_type": "code",
   "execution_count": null,
   "id": "00bb4fea-0aca-4d11-aeb7-ce2eef9f4bd4",
   "metadata": {},
   "outputs": [],
   "source": [
    "# Leer Milk data\n"
   ]
  },
  {
   "cell_type": "markdown",
   "id": "34d0397f-d889-4504-b0b5-48a90c10221f",
   "metadata": {},
   "source": [
    "Generemos una variable índice para el *clado*.\n",
    "\n",
    "> Un clado es una agrupación que contiene un antepasado común y todos los descendientes (vivos y extintos) de ese antepasado."
   ]
  },
  {
   "cell_type": "code",
   "execution_count": null,
   "id": "6b9a2d69-1525-49e6-a5f6-ac8a5d1d9cd4",
   "metadata": {},
   "outputs": [],
   "source": [
    "# Clades to int dict\n"
   ]
  },
  {
   "cell_type": "code",
   "execution_count": null,
   "id": "70ab3af9-e7ab-4ccc-980c-9aacc10d3c8e",
   "metadata": {},
   "outputs": [],
   "source": [
    "# Map clade -> clade_id\n"
   ]
  },
  {
   "cell_type": "code",
   "execution_count": null,
   "id": "5bbf6ae8-b829-433a-9ca9-c72ec955fb72",
   "metadata": {},
   "outputs": [],
   "source": [
    "# Standardize function\n",
    "def standardize(y: pd.Series) -> pd.Series:\n",
    "    return (y - y.mean()) / y.std()"
   ]
  },
  {
   "cell_type": "code",
   "execution_count": null,
   "id": "5993ac0b-8bf6-4bad-85bb-b491b4514724",
   "metadata": {},
   "outputs": [],
   "source": [
    "# Estandarizamos la energía\n"
   ]
  },
  {
   "cell_type": "markdown",
   "id": "f3b02b45-8d0e-42bb-afe9-2b2ac607b71d",
   "metadata": {},
   "source": [
    "Ahora, el modelo:\n",
    "\n",
    "$$\n",
    "\\begin{align}\n",
    "\\begin{array}{lcl}\n",
    "K_i & \\sim & \\text{Normal}(\\mu_i, \\sigma) \\\\\n",
    "\\mu_i & = & \\alpha_{CLADE[i]} \\\\\n",
    "\\alpha_j & \\sim & \\text{Normal}(0, 0.5) \\quad \\text{for } j=0,1,2,3 \\\\\n",
    "\\sigma & \\sim & \\text{Exponential}(1) \\\\\n",
    "\\end{array}\n",
    "\\end{align}\n",
    "$$"
   ]
  },
  {
   "cell_type": "code",
   "execution_count": null,
   "id": "a742218e-c661-40e6-9801-5ea8ef5ae538",
   "metadata": {},
   "outputs": [],
   "source": [
    "# Modelo (alpha tiene shape = 4)\n"
   ]
  },
  {
   "cell_type": "code",
   "execution_count": null,
   "id": "c199ea87-2897-417b-a0fe-bfd4f40ae3af",
   "metadata": {},
   "outputs": [],
   "source": [
    "# Plot forest\n"
   ]
  }
 ],
 "metadata": {
  "kernelspec": {
   "display_name": "Python 3 (ipykernel)",
   "language": "python",
   "name": "python3"
  },
  "language_info": {
   "codemirror_mode": {
    "name": "ipython",
    "version": 3
   },
   "file_extension": ".py",
   "mimetype": "text/x-python",
   "name": "python",
   "nbconvert_exporter": "python",
   "pygments_lexer": "ipython3",
   "version": "3.10.12"
  }
 },
 "nbformat": 4,
 "nbformat_minor": 5
}
