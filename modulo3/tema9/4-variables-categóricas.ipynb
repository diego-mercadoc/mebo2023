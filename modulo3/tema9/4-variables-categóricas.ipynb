{
 "cells": [
  {
   "cell_type": "markdown",
   "id": "2a3555b0-2dde-4c46-80ff-e716dc8fa15f",
   "metadata": {},
   "source": [
    "# Variables categóricas\n",
    "\n",
    "Por último analizaremos el impacto de incluir variables categóricas en nuestros modelos.\n",
    "\n",
    "Esta es una pregunta bastante común en problemas de modelado. ¿Qué tanto cambia el resultado a través de diferentes categorías?\n",
    "Las categorías son variables discretas sin un orden específico. Por ejemplo:\n",
    "\n",
    "- Sexo: masculino, femenino.\n",
    "- Continente: América, Asia, África.\n",
    "- Universidad: ITESO, Tecnológico de Monterrey, UDG.\n",
    "\n",
    "Hay que tener cuidado, ya que en muchos contextos, este tipo de variables se codifican como variables numéricas (one-hot encoding, label encoding, entre otros) y se suelen tratar en los modelos como variables continuas, lo cual puede llevar a conclusiones incorrectas.\n",
    "\n",
    "> **Objetivos:**\n",
    "> - Incluir variables categóricas en nuestros análisis.\n",
    "\n",
    "> **Referencias:**\n",
    "> \n",
    "> - Statistical Rethinking: A Bayesian Course with Examples in R and Stan (2nd edition) - Richard McElreath."
   ]
  },
  {
   "cell_type": "markdown",
   "id": "7d5ea30c-e2a7-4aba-a2de-630f7a3b60af",
   "metadata": {},
   "source": [
    "## 1. Variables binarias\n",
    "\n",
    "Comenzamos analizando el caso en que la variable categórica presenta dos posibilidades; como masculino y femenino. Usemos los datos de altura de la población !Kung San, usados en el tema pasado."
   ]
  },
  {
   "cell_type": "code",
   "execution_count": 1,
   "id": "7ceec7e1-41a7-49d2-a691-9575f65bb904",
   "metadata": {},
   "outputs": [],
   "source": [
    "# Importar pandas\n",
    "import pandas as pd"
   ]
  },
  {
   "cell_type": "code",
   "execution_count": 2,
   "id": "9c9216f1-da1c-4583-8725-764fcdbe1c21",
   "metadata": {},
   "outputs": [],
   "source": [
    "# Leer datos Howell1\n",
    "height_data = pd.read_csv(\n",
    "    \"data/Howell1.csv\",\n",
    "    sep=\";\"\n",
    ")"
   ]
  },
  {
   "cell_type": "code",
   "execution_count": 3,
   "id": "dea5db06-7a3e-4fdd-91f9-5ea73e309fa1",
   "metadata": {},
   "outputs": [
    {
     "data": {
      "text/html": [
       "<div>\n",
       "<style scoped>\n",
       "    .dataframe tbody tr th:only-of-type {\n",
       "        vertical-align: middle;\n",
       "    }\n",
       "\n",
       "    .dataframe tbody tr th {\n",
       "        vertical-align: top;\n",
       "    }\n",
       "\n",
       "    .dataframe thead th {\n",
       "        text-align: right;\n",
       "    }\n",
       "</style>\n",
       "<table border=\"1\" class=\"dataframe\">\n",
       "  <thead>\n",
       "    <tr style=\"text-align: right;\">\n",
       "      <th></th>\n",
       "      <th>height</th>\n",
       "      <th>weight</th>\n",
       "      <th>age</th>\n",
       "      <th>male</th>\n",
       "    </tr>\n",
       "  </thead>\n",
       "  <tbody>\n",
       "    <tr>\n",
       "      <th>count</th>\n",
       "      <td>544.000000</td>\n",
       "      <td>544.000000</td>\n",
       "      <td>544.000000</td>\n",
       "      <td>544.000000</td>\n",
       "    </tr>\n",
       "    <tr>\n",
       "      <th>mean</th>\n",
       "      <td>138.263596</td>\n",
       "      <td>35.610618</td>\n",
       "      <td>29.344393</td>\n",
       "      <td>0.472426</td>\n",
       "    </tr>\n",
       "    <tr>\n",
       "      <th>std</th>\n",
       "      <td>27.602448</td>\n",
       "      <td>14.719178</td>\n",
       "      <td>20.746888</td>\n",
       "      <td>0.499699</td>\n",
       "    </tr>\n",
       "    <tr>\n",
       "      <th>min</th>\n",
       "      <td>53.975000</td>\n",
       "      <td>4.252425</td>\n",
       "      <td>0.000000</td>\n",
       "      <td>0.000000</td>\n",
       "    </tr>\n",
       "    <tr>\n",
       "      <th>25%</th>\n",
       "      <td>125.095000</td>\n",
       "      <td>22.007717</td>\n",
       "      <td>12.000000</td>\n",
       "      <td>0.000000</td>\n",
       "    </tr>\n",
       "    <tr>\n",
       "      <th>50%</th>\n",
       "      <td>148.590000</td>\n",
       "      <td>40.057844</td>\n",
       "      <td>27.000000</td>\n",
       "      <td>0.000000</td>\n",
       "    </tr>\n",
       "    <tr>\n",
       "      <th>75%</th>\n",
       "      <td>157.480000</td>\n",
       "      <td>47.209005</td>\n",
       "      <td>43.000000</td>\n",
       "      <td>1.000000</td>\n",
       "    </tr>\n",
       "    <tr>\n",
       "      <th>max</th>\n",
       "      <td>179.070000</td>\n",
       "      <td>62.992589</td>\n",
       "      <td>88.000000</td>\n",
       "      <td>1.000000</td>\n",
       "    </tr>\n",
       "  </tbody>\n",
       "</table>\n",
       "</div>"
      ],
      "text/plain": [
       "           height      weight         age        male\n",
       "count  544.000000  544.000000  544.000000  544.000000\n",
       "mean   138.263596   35.610618   29.344393    0.472426\n",
       "std     27.602448   14.719178   20.746888    0.499699\n",
       "min     53.975000    4.252425    0.000000    0.000000\n",
       "25%    125.095000   22.007717   12.000000    0.000000\n",
       "50%    148.590000   40.057844   27.000000    0.000000\n",
       "75%    157.480000   47.209005   43.000000    1.000000\n",
       "max    179.070000   62.992589   88.000000    1.000000"
      ]
     },
     "execution_count": 3,
     "metadata": {},
     "output_type": "execute_result"
    }
   ],
   "source": [
    "# Método describe\n",
    "height_data.describe()"
   ]
  },
  {
   "cell_type": "markdown",
   "id": "500999dc-118f-4afe-8f50-efde29035a7f",
   "metadata": {},
   "source": [
    "La variable `male` en nuestro conjunto de datos es una variable indicadora (o dummy). Aunque numéricas, las variables indicadoras no tienen el significado de que \"uno (1) es más que cero (0)\", y solo indican la presencia de cierta característica.\n",
    "\n",
    "Hay varias maneras de usar este tipo de variables en un modelo. Una de ellas es incluir el indicador como una característica lineal:\n",
    "\n",
    "$$\n",
    "\\begin{align}\n",
    "\\begin{array}{lcl}\n",
    "h_i & \\sim & \\text{Normal}(\\mu_i, \\sigma) \\\\\n",
    "\\mu_i & = & \\alpha + \\beta_m m_i \\\\\n",
    "\\alpha & \\sim & \\text{Normal}(178, 20) \\\\\n",
    "\\beta_m & \\sim & \\text{Normal}(0, 10) \\\\\n",
    "\\sigma & \\sim & \\text{Uniform}(0, 50) \\\\\n",
    "\\end{array}\n",
    "\\end{align}\n",
    "$$\n",
    "\n",
    "donde $h$ representa la altura y $m$ la variable dummy indicando que el individuo es masculino. Notemos que en este caso $\\beta_m$ es la **diferencia esperada** entre hombres y mujeres:\n",
    "\n",
    "- Cuando $m_i=1$, entonces $\\mu_i=\\alpha+\\beta_m$.\n",
    "- Cuando $m_i=0$, entonces $\\mu_i=\\alpha$\n",
    "\n",
    "Esto puede ser complejo, dado que si no tenemos una idea de la diferencia en tamaño, ¿Cómo asignamos la previa?"
   ]
  },
  {
   "cell_type": "markdown",
   "id": "0e051c7e-8ddc-488c-b885-752e0ffa85cf",
   "metadata": {},
   "source": [
    "Otra complicación de este enfoque es que se supone que hay más incertidumbre en la altura de los hombres que de las mujeres, lo cual puede o no ser cierto."
   ]
  },
  {
   "cell_type": "markdown",
   "id": "09ad9ac6-e291-4cc8-9b53-0f831cbf9e38",
   "metadata": {},
   "source": [
    "Otro enfoque disponible es usar una variable índice, la cual contiene enteros que corresponden a las diferentes categorías."
   ]
  },
  {
   "cell_type": "markdown",
   "id": "c0fd8798-8c77-4b76-bb58-a0ab5309a319",
   "metadata": {},
   "source": [
    "Con esto:\n",
    "\n",
    "$$\n",
    "\\begin{align}\n",
    "\\begin{array}{lcl}\n",
    "h_i & \\sim & \\text{Normal}(\\mu_i, \\sigma) \\\\\n",
    "\\mu_i & = & \\alpha_{SEX[i]} \\\\\n",
    "\\alpha_j & \\sim & \\text{Normal}(178, 20) \\quad \\text{for } j=0,1 \\\\\n",
    "\\sigma & \\sim & \\text{Uniform}(0, 50) \\\\\n",
    "\\end{array}\n",
    "\\end{align}\n",
    "$$"
   ]
  },
  {
   "cell_type": "code",
   "execution_count": 4,
   "id": "f6c8f594-26d3-4d8a-961d-1f41dda238cf",
   "metadata": {},
   "outputs": [
    {
     "name": "stderr",
     "output_type": "stream",
     "text": [
      "/home/esteban/anaconda3/envs/stat-rethink2-pymc_v4/lib/python3.10/site-packages/scipy/__init__.py:146: UserWarning: A NumPy version >=1.16.5 and <1.23.0 is required for this version of SciPy (detected version 1.25.2\n",
      "  warnings.warn(f\"A NumPy version >={np_minversion} and <{np_maxversion}\"\n"
     ]
    }
   ],
   "source": [
    "# Importar pymc y arviz\n",
    "import pymc as pm\n",
    "import arviz as az"
   ]
  },
  {
   "cell_type": "code",
   "execution_count": 6,
   "id": "ef781e4b-ae62-49dc-9313-79c2ead49e35",
   "metadata": {},
   "outputs": [
    {
     "name": "stderr",
     "output_type": "stream",
     "text": [
      "Auto-assigning NUTS sampler...\n",
      "Initializing NUTS using jitter+adapt_diag...\n",
      "Multiprocess sampling (4 chains in 4 jobs)\n",
      "NUTS: [sigma, alpha]\n"
     ]
    },
    {
     "data": {
      "text/html": [
       "\n",
       "<style>\n",
       "    /* Turns off some styling */\n",
       "    progress {\n",
       "        /* gets rid of default border in Firefox and Opera. */\n",
       "        border: none;\n",
       "        /* Needs to be in here for Safari polyfill so background images work as expected. */\n",
       "        background-size: auto;\n",
       "    }\n",
       "    progress:not([value]), progress:not([value])::-webkit-progress-bar {\n",
       "        background: repeating-linear-gradient(45deg, #7e7e7e, #7e7e7e 10px, #5c5c5c 10px, #5c5c5c 20px);\n",
       "    }\n",
       "    .progress-bar-interrupted, .progress-bar-interrupted::-webkit-progress-bar {\n",
       "        background: #F44336;\n",
       "    }\n",
       "</style>\n"
      ],
      "text/plain": [
       "<IPython.core.display.HTML object>"
      ]
     },
     "metadata": {},
     "output_type": "display_data"
    },
    {
     "data": {
      "text/html": [
       "\n",
       "    <div>\n",
       "      <progress value='8000' class='' max='8000' style='width:300px; height:20px; vertical-align: middle;'></progress>\n",
       "      100.00% [8000/8000 00:01&lt;00:00 Sampling 4 chains, 0 divergences]\n",
       "    </div>\n",
       "    "
      ],
      "text/plain": [
       "<IPython.core.display.HTML object>"
      ]
     },
     "metadata": {},
     "output_type": "display_data"
    },
    {
     "name": "stderr",
     "output_type": "stream",
     "text": [
      "Sampling 4 chains for 1_000 tune and 1_000 draw iterations (4_000 + 4_000 draws total) took 2 seconds.\n"
     ]
    }
   ],
   "source": [
    "# Modelo para hombres y mujeres - mu tiene shape = 2\n",
    "with pm.Model() as cat_model:\n",
    "    sigma = pm.Uniform(\"sigma\", 0, 50)\n",
    "    alpha = pm.Normal(\"alpha\", 178, 20, shape=2)\n",
    "    mu = pm.Deterministic(\"mu\", alpha)\n",
    "\n",
    "    height = pm.Normal(\n",
    "        \"height\",\n",
    "        mu[height_data[\"male\"]],\n",
    "        sigma,\n",
    "        observed=height_data[\"height\"]\n",
    "    )\n",
    "\n",
    "    idata_cat = pm.sample()"
   ]
  },
  {
   "cell_type": "code",
   "execution_count": 7,
   "id": "630c7375-72a9-4395-8154-c430e369896f",
   "metadata": {},
   "outputs": [
    {
     "data": {
      "text/html": [
       "<div>\n",
       "<style scoped>\n",
       "    .dataframe tbody tr th:only-of-type {\n",
       "        vertical-align: middle;\n",
       "    }\n",
       "\n",
       "    .dataframe tbody tr th {\n",
       "        vertical-align: top;\n",
       "    }\n",
       "\n",
       "    .dataframe thead th {\n",
       "        text-align: right;\n",
       "    }\n",
       "</style>\n",
       "<table border=\"1\" class=\"dataframe\">\n",
       "  <thead>\n",
       "    <tr style=\"text-align: right;\">\n",
       "      <th></th>\n",
       "      <th>mean</th>\n",
       "      <th>sd</th>\n",
       "      <th>hdi_5.5%</th>\n",
       "      <th>hdi_94.5%</th>\n",
       "    </tr>\n",
       "  </thead>\n",
       "  <tbody>\n",
       "    <tr>\n",
       "      <th>mu[0]</th>\n",
       "      <td>134.878</td>\n",
       "      <td>1.600</td>\n",
       "      <td>132.434</td>\n",
       "      <td>137.549</td>\n",
       "    </tr>\n",
       "    <tr>\n",
       "      <th>mu[1]</th>\n",
       "      <td>142.589</td>\n",
       "      <td>1.717</td>\n",
       "      <td>139.803</td>\n",
       "      <td>145.235</td>\n",
       "    </tr>\n",
       "    <tr>\n",
       "      <th>sigma</th>\n",
       "      <td>27.428</td>\n",
       "      <td>0.832</td>\n",
       "      <td>26.125</td>\n",
       "      <td>28.771</td>\n",
       "    </tr>\n",
       "  </tbody>\n",
       "</table>\n",
       "</div>"
      ],
      "text/plain": [
       "          mean     sd  hdi_5.5%  hdi_94.5%\n",
       "mu[0]  134.878  1.600   132.434    137.549\n",
       "mu[1]  142.589  1.717   139.803    145.235\n",
       "sigma   27.428  0.832    26.125     28.771"
      ]
     },
     "execution_count": 7,
     "metadata": {},
     "output_type": "execute_result"
    }
   ],
   "source": [
    "# Summary\n",
    "az.summary(\n",
    "    idata_cat,\n",
    "    var_names=[\"mu\", \"sigma\"],\n",
    "    kind=\"stats\",\n",
    "    hdi_prob=0.89\n",
    ")"
   ]
  },
  {
   "cell_type": "markdown",
   "id": "67c2bc70-d203-4764-8046-5469acb2eac7",
   "metadata": {},
   "source": [
    "Para evaluar la diferencia, podríamos extraer las muestras de `mu[0]` y `mu[1]` para restarlas. Sin embargo, en `pymc` resulta más fácil definir una variable determista con la diferencia."
   ]
  },
  {
   "cell_type": "code",
   "execution_count": 8,
   "id": "761eb4d1-20b9-44c2-85ab-916b20d84c75",
   "metadata": {},
   "outputs": [
    {
     "name": "stderr",
     "output_type": "stream",
     "text": [
      "Auto-assigning NUTS sampler...\n",
      "Initializing NUTS using jitter+adapt_diag...\n",
      "Multiprocess sampling (4 chains in 4 jobs)\n",
      "NUTS: [sigma, alpha]\n"
     ]
    },
    {
     "data": {
      "text/html": [
       "\n",
       "<style>\n",
       "    /* Turns off some styling */\n",
       "    progress {\n",
       "        /* gets rid of default border in Firefox and Opera. */\n",
       "        border: none;\n",
       "        /* Needs to be in here for Safari polyfill so background images work as expected. */\n",
       "        background-size: auto;\n",
       "    }\n",
       "    progress:not([value]), progress:not([value])::-webkit-progress-bar {\n",
       "        background: repeating-linear-gradient(45deg, #7e7e7e, #7e7e7e 10px, #5c5c5c 10px, #5c5c5c 20px);\n",
       "    }\n",
       "    .progress-bar-interrupted, .progress-bar-interrupted::-webkit-progress-bar {\n",
       "        background: #F44336;\n",
       "    }\n",
       "</style>\n"
      ],
      "text/plain": [
       "<IPython.core.display.HTML object>"
      ]
     },
     "metadata": {},
     "output_type": "display_data"
    },
    {
     "data": {
      "text/html": [
       "\n",
       "    <div>\n",
       "      <progress value='8000' class='' max='8000' style='width:300px; height:20px; vertical-align: middle;'></progress>\n",
       "      100.00% [8000/8000 00:01&lt;00:00 Sampling 4 chains, 0 divergences]\n",
       "    </div>\n",
       "    "
      ],
      "text/plain": [
       "<IPython.core.display.HTML object>"
      ]
     },
     "metadata": {},
     "output_type": "display_data"
    },
    {
     "name": "stderr",
     "output_type": "stream",
     "text": [
      "Sampling 4 chains for 1_000 tune and 1_000 draw iterations (4_000 + 4_000 draws total) took 3 seconds.\n"
     ]
    }
   ],
   "source": [
    "# Modelo con diferencia (hace sentido usar pm.Deterministic)\n",
    "with pm.Model() as cat_model:\n",
    "    sigma = pm.Uniform(\"sigma\", 0, 50)\n",
    "    alpha = pm.Normal(\"alpha\", 178, 20, shape=2)\n",
    "    mu = pm.Deterministic(\"mu\", alpha)\n",
    "\n",
    "    height = pm.Normal(\n",
    "        \"height\",\n",
    "        mu[height_data[\"male\"]],\n",
    "        sigma,\n",
    "        observed=height_data[\"height\"]\n",
    "    )\n",
    "    diff = pm.Deterministic(\"diff\", mu[0] - mu[1])\n",
    "    idata_cat = pm.sample()"
   ]
  },
  {
   "cell_type": "code",
   "execution_count": 9,
   "id": "6ed1e91d-652c-49be-9eed-0b528dcc02d0",
   "metadata": {},
   "outputs": [
    {
     "data": {
      "text/html": [
       "<div>\n",
       "<style scoped>\n",
       "    .dataframe tbody tr th:only-of-type {\n",
       "        vertical-align: middle;\n",
       "    }\n",
       "\n",
       "    .dataframe tbody tr th {\n",
       "        vertical-align: top;\n",
       "    }\n",
       "\n",
       "    .dataframe thead th {\n",
       "        text-align: right;\n",
       "    }\n",
       "</style>\n",
       "<table border=\"1\" class=\"dataframe\">\n",
       "  <thead>\n",
       "    <tr style=\"text-align: right;\">\n",
       "      <th></th>\n",
       "      <th>mean</th>\n",
       "      <th>sd</th>\n",
       "      <th>hdi_5.5%</th>\n",
       "      <th>hdi_94.5%</th>\n",
       "    </tr>\n",
       "  </thead>\n",
       "  <tbody>\n",
       "    <tr>\n",
       "      <th>mu[0]</th>\n",
       "      <td>134.932</td>\n",
       "      <td>1.602</td>\n",
       "      <td>132.435</td>\n",
       "      <td>137.551</td>\n",
       "    </tr>\n",
       "    <tr>\n",
       "      <th>mu[1]</th>\n",
       "      <td>142.607</td>\n",
       "      <td>1.709</td>\n",
       "      <td>140.012</td>\n",
       "      <td>145.439</td>\n",
       "    </tr>\n",
       "    <tr>\n",
       "      <th>sigma</th>\n",
       "      <td>27.439</td>\n",
       "      <td>0.840</td>\n",
       "      <td>26.043</td>\n",
       "      <td>28.738</td>\n",
       "    </tr>\n",
       "    <tr>\n",
       "      <th>diff</th>\n",
       "      <td>-7.675</td>\n",
       "      <td>2.348</td>\n",
       "      <td>-11.484</td>\n",
       "      <td>-3.971</td>\n",
       "    </tr>\n",
       "  </tbody>\n",
       "</table>\n",
       "</div>"
      ],
      "text/plain": [
       "          mean     sd  hdi_5.5%  hdi_94.5%\n",
       "mu[0]  134.932  1.602   132.435    137.551\n",
       "mu[1]  142.607  1.709   140.012    145.439\n",
       "sigma   27.439  0.840    26.043     28.738\n",
       "diff    -7.675  2.348   -11.484     -3.971"
      ]
     },
     "execution_count": 9,
     "metadata": {},
     "output_type": "execute_result"
    }
   ],
   "source": [
    "# Summary\n",
    "az.summary(\n",
    "    idata_cat,\n",
    "    var_names=[\"mu\", \"sigma\", \"diff\"],\n",
    "    kind=\"stats\",\n",
    "    hdi_prob=0.89\n",
    ")"
   ]
  },
  {
   "cell_type": "markdown",
   "id": "1dbd7b07-ba9f-4b13-9ded-2ddd6c05f405",
   "metadata": {},
   "source": [
    "Con esto podemos observar la diferencia esperada en altura entre una mujer y un hombre de la población !Kung San."
   ]
  },
  {
   "cell_type": "markdown",
   "id": "592e11d9-57f2-49ac-bce6-3e653c2eaecc",
   "metadata": {},
   "source": [
    "## 2. Múltiples categorías\n",
    "\n",
    "Con el enfoque anterior, lo podemos extender al caso de múltiples categorías. \n",
    "\n",
    "Retomemos el ejemplo del contenido energético de la leche:"
   ]
  },
  {
   "cell_type": "code",
   "execution_count": 10,
   "id": "00bb4fea-0aca-4d11-aeb7-ce2eef9f4bd4",
   "metadata": {},
   "outputs": [],
   "source": [
    "# Leer Milk data\n",
    "milk_data = pd.read_csv(\n",
    "    \"data/milk.csv\",\n",
    "    sep=\";\"\n",
    ")"
   ]
  },
  {
   "cell_type": "code",
   "execution_count": 11,
   "id": "353b9f30-cba4-49c6-b2e8-021012cc977b",
   "metadata": {},
   "outputs": [
    {
     "data": {
      "text/html": [
       "<div>\n",
       "<style scoped>\n",
       "    .dataframe tbody tr th:only-of-type {\n",
       "        vertical-align: middle;\n",
       "    }\n",
       "\n",
       "    .dataframe tbody tr th {\n",
       "        vertical-align: top;\n",
       "    }\n",
       "\n",
       "    .dataframe thead th {\n",
       "        text-align: right;\n",
       "    }\n",
       "</style>\n",
       "<table border=\"1\" class=\"dataframe\">\n",
       "  <thead>\n",
       "    <tr style=\"text-align: right;\">\n",
       "      <th></th>\n",
       "      <th>clade</th>\n",
       "      <th>species</th>\n",
       "      <th>kcal.per.g</th>\n",
       "      <th>perc.fat</th>\n",
       "      <th>perc.protein</th>\n",
       "      <th>perc.lactose</th>\n",
       "      <th>mass</th>\n",
       "      <th>neocortex.perc</th>\n",
       "    </tr>\n",
       "  </thead>\n",
       "  <tbody>\n",
       "    <tr>\n",
       "      <th>0</th>\n",
       "      <td>Strepsirrhine</td>\n",
       "      <td>Eulemur fulvus</td>\n",
       "      <td>0.49</td>\n",
       "      <td>16.60</td>\n",
       "      <td>15.42</td>\n",
       "      <td>67.98</td>\n",
       "      <td>1.95</td>\n",
       "      <td>55.16</td>\n",
       "    </tr>\n",
       "    <tr>\n",
       "      <th>1</th>\n",
       "      <td>Strepsirrhine</td>\n",
       "      <td>E macaco</td>\n",
       "      <td>0.51</td>\n",
       "      <td>19.27</td>\n",
       "      <td>16.91</td>\n",
       "      <td>63.82</td>\n",
       "      <td>2.09</td>\n",
       "      <td>NaN</td>\n",
       "    </tr>\n",
       "    <tr>\n",
       "      <th>2</th>\n",
       "      <td>Strepsirrhine</td>\n",
       "      <td>E mongoz</td>\n",
       "      <td>0.46</td>\n",
       "      <td>14.11</td>\n",
       "      <td>16.85</td>\n",
       "      <td>69.04</td>\n",
       "      <td>2.51</td>\n",
       "      <td>NaN</td>\n",
       "    </tr>\n",
       "    <tr>\n",
       "      <th>3</th>\n",
       "      <td>Strepsirrhine</td>\n",
       "      <td>E rubriventer</td>\n",
       "      <td>0.48</td>\n",
       "      <td>14.91</td>\n",
       "      <td>13.18</td>\n",
       "      <td>71.91</td>\n",
       "      <td>1.62</td>\n",
       "      <td>NaN</td>\n",
       "    </tr>\n",
       "    <tr>\n",
       "      <th>4</th>\n",
       "      <td>Strepsirrhine</td>\n",
       "      <td>Lemur catta</td>\n",
       "      <td>0.60</td>\n",
       "      <td>27.28</td>\n",
       "      <td>19.50</td>\n",
       "      <td>53.22</td>\n",
       "      <td>2.19</td>\n",
       "      <td>NaN</td>\n",
       "    </tr>\n",
       "  </tbody>\n",
       "</table>\n",
       "</div>"
      ],
      "text/plain": [
       "           clade         species  kcal.per.g  perc.fat  perc.protein  \\\n",
       "0  Strepsirrhine  Eulemur fulvus        0.49     16.60         15.42   \n",
       "1  Strepsirrhine        E macaco        0.51     19.27         16.91   \n",
       "2  Strepsirrhine        E mongoz        0.46     14.11         16.85   \n",
       "3  Strepsirrhine   E rubriventer        0.48     14.91         13.18   \n",
       "4  Strepsirrhine     Lemur catta        0.60     27.28         19.50   \n",
       "\n",
       "   perc.lactose  mass  neocortex.perc  \n",
       "0         67.98  1.95           55.16  \n",
       "1         63.82  2.09             NaN  \n",
       "2         69.04  2.51             NaN  \n",
       "3         71.91  1.62             NaN  \n",
       "4         53.22  2.19             NaN  "
      ]
     },
     "execution_count": 11,
     "metadata": {},
     "output_type": "execute_result"
    }
   ],
   "source": [
    "milk_data.head()"
   ]
  },
  {
   "cell_type": "code",
   "execution_count": 12,
   "id": "6ebc310d-06aa-40e5-9100-8b758a020bc5",
   "metadata": {},
   "outputs": [
    {
     "data": {
      "text/plain": [
       "array(['Strepsirrhine', 'New World Monkey', 'Old World Monkey', 'Ape'],\n",
       "      dtype=object)"
      ]
     },
     "execution_count": 12,
     "metadata": {},
     "output_type": "execute_result"
    }
   ],
   "source": [
    "milk_data[\"clade\"].unique()"
   ]
  },
  {
   "cell_type": "markdown",
   "id": "34d0397f-d889-4504-b0b5-48a90c10221f",
   "metadata": {},
   "source": [
    "Generemos una variable índice para el *clado*.\n",
    "\n",
    "> Un clado es una agrupación que contiene un antepasado común y todos los descendientes (vivos y extintos) de ese antepasado."
   ]
  },
  {
   "cell_type": "code",
   "execution_count": 13,
   "id": "6b9a2d69-1525-49e6-a5f6-ac8a5d1d9cd4",
   "metadata": {},
   "outputs": [
    {
     "data": {
      "text/plain": [
       "{'Strepsirrhine': 0, 'New World Monkey': 1, 'Old World Monkey': 2, 'Ape': 3}"
      ]
     },
     "execution_count": 13,
     "metadata": {},
     "output_type": "execute_result"
    }
   ],
   "source": [
    "# Clades to int dict\n",
    "clade_to_int = dict(zip(\n",
    "    milk_data[\"clade\"].unique(),\n",
    "    range(milk_data[\"clade\"].nunique())\n",
    "))\n",
    "clade_to_int"
   ]
  },
  {
   "cell_type": "code",
   "execution_count": 14,
   "id": "70ab3af9-e7ab-4ccc-980c-9aacc10d3c8e",
   "metadata": {},
   "outputs": [
    {
     "data": {
      "text/html": [
       "<div>\n",
       "<style scoped>\n",
       "    .dataframe tbody tr th:only-of-type {\n",
       "        vertical-align: middle;\n",
       "    }\n",
       "\n",
       "    .dataframe tbody tr th {\n",
       "        vertical-align: top;\n",
       "    }\n",
       "\n",
       "    .dataframe thead th {\n",
       "        text-align: right;\n",
       "    }\n",
       "</style>\n",
       "<table border=\"1\" class=\"dataframe\">\n",
       "  <thead>\n",
       "    <tr style=\"text-align: right;\">\n",
       "      <th></th>\n",
       "      <th>clade</th>\n",
       "      <th>species</th>\n",
       "      <th>kcal.per.g</th>\n",
       "      <th>perc.fat</th>\n",
       "      <th>perc.protein</th>\n",
       "      <th>perc.lactose</th>\n",
       "      <th>mass</th>\n",
       "      <th>neocortex.perc</th>\n",
       "      <th>clade_id</th>\n",
       "    </tr>\n",
       "  </thead>\n",
       "  <tbody>\n",
       "    <tr>\n",
       "      <th>0</th>\n",
       "      <td>Strepsirrhine</td>\n",
       "      <td>Eulemur fulvus</td>\n",
       "      <td>0.49</td>\n",
       "      <td>16.60</td>\n",
       "      <td>15.42</td>\n",
       "      <td>67.98</td>\n",
       "      <td>1.95</td>\n",
       "      <td>55.16</td>\n",
       "      <td>0</td>\n",
       "    </tr>\n",
       "    <tr>\n",
       "      <th>1</th>\n",
       "      <td>Strepsirrhine</td>\n",
       "      <td>E macaco</td>\n",
       "      <td>0.51</td>\n",
       "      <td>19.27</td>\n",
       "      <td>16.91</td>\n",
       "      <td>63.82</td>\n",
       "      <td>2.09</td>\n",
       "      <td>NaN</td>\n",
       "      <td>0</td>\n",
       "    </tr>\n",
       "    <tr>\n",
       "      <th>2</th>\n",
       "      <td>Strepsirrhine</td>\n",
       "      <td>E mongoz</td>\n",
       "      <td>0.46</td>\n",
       "      <td>14.11</td>\n",
       "      <td>16.85</td>\n",
       "      <td>69.04</td>\n",
       "      <td>2.51</td>\n",
       "      <td>NaN</td>\n",
       "      <td>0</td>\n",
       "    </tr>\n",
       "    <tr>\n",
       "      <th>3</th>\n",
       "      <td>Strepsirrhine</td>\n",
       "      <td>E rubriventer</td>\n",
       "      <td>0.48</td>\n",
       "      <td>14.91</td>\n",
       "      <td>13.18</td>\n",
       "      <td>71.91</td>\n",
       "      <td>1.62</td>\n",
       "      <td>NaN</td>\n",
       "      <td>0</td>\n",
       "    </tr>\n",
       "    <tr>\n",
       "      <th>4</th>\n",
       "      <td>Strepsirrhine</td>\n",
       "      <td>Lemur catta</td>\n",
       "      <td>0.60</td>\n",
       "      <td>27.28</td>\n",
       "      <td>19.50</td>\n",
       "      <td>53.22</td>\n",
       "      <td>2.19</td>\n",
       "      <td>NaN</td>\n",
       "      <td>0</td>\n",
       "    </tr>\n",
       "  </tbody>\n",
       "</table>\n",
       "</div>"
      ],
      "text/plain": [
       "           clade         species  kcal.per.g  perc.fat  perc.protein  \\\n",
       "0  Strepsirrhine  Eulemur fulvus        0.49     16.60         15.42   \n",
       "1  Strepsirrhine        E macaco        0.51     19.27         16.91   \n",
       "2  Strepsirrhine        E mongoz        0.46     14.11         16.85   \n",
       "3  Strepsirrhine   E rubriventer        0.48     14.91         13.18   \n",
       "4  Strepsirrhine     Lemur catta        0.60     27.28         19.50   \n",
       "\n",
       "   perc.lactose  mass  neocortex.perc  clade_id  \n",
       "0         67.98  1.95           55.16         0  \n",
       "1         63.82  2.09             NaN         0  \n",
       "2         69.04  2.51             NaN         0  \n",
       "3         71.91  1.62             NaN         0  \n",
       "4         53.22  2.19             NaN         0  "
      ]
     },
     "execution_count": 14,
     "metadata": {},
     "output_type": "execute_result"
    }
   ],
   "source": [
    "# Map clade -> clade_id\n",
    "milk_data[\"clade_id\"] = milk_data[\"clade\"].map(clade_to_int)\n",
    "milk_data.head()"
   ]
  },
  {
   "cell_type": "code",
   "execution_count": 15,
   "id": "5bbf6ae8-b829-433a-9ca9-c72ec955fb72",
   "metadata": {},
   "outputs": [],
   "source": [
    "# Standardize function\n",
    "def standardize(y: pd.Series) -> pd.Series:\n",
    "    return (y - y.mean()) / y.std()"
   ]
  },
  {
   "cell_type": "code",
   "execution_count": 16,
   "id": "5993ac0b-8bf6-4bad-85bb-b491b4514724",
   "metadata": {},
   "outputs": [
    {
     "data": {
      "text/html": [
       "<div>\n",
       "<style scoped>\n",
       "    .dataframe tbody tr th:only-of-type {\n",
       "        vertical-align: middle;\n",
       "    }\n",
       "\n",
       "    .dataframe tbody tr th {\n",
       "        vertical-align: top;\n",
       "    }\n",
       "\n",
       "    .dataframe thead th {\n",
       "        text-align: right;\n",
       "    }\n",
       "</style>\n",
       "<table border=\"1\" class=\"dataframe\">\n",
       "  <thead>\n",
       "    <tr style=\"text-align: right;\">\n",
       "      <th></th>\n",
       "      <th>clade</th>\n",
       "      <th>species</th>\n",
       "      <th>kcal.per.g</th>\n",
       "      <th>perc.fat</th>\n",
       "      <th>perc.protein</th>\n",
       "      <th>perc.lactose</th>\n",
       "      <th>mass</th>\n",
       "      <th>neocortex.perc</th>\n",
       "      <th>clade_id</th>\n",
       "      <th>energy_std</th>\n",
       "    </tr>\n",
       "  </thead>\n",
       "  <tbody>\n",
       "    <tr>\n",
       "      <th>0</th>\n",
       "      <td>Strepsirrhine</td>\n",
       "      <td>Eulemur fulvus</td>\n",
       "      <td>0.49</td>\n",
       "      <td>16.60</td>\n",
       "      <td>15.42</td>\n",
       "      <td>67.98</td>\n",
       "      <td>1.95</td>\n",
       "      <td>55.16</td>\n",
       "      <td>0</td>\n",
       "      <td>-0.940041</td>\n",
       "    </tr>\n",
       "    <tr>\n",
       "      <th>1</th>\n",
       "      <td>Strepsirrhine</td>\n",
       "      <td>E macaco</td>\n",
       "      <td>0.51</td>\n",
       "      <td>19.27</td>\n",
       "      <td>16.91</td>\n",
       "      <td>63.82</td>\n",
       "      <td>2.09</td>\n",
       "      <td>NaN</td>\n",
       "      <td>0</td>\n",
       "      <td>-0.816126</td>\n",
       "    </tr>\n",
       "    <tr>\n",
       "      <th>2</th>\n",
       "      <td>Strepsirrhine</td>\n",
       "      <td>E mongoz</td>\n",
       "      <td>0.46</td>\n",
       "      <td>14.11</td>\n",
       "      <td>16.85</td>\n",
       "      <td>69.04</td>\n",
       "      <td>2.51</td>\n",
       "      <td>NaN</td>\n",
       "      <td>0</td>\n",
       "      <td>-1.125913</td>\n",
       "    </tr>\n",
       "    <tr>\n",
       "      <th>3</th>\n",
       "      <td>Strepsirrhine</td>\n",
       "      <td>E rubriventer</td>\n",
       "      <td>0.48</td>\n",
       "      <td>14.91</td>\n",
       "      <td>13.18</td>\n",
       "      <td>71.91</td>\n",
       "      <td>1.62</td>\n",
       "      <td>NaN</td>\n",
       "      <td>0</td>\n",
       "      <td>-1.001998</td>\n",
       "    </tr>\n",
       "    <tr>\n",
       "      <th>4</th>\n",
       "      <td>Strepsirrhine</td>\n",
       "      <td>Lemur catta</td>\n",
       "      <td>0.60</td>\n",
       "      <td>27.28</td>\n",
       "      <td>19.50</td>\n",
       "      <td>53.22</td>\n",
       "      <td>2.19</td>\n",
       "      <td>NaN</td>\n",
       "      <td>0</td>\n",
       "      <td>-0.258511</td>\n",
       "    </tr>\n",
       "  </tbody>\n",
       "</table>\n",
       "</div>"
      ],
      "text/plain": [
       "           clade         species  kcal.per.g  perc.fat  perc.protein  \\\n",
       "0  Strepsirrhine  Eulemur fulvus        0.49     16.60         15.42   \n",
       "1  Strepsirrhine        E macaco        0.51     19.27         16.91   \n",
       "2  Strepsirrhine        E mongoz        0.46     14.11         16.85   \n",
       "3  Strepsirrhine   E rubriventer        0.48     14.91         13.18   \n",
       "4  Strepsirrhine     Lemur catta        0.60     27.28         19.50   \n",
       "\n",
       "   perc.lactose  mass  neocortex.perc  clade_id  energy_std  \n",
       "0         67.98  1.95           55.16         0   -0.940041  \n",
       "1         63.82  2.09             NaN         0   -0.816126  \n",
       "2         69.04  2.51             NaN         0   -1.125913  \n",
       "3         71.91  1.62             NaN         0   -1.001998  \n",
       "4         53.22  2.19             NaN         0   -0.258511  "
      ]
     },
     "execution_count": 16,
     "metadata": {},
     "output_type": "execute_result"
    }
   ],
   "source": [
    "# Estandarizamos la energía\n",
    "milk_data[\"energy_std\"] = standardize(milk_data[\"kcal.per.g\"])\n",
    "milk_data.head()"
   ]
  },
  {
   "cell_type": "markdown",
   "id": "f3b02b45-8d0e-42bb-afe9-2b2ac607b71d",
   "metadata": {},
   "source": [
    "Ahora, el modelo:\n",
    "\n",
    "$$\n",
    "\\begin{align}\n",
    "\\begin{array}{lcl}\n",
    "K_i & \\sim & \\text{Normal}(\\mu_i, \\sigma) \\\\\n",
    "\\mu_i & = & \\alpha_{CLADE[i]} \\\\\n",
    "\\alpha_j & \\sim & \\text{Normal}(0, 0.5) \\quad \\text{for } j=0,1,2,3 \\\\\n",
    "\\sigma & \\sim & \\text{Exponential}(1) \\\\\n",
    "\\end{array}\n",
    "\\end{align}\n",
    "$$"
   ]
  },
  {
   "cell_type": "code",
   "execution_count": 17,
   "id": "a742218e-c661-40e6-9801-5ea8ef5ae538",
   "metadata": {},
   "outputs": [
    {
     "name": "stderr",
     "output_type": "stream",
     "text": [
      "Auto-assigning NUTS sampler...\n",
      "Initializing NUTS using jitter+adapt_diag...\n",
      "Multiprocess sampling (4 chains in 4 jobs)\n",
      "NUTS: [sigma, alpha]\n"
     ]
    },
    {
     "data": {
      "text/html": [
       "\n",
       "<style>\n",
       "    /* Turns off some styling */\n",
       "    progress {\n",
       "        /* gets rid of default border in Firefox and Opera. */\n",
       "        border: none;\n",
       "        /* Needs to be in here for Safari polyfill so background images work as expected. */\n",
       "        background-size: auto;\n",
       "    }\n",
       "    progress:not([value]), progress:not([value])::-webkit-progress-bar {\n",
       "        background: repeating-linear-gradient(45deg, #7e7e7e, #7e7e7e 10px, #5c5c5c 10px, #5c5c5c 20px);\n",
       "    }\n",
       "    .progress-bar-interrupted, .progress-bar-interrupted::-webkit-progress-bar {\n",
       "        background: #F44336;\n",
       "    }\n",
       "</style>\n"
      ],
      "text/plain": [
       "<IPython.core.display.HTML object>"
      ]
     },
     "metadata": {},
     "output_type": "display_data"
    },
    {
     "data": {
      "text/html": [
       "\n",
       "    <div>\n",
       "      <progress value='8000' class='' max='8000' style='width:300px; height:20px; vertical-align: middle;'></progress>\n",
       "      100.00% [8000/8000 00:01&lt;00:00 Sampling 4 chains, 0 divergences]\n",
       "    </div>\n",
       "    "
      ],
      "text/plain": [
       "<IPython.core.display.HTML object>"
      ]
     },
     "metadata": {},
     "output_type": "display_data"
    },
    {
     "name": "stderr",
     "output_type": "stream",
     "text": [
      "Sampling 4 chains for 1_000 tune and 1_000 draw iterations (4_000 + 4_000 draws total) took 2 seconds.\n"
     ]
    }
   ],
   "source": [
    "# Modelo (alpha tiene shape = 4)\n",
    "with pm.Model() as energy_model:\n",
    "    sigma = pm.Exponential(\"sigma\", 1)\n",
    "    alpha = pm.Normal(\"alpha\", 0, 0.5, shape=4)\n",
    "    mu = pm.Deterministic(\"mu\", alpha)\n",
    "    energy = pm.Normal(\n",
    "        \"energy\",\n",
    "        mu[milk_data[\"clade_id\"]],\n",
    "        sigma,\n",
    "        observed=milk_data[\"energy_std\"]\n",
    "    )\n",
    "\n",
    "    idata_energy = pm.sample()"
   ]
  },
  {
   "cell_type": "code",
   "execution_count": 18,
   "id": "c199ea87-2897-417b-a0fe-bfd4f40ae3af",
   "metadata": {},
   "outputs": [
    {
     "data": {
      "text/plain": [
       "array([<Axes: title={'center': '94.0% HDI'}>], dtype=object)"
      ]
     },
     "execution_count": 18,
     "metadata": {},
     "output_type": "execute_result"
    },
    {
     "data": {
      "image/png": "[encoded data removed]",
      "text/plain": [
       "<Figure size 600x440 with 1 Axes>"
      ]
     },
     "metadata": {},
     "output_type": "display_data"
    }
   ],
   "source": [
    "# Plot forest\n",
    "az.plot_forest(\n",
    "    idata_energy,\n",
    "    var_names=[\"mu\"],\n",
    "    combined=True\n",
    ")"
   ]
  },
  {
   "cell_type": "code",
   "execution_count": 19,
   "id": "9e95c4dd-aa9c-464d-b760-075499c49397",
   "metadata": {},
   "outputs": [
    {
     "data": {
      "text/plain": [
       "{'Strepsirrhine': 0, 'New World Monkey': 1, 'Old World Monkey': 2, 'Ape': 3}"
      ]
     },
     "execution_count": 19,
     "metadata": {},
     "output_type": "execute_result"
    }
   ],
   "source": [
    "clade_to_int"
   ]
  },
  {
   "cell_type": "markdown",
   "id": "48e78f1f-8a50-40f3-b5f1-44ec4d80350c",
   "metadata": {},
   "source": [
    "# Anuncios parroquiales\n",
    "\n",
    "## 1. Quiz del tema 9 el jueves 2 de octubre.\n",
    "## 2. Tarea 5 del tema 9 queda pendiente (el jueves 2 de octubre la discutimos)."
   ]
  }
 ],
 "metadata": {
  "kernelspec": {
   "display_name": "Python 3 (ipykernel)",
   "language": "python",
   "name": "python3"
  },
  "language_info": {
   "codemirror_mode": {
    "name": "ipython",
    "version": 3
   },
   "file_extension": ".py",
   "mimetype": "text/x-python",
   "name": "python",
   "nbconvert_exporter": "python",
   "pygments_lexer": "ipython3",
   "version": "3.10.12"
  }
 },
 "nbformat": 4,
 "nbformat_minor": 5
}
