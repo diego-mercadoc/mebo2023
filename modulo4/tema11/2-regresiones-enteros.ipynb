{
 "cells": [
  {
   "cell_type": "markdown",
   "id": "b611e726-7a77-4df6-893b-efe5cd3a8878",
   "metadata": {},
   "source": [
    "# Regresiones con salidas enteras\n",
    "\n",
    "Los GLMs guardan cierta relación con los modelos lineales Gaussianos, sin embargo, una gran diferencia es que la escala de los parámetros no es la misma de la variable de resultado. De hecho, la relación entre los parámetros y la variable de resultado es no lineal lo que hace complejo interpretar y entender los parámetros. En este sentido, comprender y dominar las GLMs es algo más complejo.\n",
    "\n",
    "Los GLMs más comunes y útiles son modelos de cuentas (enteros no negativos). Sin embargo, también son modelos que pueden tornarse bastante complicados. EL problema radica en lo siguiente:\n",
    "\n",
    "> Si lo que queremos predecir es una cuenta, la escala de los parámetros nunca es la escala de la salida.\n",
    "\n",
    "> **Objetivos:**\n",
    "> - Comprender los modelos de regresión binomial.\n",
    "\n",
    "> **Referencias:**\n",
    "> \n",
    "> - Statistical Rethinking: A Bayesian Course with Examples in R and Stan (2nd edition) - Richard McElreath.\n"
   ]
  },
  {
   "cell_type": "markdown",
   "id": "3a1750e9-7e01-4d86-a82c-eaed592a87c1",
   "metadata": {},
   "source": [
    "## 1. Regresión binomial\n",
    "\n",
    "Si volvemos a los módulos más fundamentales del curso, recordaremos que muchos de los ejemplos iniciales correspondían al tiro de una moneda. Como hemos visto, la moneda no es más que un caso especial de un fenómeno con dos posibilidades (presencia o ausencia de una característica de interés). Cuando en este tipo de fenómenos, estamos interesados en la cantidad de veces que la moneda cae cara (presencia de la característica), modelamos la variable como:\n",
    "\n",
    "$$\n",
    "y \\sim \\text{Binomial}(n, p),\n",
    "$$\n",
    "\n",
    "donde $y$ es una cuenta, $p$ es la probabilidad de que la moneda caiga cara (presencia de la característica), y $n$ es e número de tiros. Este no es aún un GLM, dado que no tenemos ningún predictor."
   ]
  },
  {
   "cell_type": "markdown",
   "id": "e9fc7a62-d169-40d7-86c8-dccb12eb0275",
   "metadata": {},
   "source": [
    "Hay dos tipos de GLM que usan funciones de probabilidad binomial:\n",
    "\n",
    "- **Regresión logística**: es la más común, y sucede cuando $n=1$, de forma que la variable de respuesta solo puede valer $0$ o $1$.\n",
    "- Cuando $n \\geq 1$, hablamos de una **regresión binomial agregada**. En este caso, la variable de respuesta puede tomar cualquier valor entre cero ($0$) y hasta $n$.\n",
    "\n",
    "Es importante mencionar que ambos tipos de GLM usan el enlace logit que vimos en el notebook pasado, por lo que aveces se les llama a ambos regresión logística."
   ]
  },
  {
   "cell_type": "markdown",
   "id": "4f1db47b-dcd5-479e-ae1a-2be0c5babe20",
   "metadata": {},
   "source": [
    "### Regresión logística\n",
    "\n",
    "Construiremos a partir de un ejemplo usando datos de un experimento con el objetivo de evaluar las tendencias sociales de los chimpacés.\n",
    "\n",
    "- Un chimpacé focal se sienta al final de una mesa larga con dos palancas, una a la izquierda y otra a la derecha.\n",
    "- En la mesa hay cuatro platos con comida:\n",
    "    - Los dos platos en el lado derecho de la mesa están atados a la palanca derecha por un mecanismo.\n",
    "    - Los dos platos del lado izquierdo están atadso similarmente a la palanca izquierda\n",
    "- Cuando alguna de las palancas se levanta por el animal focal, los dos platos del lado de la palanca que se levantó se deslizan hacia lados opuestos de la mesa.\n",
    "- En todos los experimentos, ambos platos del lado del animal focal contienen comida.\n",
    "- Pero solo un plato del otro lado contiene comida.\n",
    "- Por tanto, mientras ambas palancas aseguran comida para el animal focal, solo una dará comida al animal del otro lado de la mesa.\n",
    "\n",
    "Tenemos dos situaciones. En la condición *partner*, otro chimpancé es sentado al lado opuesto de la mesa. En la condición de control, el lado opuesto de la mesa está vacío. Finalmente, se alterna el lado de la mesa, derecha o izquierda, en que se ubica el plato con comida para el lado opuesto al animal focal. Esto ayuda a eliminar cualquier preferencia de mano del animal focal.\n",
    "\n",
    "En experimentos hechos con humanos, casi siempre se elige la opción que entrega comida al otro lado de la mesa, siempre que halla alguien sentado allí. La pregunta acá es si el chimpancé focal se comporta de manera similar."
   ]
  },
  {
   "cell_type": "code",
   "execution_count": 1,
   "id": "f359648b-9272-47ff-9449-9a4ae9b26c69",
   "metadata": {},
   "outputs": [],
   "source": [
    "# Importamos pandas\n",
    "import pandas as pd"
   ]
  },
  {
   "cell_type": "code",
   "execution_count": 4,
   "id": "fd259344-625d-476e-8300-dbac9dc819ef",
   "metadata": {},
   "outputs": [],
   "source": [
    "# Leemos los datos\n",
    "chimp_data = pd.read_csv(\"data/chimpanzees.csv\", sep=\";\")\n",
    "# Cambiamos la variable actor para que comience en cero\n",
    "chimp_data[\"actor\"] -= 1"
   ]
  },
  {
   "cell_type": "code",
   "execution_count": 5,
   "id": "5845281c-68e1-48f4-ab46-f3af563b464f",
   "metadata": {},
   "outputs": [
    {
     "data": {
      "text/plain": [
       "array([0, 1, 2, 3, 4, 5, 6])"
      ]
     },
     "execution_count": 5,
     "metadata": {},
     "output_type": "execute_result"
    }
   ],
   "source": [
    "chimp_data[\"actor\"].unique()"
   ]
  },
  {
   "cell_type": "code",
   "execution_count": 6,
   "id": "fec2ce22-c8eb-4936-937f-8d360cf70a65",
   "metadata": {},
   "outputs": [
    {
     "data": {
      "text/html": [
       "<div>\n",
       "<style scoped>\n",
       "    .dataframe tbody tr th:only-of-type {\n",
       "        vertical-align: middle;\n",
       "    }\n",
       "\n",
       "    .dataframe tbody tr th {\n",
       "        vertical-align: top;\n",
       "    }\n",
       "\n",
       "    .dataframe thead th {\n",
       "        text-align: right;\n",
       "    }\n",
       "</style>\n",
       "<table border=\"1\" class=\"dataframe\">\n",
       "  <thead>\n",
       "    <tr style=\"text-align: right;\">\n",
       "      <th></th>\n",
       "      <th>actor</th>\n",
       "      <th>recipient</th>\n",
       "      <th>condition</th>\n",
       "      <th>block</th>\n",
       "      <th>trial</th>\n",
       "      <th>prosoc_left</th>\n",
       "      <th>chose_prosoc</th>\n",
       "      <th>pulled_left</th>\n",
       "    </tr>\n",
       "  </thead>\n",
       "  <tbody>\n",
       "    <tr>\n",
       "      <th>0</th>\n",
       "      <td>0</td>\n",
       "      <td>NaN</td>\n",
       "      <td>0</td>\n",
       "      <td>1</td>\n",
       "      <td>2</td>\n",
       "      <td>0</td>\n",
       "      <td>1</td>\n",
       "      <td>0</td>\n",
       "    </tr>\n",
       "    <tr>\n",
       "      <th>1</th>\n",
       "      <td>0</td>\n",
       "      <td>NaN</td>\n",
       "      <td>0</td>\n",
       "      <td>1</td>\n",
       "      <td>4</td>\n",
       "      <td>0</td>\n",
       "      <td>0</td>\n",
       "      <td>1</td>\n",
       "    </tr>\n",
       "    <tr>\n",
       "      <th>2</th>\n",
       "      <td>0</td>\n",
       "      <td>NaN</td>\n",
       "      <td>0</td>\n",
       "      <td>1</td>\n",
       "      <td>6</td>\n",
       "      <td>1</td>\n",
       "      <td>0</td>\n",
       "      <td>0</td>\n",
       "    </tr>\n",
       "    <tr>\n",
       "      <th>3</th>\n",
       "      <td>0</td>\n",
       "      <td>NaN</td>\n",
       "      <td>0</td>\n",
       "      <td>1</td>\n",
       "      <td>8</td>\n",
       "      <td>0</td>\n",
       "      <td>1</td>\n",
       "      <td>0</td>\n",
       "    </tr>\n",
       "    <tr>\n",
       "      <th>4</th>\n",
       "      <td>0</td>\n",
       "      <td>NaN</td>\n",
       "      <td>0</td>\n",
       "      <td>1</td>\n",
       "      <td>10</td>\n",
       "      <td>1</td>\n",
       "      <td>1</td>\n",
       "      <td>1</td>\n",
       "    </tr>\n",
       "    <tr>\n",
       "      <th>...</th>\n",
       "      <td>...</td>\n",
       "      <td>...</td>\n",
       "      <td>...</td>\n",
       "      <td>...</td>\n",
       "      <td>...</td>\n",
       "      <td>...</td>\n",
       "      <td>...</td>\n",
       "      <td>...</td>\n",
       "    </tr>\n",
       "    <tr>\n",
       "      <th>499</th>\n",
       "      <td>6</td>\n",
       "      <td>4.0</td>\n",
       "      <td>1</td>\n",
       "      <td>6</td>\n",
       "      <td>64</td>\n",
       "      <td>1</td>\n",
       "      <td>1</td>\n",
       "      <td>1</td>\n",
       "    </tr>\n",
       "    <tr>\n",
       "      <th>500</th>\n",
       "      <td>6</td>\n",
       "      <td>6.0</td>\n",
       "      <td>1</td>\n",
       "      <td>6</td>\n",
       "      <td>66</td>\n",
       "      <td>1</td>\n",
       "      <td>1</td>\n",
       "      <td>1</td>\n",
       "    </tr>\n",
       "    <tr>\n",
       "      <th>501</th>\n",
       "      <td>6</td>\n",
       "      <td>3.0</td>\n",
       "      <td>1</td>\n",
       "      <td>6</td>\n",
       "      <td>68</td>\n",
       "      <td>0</td>\n",
       "      <td>0</td>\n",
       "      <td>1</td>\n",
       "    </tr>\n",
       "    <tr>\n",
       "      <th>502</th>\n",
       "      <td>6</td>\n",
       "      <td>7.0</td>\n",
       "      <td>1</td>\n",
       "      <td>6</td>\n",
       "      <td>70</td>\n",
       "      <td>0</td>\n",
       "      <td>0</td>\n",
       "      <td>1</td>\n",
       "    </tr>\n",
       "    <tr>\n",
       "      <th>503</th>\n",
       "      <td>6</td>\n",
       "      <td>2.0</td>\n",
       "      <td>1</td>\n",
       "      <td>6</td>\n",
       "      <td>72</td>\n",
       "      <td>0</td>\n",
       "      <td>0</td>\n",
       "      <td>1</td>\n",
       "    </tr>\n",
       "  </tbody>\n",
       "</table>\n",
       "<p>504 rows × 8 columns</p>\n",
       "</div>"
      ],
      "text/plain": [
       "     actor  recipient  condition  block  trial  prosoc_left  chose_prosoc  \\\n",
       "0        0        NaN          0      1      2            0             1   \n",
       "1        0        NaN          0      1      4            0             0   \n",
       "2        0        NaN          0      1      6            1             0   \n",
       "3        0        NaN          0      1      8            0             1   \n",
       "4        0        NaN          0      1     10            1             1   \n",
       "..     ...        ...        ...    ...    ...          ...           ...   \n",
       "499      6        4.0          1      6     64            1             1   \n",
       "500      6        6.0          1      6     66            1             1   \n",
       "501      6        3.0          1      6     68            0             0   \n",
       "502      6        7.0          1      6     70            0             0   \n",
       "503      6        2.0          1      6     72            0             0   \n",
       "\n",
       "     pulled_left  \n",
       "0              0  \n",
       "1              1  \n",
       "2              0  \n",
       "3              0  \n",
       "4              1  \n",
       "..           ...  \n",
       "499            1  \n",
       "500            1  \n",
       "501            1  \n",
       "502            1  \n",
       "503            1  \n",
       "\n",
       "[504 rows x 8 columns]"
      ]
     },
     "execution_count": 6,
     "metadata": {},
     "output_type": "execute_result"
    }
   ],
   "source": [
    "chimp_data"
   ]
  },
  {
   "cell_type": "markdown",
   "id": "56bd0210-d5cc-4f5a-9fcc-8016a880fae3",
   "metadata": {},
   "source": [
    "Nos enfocaremos en la variable `pulled_left` como variable de respuesta, usando las variables `prosoc_left` y `condition` como predictores. Todas estas variables son binarias, donde:\n",
    "\n",
    "- `pulled_left` en $1$ indica que el animal focal levantó la palanca de la izquierda.\n",
    "- `prosoc_left` en $1$ indica que la comida para el animal del otro extremo estaba atada a la palanca izquierda (opción prosocial a la izquierda).\n",
    "- `condition` en $1$ indica que había un animal del lado opuesto de la mesa.\n",
    "\n",
    "Queremos inferir qué pasa para cada combinación:\n",
    "\n",
    "| `prosoc_left` | `condition` | Explicación:                                          |\n",
    "| ------------- | ----------- | ----------------------------------------------------- |\n",
    "|       0       |      0      | Dos elementos de comida a la derecha, sin compañero   |\n",
    "|       1       |      0      | Dos elementos de comida a la izquierda, sin compañero |\n",
    "|       0       |      1      | Dos elementos de comida a la derecha, con compañero   |\n",
    "|       1       |      1      | Dos elementos de comida a la izquierda, con compañero |\n",
    "\n",
    "Como ya vimos, lo mejor en este caso es construir una variable indizadora. Podemos hacer lo siguiente:"
   ]
  },
  {
   "cell_type": "code",
   "execution_count": 7,
   "id": "e0a02ba9-cb39-4efb-afba-c42e589e2ddc",
   "metadata": {},
   "outputs": [
    {
     "data": {
      "text/html": [
       "<div>\n",
       "<style scoped>\n",
       "    .dataframe tbody tr th:only-of-type {\n",
       "        vertical-align: middle;\n",
       "    }\n",
       "\n",
       "    .dataframe tbody tr th {\n",
       "        vertical-align: top;\n",
       "    }\n",
       "\n",
       "    .dataframe thead th {\n",
       "        text-align: right;\n",
       "    }\n",
       "</style>\n",
       "<table border=\"1\" class=\"dataframe\">\n",
       "  <thead>\n",
       "    <tr style=\"text-align: right;\">\n",
       "      <th></th>\n",
       "      <th>prosoc_left</th>\n",
       "      <th>condition</th>\n",
       "    </tr>\n",
       "    <tr>\n",
       "      <th>treatment</th>\n",
       "      <th></th>\n",
       "      <th></th>\n",
       "    </tr>\n",
       "  </thead>\n",
       "  <tbody>\n",
       "    <tr>\n",
       "      <th>0</th>\n",
       "      <td>0</td>\n",
       "      <td>0</td>\n",
       "    </tr>\n",
       "    <tr>\n",
       "      <th>1</th>\n",
       "      <td>1</td>\n",
       "      <td>0</td>\n",
       "    </tr>\n",
       "    <tr>\n",
       "      <th>2</th>\n",
       "      <td>0</td>\n",
       "      <td>1</td>\n",
       "    </tr>\n",
       "    <tr>\n",
       "      <th>3</th>\n",
       "      <td>1</td>\n",
       "      <td>1</td>\n",
       "    </tr>\n",
       "  </tbody>\n",
       "</table>\n",
       "</div>"
      ],
      "text/plain": [
       "           prosoc_left  condition\n",
       "treatment                        \n",
       "0                    0          0\n",
       "1                    1          0\n",
       "2                    0          1\n",
       "3                    1          1"
      ]
     },
     "execution_count": 7,
     "metadata": {},
     "output_type": "execute_result"
    }
   ],
   "source": [
    "# Variable de tratamiento\n",
    "chimp_data[\"treatment\"] = chimp_data[\"prosoc_left\"] + 2 * chimp_data[\"condition\"]\n",
    "# Verificamos\n",
    "chimp_data.groupby(by=[\"treatment\"]).agg(\"first\")[[\"prosoc_left\", \"condition\"]]"
   ]
  },
  {
   "cell_type": "markdown",
   "id": "adab388e-2ee1-4ecd-a909-ac5dc726ebd8",
   "metadata": {},
   "source": [
    "Con este preprocesamiento, estamos listos para revisar nuestro modelo:\n",
    "\n",
    "$$\n",
    "\\begin{array}{rcl}\n",
    "L_i & \\sim & \\text{Binomial}(1, p_i) \\\\\n",
    "\\text{logit}(p_i) & = & \\alpha_{\\text{actor}[i]} + \\beta_{\\text{treatment}[i]} \\\\\n",
    "\\alpha_j & \\sim & \\text{tbd} \\\\\n",
    "\\beta_k & \\sim & \\text{tbd}\n",
    "\\end{array}\n",
    "$$\n",
    "\n",
    "donde $L$ es simplemente una variable que indica si se jaló o no la palanca izquierda. Dado que esta variable es binaria, muchas veces se define el modelo como:\n",
    "\n",
    "$$\n",
    "L_i \\sim \\text{Bernoulli}(p_i),\n",
    "$$\n",
    "\n",
    "lo que es equivalente. En cualquier caso, tenemos $7$ $\\alpha$'s y $4$ $\\beta$'s, las cuales tenemos que definir."
   ]
  },
  {
   "cell_type": "markdown",
   "id": "3bb581ab-8af0-4c87-b0c0-9fa074657bee",
   "metadata": {},
   "source": [
    "Es muy importante en este momento retomar la idea de simulación previa predictiva para la elección de las previas. Para esto, consideremos el modelo anterior con un solo parámetro $\\alpha$:\n",
    "\n",
    "$$\n",
    "\\begin{array}{rcl}\n",
    "L_i & \\sim & \\text{Binomial}(1, p_i) \\\\\n",
    "\\text{logit}(p_i) & = & \\alpha \\\\\n",
    "\\alpha & \\sim & \\text{Normal}(0, \\omega)\n",
    "\\end{array}\n",
    "$$\n",
    "\n",
    "con $\\omega > 0$.\n",
    "\n",
    "Comencemos con una previa plana $\\omega=10$:"
   ]
  },
  {
   "cell_type": "code",
   "execution_count": 8,
   "id": "4ffd2b86-b855-4c2f-bd36-17000d20825e",
   "metadata": {},
   "outputs": [
    {
     "name": "stderr",
     "output_type": "stream",
     "text": [
      "/home/esteban/anaconda3/envs/stat-rethink2-pymc_v4/lib/python3.10/site-packages/scipy/__init__.py:146: UserWarning: A NumPy version >=1.16.5 and <1.23.0 is required for this version of SciPy (detected version 1.25.2\n",
      "  warnings.warn(f\"A NumPy version >={np_minversion} and <{np_maxversion}\"\n"
     ]
    }
   ],
   "source": [
    "# Importar pymc\n",
    "import pymc as pm\n",
    "# Importar arviz\n",
    "import arviz as az"
   ]
  },
  {
   "cell_type": "code",
   "execution_count": 17,
   "id": "3f78039b-1cc7-468f-8d8f-4684ac47f783",
   "metadata": {},
   "outputs": [
    {
     "name": "stderr",
     "output_type": "stream",
     "text": [
      "Sampling: [a, pulled_left]\n"
     ]
    }
   ],
   "source": [
    "# Modelo con un solo parámetro\n",
    "with pm.Model() as simple_model:\n",
    "    a = pm.Normal(\"a\", 0, 10)\n",
    "    p = pm.Deterministic(\"p\", pm.math.invlogit(a))\n",
    "    L = pm.Bernoulli(\n",
    "        \"pulled_left\",\n",
    "        p,\n",
    "        observed=chimp_data[\"pulled_left\"].values\n",
    "    )\n",
    "\n",
    "    prior_sample = pm.sample_prior_predictive()"
   ]
  },
  {
   "cell_type": "code",
   "execution_count": 18,
   "id": "aefb67f6-635d-477f-8cb7-27878349a7fa",
   "metadata": {},
   "outputs": [],
   "source": [
    "# Importar pyplot\n",
    "from matplotlib import pyplot as plt"
   ]
  },
  {
   "cell_type": "code",
   "execution_count": 19,
   "id": "0dba3a6c-927f-4cb6-9470-817bfcad2d31",
   "metadata": {},
   "outputs": [
    {
     "data": {
      "text/plain": [
       "Text(0, 0.5, 'Density')"
      ]
     },
     "execution_count": 19,
     "metadata": {},
     "output_type": "execute_result"
    },
    {
     "data": {
      "image/png": "[encoded data removed]",
      "text/plain": [
       "<Figure size 640x480 with 1 Axes>"
      ]
     },
     "metadata": {},
     "output_type": "display_data"
    }
   ],
   "source": [
    "# Graficamos densidad de p\n",
    "az.plot_density(\n",
    "    prior_sample[\"prior\"],\n",
    "    group=\"prior\",\n",
    "    colors=[\"k\"],\n",
    "    var_names=[\"p\"],\n",
    "    point_estimate=None,\n",
    ")\n",
    "plt.xlabel(\"prior prob pull left\")\n",
    "plt.ylabel(\"Density\")"
   ]
  },
  {
   "cell_type": "markdown",
   "id": "27eb9ace-3e83-41a5-b801-bc2143c0b55f",
   "metadata": {},
   "source": [
    "Notemos que la masa de probabilidad se concentra en $0$ y $1$. Es decir, el modelo piensa (antes de ver los datos) que los chimpancés siempre jalarán la palanca, o nunca lo harán.\n",
    "\n",
    "Ahora con $\\omega = 1.5$:"
   ]
  },
  {
   "cell_type": "code",
   "execution_count": 20,
   "id": "a3de1ecf-3ead-490a-93e0-d6744f70d39f",
   "metadata": {},
   "outputs": [
    {
     "name": "stderr",
     "output_type": "stream",
     "text": [
      "Sampling: [a, pulled_left]\n"
     ]
    }
   ],
   "source": [
    "# Modelo con un solo parámetro\n",
    "with pm.Model() as simple_model_2:\n",
    "    a = pm.Normal(\"a\", 0, 1.5)\n",
    "    p = pm.Deterministic(\"p\", pm.math.invlogit(a))\n",
    "    L = pm.Bernoulli(\n",
    "        \"pulled_left\",\n",
    "        p,\n",
    "        observed=chimp_data[\"pulled_left\"].values\n",
    "    )\n",
    "\n",
    "    prior_sample_2 = pm.sample_prior_predictive()"
   ]
  },
  {
   "cell_type": "code",
   "execution_count": 21,
   "id": "6b43ce22-a0ab-482f-93ee-de19bf5abfa4",
   "metadata": {},
   "outputs": [
    {
     "data": {
      "text/plain": [
       "Text(0, 0.5, 'Density')"
      ]
     },
     "execution_count": 21,
     "metadata": {},
     "output_type": "execute_result"
    },
    {
     "data": {
      "image/png": "[encoded data removed]",
      "text/plain": [
       "<Figure size 640x480 with 1 Axes>"
      ]
     },
     "metadata": {},
     "output_type": "display_data"
    }
   ],
   "source": [
    "# Graficamos densidad de p\n",
    "az.plot_density(\n",
    "    prior_sample_2[\"prior\"],\n",
    "    group=\"prior\",\n",
    "    colors=[\"k\"],\n",
    "    var_names=[\"p\"],\n",
    "    point_estimate=None,\n",
    ")\n",
    "plt.xlabel(\"prior prob pull left\")\n",
    "plt.ylabel(\"Density\")"
   ]
  },
  {
   "cell_type": "markdown",
   "id": "4a612d62-4e90-49d7-9914-3a6ea68fbe37",
   "metadata": {},
   "source": [
    "Mucho mejor.\n",
    "\n",
    "Ahora necesitamos determinar la previa para el efecto del tratamiento $\\beta$. Hagamos el mismo experimento que antes:"
   ]
  },
  {
   "cell_type": "code",
   "execution_count": 22,
   "id": "f93420e1-c0a4-4407-acb3-a82fc2e67ecc",
   "metadata": {},
   "outputs": [],
   "source": [
    "# Importar scipy.special.expit as logistic\n",
    "from scipy.special import expit as logistic\n",
    "# Importar numpy\n",
    "import numpy as np"
   ]
  },
  {
   "cell_type": "code",
   "execution_count": 23,
   "id": "dcaed5a9-b497-4587-8181-a19a826061d6",
   "metadata": {},
   "outputs": [
    {
     "name": "stderr",
     "output_type": "stream",
     "text": [
      "Sampling: [a, b, pulled_left]\n"
     ]
    }
   ],
   "source": [
    "# Modelo\n",
    "with pm.Model() as simple_model_3:\n",
    "    a = pm.Normal(\"a\", 0, 1.5)\n",
    "    b = pm.Normal(\"b\", 0, 10, shape=4)\n",
    "    p = pm.Deterministic(\n",
    "        \"p\",\n",
    "        pm.math.invlogit(a + b[chimp_data[\"treatment\"].values])\n",
    "    )\n",
    "    L = pm.Bernoulli(\n",
    "        \"pulled_left\",\n",
    "        p,\n",
    "        observed=chimp_data[\"pulled_left\"].values\n",
    "    )\n",
    "\n",
    "    prior_sample_3 = pm.sample_prior_predictive()"
   ]
  },
  {
   "cell_type": "markdown",
   "id": "a43661e8-ad61-4f26-b8c9-5c4b2e6f1fcf",
   "metadata": {},
   "source": [
    "En este caso tenemos una $\\beta$ para cada uno de los tratamientos:\n",
    "\n",
    "| `prosoc_left` | `condition` | Explicación:                                          |\n",
    "| ------------- | ----------- | ----------------------------------------------------- |\n",
    "|       0       |      0      | Dos elementos de comida a la derecha, sin compañero   |\n",
    "|       1       |      0      | Dos elementos de comida a la izquierda, sin compañero |\n",
    "|       0       |      1      | Dos elementos de comida a la derecha, con compañero   |\n",
    "|       1       |      1      | Dos elementos de comida a la izquierda, con compañero |\n",
    "\n",
    "Podemos obtener las $p$ correspondientes a cada tratamiento y evaluar su diferencia:"
   ]
  },
  {
   "cell_type": "code",
   "execution_count": 25,
   "id": "3b7faa49-e311-4ad1-a085-0569d58d3fbb",
   "metadata": {},
   "outputs": [
    {
     "data": {
      "text/plain": [
       "array([[<Axes: title={'center': 'x'}>]], dtype=object)"
      ]
     },
     "execution_count": 25,
     "metadata": {},
     "output_type": "execute_result"
    },
    {
     "data": {
      "image/png": "[encoded data removed]",
      "text/plain": [
       "<Figure size 640x480 with 1 Axes>"
      ]
     },
     "metadata": {},
     "output_type": "display_data"
    }
   ],
   "source": [
    "p_treat0, p_treat1 = (\n",
    "    logistic(prior_sample_3[\"prior\"][\"a\"] + prior_sample_3[\"prior\"][\"b\"].sel(b_dim_0=0)),\n",
    "    logistic(prior_sample_3[\"prior\"][\"a\"] + prior_sample_3[\"prior\"][\"b\"].sel(b_dim_0=1)),\n",
    ")\n",
    "\n",
    "az.plot_density(\n",
    "    np.abs(p_treat0 - p_treat1).values,\n",
    "    group=\"prior\",\n",
    "    colors=[\"k\"],\n",
    "    point_estimate=None\n",
    ")"
   ]
  },
  {
   "cell_type": "markdown",
   "id": "cda9d1c6-c2e8-4e06-a048-2bc6f45502e8",
   "metadata": {},
   "source": [
    "Igual que antes, con la previa plana, obtenemos concentración de masa de probabilidad en $0$ y $1$. Ahora intentemos con $\\omega=0.5$:"
   ]
  },
  {
   "cell_type": "code",
   "execution_count": 26,
   "id": "2e467f3f-ed7a-4dd7-8660-b4de8cc96a75",
   "metadata": {},
   "outputs": [
    {
     "name": "stderr",
     "output_type": "stream",
     "text": [
      "Sampling: [a, b, pulled_left]\n"
     ]
    }
   ],
   "source": [
    "# Modelo\n",
    "with pm.Model() as simple_model_4:\n",
    "    a = pm.Normal(\"a\", 0, 1.5)\n",
    "    b = pm.Normal(\"b\", 0, 0.5, shape=4)\n",
    "    p = pm.Deterministic(\n",
    "        \"p\",\n",
    "        pm.math.invlogit(a + b[chimp_data[\"treatment\"].values])\n",
    "    )\n",
    "    L = pm.Bernoulli(\n",
    "        \"pulled_left\",\n",
    "        p,\n",
    "        observed=chimp_data[\"pulled_left\"].values\n",
    "    )\n",
    "\n",
    "    prior_sample_4 = pm.sample_prior_predictive()"
   ]
  },
  {
   "cell_type": "code",
   "execution_count": 28,
   "id": "c082e14c-4726-4af7-ac29-4b8ee8562c18",
   "metadata": {},
   "outputs": [
    {
     "data": {
      "text/plain": [
       "array([[<Axes: title={'center': 'x'}>]], dtype=object)"
      ]
     },
     "execution_count": 28,
     "metadata": {},
     "output_type": "execute_result"
    },
    {
     "data": {
      "image/png": "[encoded data removed]",
      "text/plain": [
       "<Figure size 640x480 with 1 Axes>"
      ]
     },
     "metadata": {},
     "output_type": "display_data"
    }
   ],
   "source": [
    "p_treat0, p_treat1 = (\n",
    "    logistic(prior_sample_4[\"prior\"][\"a\"] + prior_sample_4[\"prior\"][\"b\"].sel(b_dim_0=0)),\n",
    "    logistic(prior_sample_4[\"prior\"][\"a\"] + prior_sample_4[\"prior\"][\"b\"].sel(b_dim_0=1)),\n",
    ")\n",
    "\n",
    "az.plot_density(\n",
    "    np.abs(p_treat0 - p_treat1).values,\n",
    "    group=\"prior\",\n",
    "    colors=[\"k\"],\n",
    "    point_estimate=None\n",
    ")"
   ]
  },
  {
   "cell_type": "markdown",
   "id": "17a7e8a9-c00a-4db9-a320-a9d8733e38bd",
   "metadata": {},
   "source": [
    "Observamos estas previas están concentradas en bajas diferencias absolutas. La diferencia priomedio es:"
   ]
  },
  {
   "cell_type": "code",
   "execution_count": 30,
   "id": "8c855cb6-591b-4676-94dd-ed188f574fed",
   "metadata": {},
   "outputs": [
    {
     "data": {
      "text/plain": [
       "array(0.10184142)"
      ]
     },
     "execution_count": 30,
     "metadata": {},
     "output_type": "execute_result"
    }
   ],
   "source": [
    "# Diferencia absoluta promedio\n",
    "np.abs(p_treat0 - p_treat1).mean().values"
   ]
  },
  {
   "cell_type": "markdown",
   "id": "f3c8d26e-8345-47cf-87b5-cba557f9a801",
   "metadata": {},
   "source": [
    "Al rededor de 10%. Diferencias grandes son menos plausibles.\n",
    "\n",
    "Con esto tenemos nuestro modelo completo, y podemos dar el paso de ejecutarlo a cabalidad:"
   ]
  },
  {
   "cell_type": "code",
   "execution_count": 32,
   "id": "556cefd8-17d5-403f-91bd-d1afc36fd44a",
   "metadata": {},
   "outputs": [
    {
     "name": "stderr",
     "output_type": "stream",
     "text": [
      "Auto-assigning NUTS sampler...\n",
      "Initializing NUTS using jitter+adapt_diag...\n",
      "Multiprocess sampling (4 chains in 4 jobs)\n",
      "NUTS: [a, b]\n"
     ]
    },
    {
     "data": {
      "text/html": [
       "\n",
       "<style>\n",
       "    /* Turns off some styling */\n",
       "    progress {\n",
       "        /* gets rid of default border in Firefox and Opera. */\n",
       "        border: none;\n",
       "        /* Needs to be in here for Safari polyfill so background images work as expected. */\n",
       "        background-size: auto;\n",
       "    }\n",
       "    progress:not([value]), progress:not([value])::-webkit-progress-bar {\n",
       "        background: repeating-linear-gradient(45deg, #7e7e7e, #7e7e7e 10px, #5c5c5c 10px, #5c5c5c 20px);\n",
       "    }\n",
       "    .progress-bar-interrupted, .progress-bar-interrupted::-webkit-progress-bar {\n",
       "        background: #F44336;\n",
       "    }\n",
       "</style>\n"
      ],
      "text/plain": [
       "<IPython.core.display.HTML object>"
      ]
     },
     "metadata": {},
     "output_type": "display_data"
    },
    {
     "data": {
      "text/html": [
       "\n",
       "    <div>\n",
       "      <progress value='8000' class='' max='8000' style='width:300px; height:20px; vertical-align: middle;'></progress>\n",
       "      100.00% [8000/8000 00:02&lt;00:00 Sampling 4 chains, 0 divergences]\n",
       "    </div>\n",
       "    "
      ],
      "text/plain": [
       "<IPython.core.display.HTML object>"
      ]
     },
     "metadata": {},
     "output_type": "display_data"
    },
    {
     "name": "stderr",
     "output_type": "stream",
     "text": [
      "Sampling 4 chains for 1_000 tune and 1_000 draw iterations (4_000 + 4_000 draws total) took 3 seconds.\n"
     ]
    }
   ],
   "source": [
    "# Modelo final\n",
    "with pm.Model() as final_model:\n",
    "    a = pm.Normal(\"a\", 0, 1.5, shape=7)\n",
    "    b = pm.Normal(\"b\", 0, 0.5, shape=4)\n",
    "    p = pm.Deterministic(\n",
    "        \"p\",\n",
    "        pm.math.invlogit(\n",
    "            a[chimp_data[\"actor\"].values]\n",
    "            + b[chimp_data[\"treatment\"].values]\n",
    "        )\n",
    "    )\n",
    "    L = pm.Bernoulli(\n",
    "        \"pulled_left\",\n",
    "        p,\n",
    "        observed=chimp_data[\"pulled_left\"].values\n",
    "    )\n",
    "\n",
    "    idata_final = pm.sample()"
   ]
  },
  {
   "cell_type": "code",
   "execution_count": 33,
   "id": "d36ae5fb-8491-48a9-9003-4f775657e14f",
   "metadata": {},
   "outputs": [
    {
     "data": {
      "text/html": [
       "<div>\n",
       "<style scoped>\n",
       "    .dataframe tbody tr th:only-of-type {\n",
       "        vertical-align: middle;\n",
       "    }\n",
       "\n",
       "    .dataframe tbody tr th {\n",
       "        vertical-align: top;\n",
       "    }\n",
       "\n",
       "    .dataframe thead th {\n",
       "        text-align: right;\n",
       "    }\n",
       "</style>\n",
       "<table border=\"1\" class=\"dataframe\">\n",
       "  <thead>\n",
       "    <tr style=\"text-align: right;\">\n",
       "      <th></th>\n",
       "      <th>mean</th>\n",
       "      <th>sd</th>\n",
       "      <th>hdi_5.5%</th>\n",
       "      <th>hdi_94.5%</th>\n",
       "    </tr>\n",
       "  </thead>\n",
       "  <tbody>\n",
       "    <tr>\n",
       "      <th>a[0]</th>\n",
       "      <td>-0.465</td>\n",
       "      <td>0.327</td>\n",
       "      <td>-0.988</td>\n",
       "      <td>0.063</td>\n",
       "    </tr>\n",
       "    <tr>\n",
       "      <th>a[1]</th>\n",
       "      <td>3.897</td>\n",
       "      <td>0.782</td>\n",
       "      <td>2.581</td>\n",
       "      <td>5.039</td>\n",
       "    </tr>\n",
       "    <tr>\n",
       "      <th>a[2]</th>\n",
       "      <td>-0.755</td>\n",
       "      <td>0.338</td>\n",
       "      <td>-1.269</td>\n",
       "      <td>-0.189</td>\n",
       "    </tr>\n",
       "    <tr>\n",
       "      <th>a[3]</th>\n",
       "      <td>-0.758</td>\n",
       "      <td>0.326</td>\n",
       "      <td>-1.286</td>\n",
       "      <td>-0.260</td>\n",
       "    </tr>\n",
       "    <tr>\n",
       "      <th>a[4]</th>\n",
       "      <td>-0.457</td>\n",
       "      <td>0.330</td>\n",
       "      <td>-0.959</td>\n",
       "      <td>0.089</td>\n",
       "    </tr>\n",
       "    <tr>\n",
       "      <th>a[5]</th>\n",
       "      <td>0.470</td>\n",
       "      <td>0.326</td>\n",
       "      <td>-0.052</td>\n",
       "      <td>0.977</td>\n",
       "    </tr>\n",
       "    <tr>\n",
       "      <th>a[6]</th>\n",
       "      <td>1.944</td>\n",
       "      <td>0.416</td>\n",
       "      <td>1.309</td>\n",
       "      <td>2.611</td>\n",
       "    </tr>\n",
       "    <tr>\n",
       "      <th>b[0]</th>\n",
       "      <td>-0.035</td>\n",
       "      <td>0.285</td>\n",
       "      <td>-0.477</td>\n",
       "      <td>0.418</td>\n",
       "    </tr>\n",
       "    <tr>\n",
       "      <th>b[1]</th>\n",
       "      <td>0.494</td>\n",
       "      <td>0.284</td>\n",
       "      <td>0.042</td>\n",
       "      <td>0.960</td>\n",
       "    </tr>\n",
       "    <tr>\n",
       "      <th>b[2]</th>\n",
       "      <td>-0.377</td>\n",
       "      <td>0.283</td>\n",
       "      <td>-0.816</td>\n",
       "      <td>0.091</td>\n",
       "    </tr>\n",
       "    <tr>\n",
       "      <th>b[3]</th>\n",
       "      <td>0.380</td>\n",
       "      <td>0.282</td>\n",
       "      <td>-0.057</td>\n",
       "      <td>0.841</td>\n",
       "    </tr>\n",
       "  </tbody>\n",
       "</table>\n",
       "</div>"
      ],
      "text/plain": [
       "       mean     sd  hdi_5.5%  hdi_94.5%\n",
       "a[0] -0.465  0.327    -0.988      0.063\n",
       "a[1]  3.897  0.782     2.581      5.039\n",
       "a[2] -0.755  0.338    -1.269     -0.189\n",
       "a[3] -0.758  0.326    -1.286     -0.260\n",
       "a[4] -0.457  0.330    -0.959      0.089\n",
       "a[5]  0.470  0.326    -0.052      0.977\n",
       "a[6]  1.944  0.416     1.309      2.611\n",
       "b[0] -0.035  0.285    -0.477      0.418\n",
       "b[1]  0.494  0.284     0.042      0.960\n",
       "b[2] -0.377  0.283    -0.816      0.091\n",
       "b[3]  0.380  0.282    -0.057      0.841"
      ]
     },
     "execution_count": 33,
     "metadata": {},
     "output_type": "execute_result"
    }
   ],
   "source": [
    "# Summary\n",
    "az.summary(\n",
    "    idata_final,\n",
    "    kind=\"stats\",\n",
    "    hdi_prob=0.89,\n",
    "    var_names=[\"a\", \"b\"]\n",
    ")"
   ]
  },
  {
   "cell_type": "markdown",
   "id": "ee3611a2-b04b-4d4c-8f20-5b5380fd3435",
   "metadata": {},
   "source": [
    "En este punto tendremos que trabajar un poco para interpretar estos parámetros.\n",
    "\n",
    "Los primeros 7 parámetros son los \"interceptos\" únicos de cada chimpancé. Cada uno de ellos expresa la tendancia natural de cada animal para jalar la palanca izquierda:"
   ]
  },
  {
   "cell_type": "code",
   "execution_count": 34,
   "id": "4ddd0968-5f0d-49a6-beb4-582edee0940f",
   "metadata": {},
   "outputs": [
    {
     "data": {
      "image/png": "[encoded data removed]",
      "text/plain": [
       "<Figure size 600x470 with 1 Axes>"
      ]
     },
     "metadata": {},
     "output_type": "display_data"
    }
   ],
   "source": [
    "# Plot forest\n",
    "az.plot_forest(\n",
    "    idata_final,\n",
    "    var_names=[\"a\"],\n",
    "    transform=logistic,\n",
    "    combined=True,\n",
    "    hdi_prob=0.89\n",
    ");"
   ]
  },
  {
   "cell_type": "markdown",
   "id": "56b8942c-7fea-439d-9082-b798d2f4f527",
   "metadata": {},
   "source": [
    "Observamos que los chimpancés 0, 2, 3, y 4 tienen una preferencia sobre la palanca derecha. Por otra parte los chimpancés 1 y 6 prefieren la palanca izquierda. El chimpancé 1 tiene una preferencia total mente marcada. En efecto, si observamos los datos:"
   ]
  },
  {
   "cell_type": "code",
   "execution_count": 35,
   "id": "a0886b76-7c69-4c25-9eb8-178e90223954",
   "metadata": {},
   "outputs": [
    {
     "data": {
      "text/plain": [
       "array([1])"
      ]
     },
     "execution_count": 35,
     "metadata": {},
     "output_type": "execute_result"
    }
   ],
   "source": [
    "# Datos de palanca para actor 1\n",
    "chimp_data.loc[chimp_data[\"actor\"] == 1, \"pulled_left\"].unique()"
   ]
  },
  {
   "cell_type": "markdown",
   "id": "1691e6d3-1a86-483d-bc64-d4d70304816c",
   "metadata": {},
   "source": [
    "Observamos que hay diferencias muy marcadas entre los actores en sus tendencias naturales de qué palanca levantar. Este tipo de situaciones hacen complejo el análisis de experimentos sociales."
   ]
  },
  {
   "cell_type": "markdown",
   "id": "ecccf07a-e109-418c-826a-5f1f2fc33c36",
   "metadata": {},
   "source": [
    "Ahora, analicemos el efecto de los tratamientos:\n",
    "\n",
    "| `prosoc_left` | `condition` | Explicación:                                          |\n",
    "| ------------- | ----------- | ----------------------------------------------------- |\n",
    "|       0       |      0      | Dos elementos de comida a la derecha, sin compañero   |\n",
    "|       1       |      0      | Dos elementos de comida a la izquierda, sin compañero |\n",
    "|       0       |      1      | Dos elementos de comida a la derecha, con compañero   |\n",
    "|       1       |      1      | Dos elementos de comida a la izquierda, con compañero |"
   ]
  },
  {
   "cell_type": "code",
   "execution_count": 36,
   "id": "dcbe6298-9dc3-4f4a-aadf-023bf422efab",
   "metadata": {},
   "outputs": [
    {
     "data": {
      "image/png": "[encoded data removed]",
      "text/plain": [
       "<Figure size 600x440 with 1 Axes>"
      ]
     },
     "metadata": {},
     "output_type": "display_data"
    }
   ],
   "source": [
    "# Plot forest\n",
    "az.plot_forest(\n",
    "    idata_final,\n",
    "    var_names=[\"b\"],\n",
    "    transform=logistic,\n",
    "    combined=True,\n",
    "    hdi_prob=0.89\n",
    ");\n",
    "plt.yticks(labels=[\"R/N\", \"L/N\", \"R/P\", \"L/P\"], ticks=range(3, -1, -1));"
   ]
  },
  {
   "cell_type": "markdown",
   "id": "1783d7ba-ca72-461b-882d-8987828add08",
   "metadata": {},
   "source": [
    "En este caso, las etiquetas de los tratamientos indican el lado donde se encuentran los dos platos de comida (opción pro-social) y si hay un compañero del otro lado. Por ejemplo, R/N significa que los dos platos de comida están del lado derecho y que no hay compañero.\n",
    "\n",
    "Recordemos que la expectativa está en encontrar evidencia si los chimpancés eligen la opción pro-social (compartir comida) cuando un compañero está presente. Esto implica comparar $\\beta_0$ (R/N) con $\\beta_2$ (R/P) y $\\beta_1$ (L/N) con $\\beta_3$ (L/P):"
   ]
  },
  {
   "cell_type": "code",
   "execution_count": 37,
   "id": "927e398a-c927-408e-90f3-02f3e82a3658",
   "metadata": {},
   "outputs": [
    {
     "data": {
      "image/png": "[encoded data removed]",
      "text/plain": [
       "<Figure size 600x520 with 1 Axes>"
      ]
     },
     "metadata": {},
     "output_type": "display_data"
    }
   ],
   "source": [
    "db02 = (\n",
    "    idata_final.posterior[\"b\"].sel(b_dim_0=0)\n",
    "    - idata_final.posterior[\"b\"].sel(b_dim_0=2)\n",
    ")\n",
    "db13 = (\n",
    "    idata_final.posterior[\"b\"].sel(b_dim_0=1)\n",
    "    - idata_final.posterior[\"b\"].sel(b_dim_0=3)\n",
    ")\n",
    "az.plot_forest(\n",
    "    [db02.values, db13.values],\n",
    "    model_names=[\"diff-np-right\", \"diff-np-left\"],\n",
    "    combined=True,\n",
    "    hdi_prob=0.89\n",
    ");"
   ]
  },
  {
   "cell_type": "markdown",
   "id": "65d71202-de37-4744-b35c-b010fe0d5d21",
   "metadata": {},
   "source": [
    "Acá lo que observamos es:\n",
    "\n",
    "> `diff-np-right`: corresponde a la diferencia entre no compañero/compañero cuando la comida está a la derecha.\n",
    "\n",
    "En este caso, una diferencia más grande (positiva) evidenciaría que los chimpancés levantaron más **la palanca derecha** en la presencia de un compañero. Vemos una débil evidencia de que la diferencia es positiva, pero el intervalo de compatibilidad es bastante amplio."
   ]
  },
  {
   "cell_type": "markdown",
   "id": "c1672097-ab29-4082-bd53-a00e3c46a6ef",
   "metadata": {},
   "source": [
    "Del otro lado:\n",
    "\n",
    "> `diff-np-left`: corresponde a la diferencia entre no compañero/compañero cuando la comida está a la izquierda.\n",
    "\n",
    "En este caso, una diferencia más pequeña (negativa) evidenciaría que los chimpancés levantaron más **la palanca izquierda** en la presencia de un compañero. Este no es el caso. Vemos que el intervalo de compatibilidad es amplio, y casi centrado en cero."
   ]
  }
 ],
 "metadata": {
  "kernelspec": {
   "display_name": "Python 3 (ipykernel)",
   "language": "python",
   "name": "python3"
  },
  "language_info": {
   "codemirror_mode": {
    "name": "ipython",
    "version": 3
   },
   "file_extension": ".py",
   "mimetype": "text/x-python",
   "name": "python",
   "nbconvert_exporter": "python",
   "pygments_lexer": "ipython3",
   "version": "3.10.12"
  }
 },
 "nbformat": 4,
 "nbformat_minor": 5
}
